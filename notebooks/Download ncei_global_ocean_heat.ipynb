{
 "cells": [
  {
   "cell_type": "code",
   "execution_count": 16,
   "id": "d803e9db-5d90-4c08-b05e-e1e40f8b3272",
   "metadata": {},
   "outputs": [],
   "source": [
    "import pandas as pd\n",
    "import os"
   ]
  },
  {
   "cell_type": "code",
   "execution_count": 18,
   "id": "58839473-fbef-4db1-9548-d4c5fbf64534",
   "metadata": {},
   "outputs": [],
   "source": [
    "if not os.path.isfile(\"../data/ncei_global_ocean_heat.csv\"):\n",
    "    url = \"https://www.ncei.noaa.gov/data/oceans/woa/DATA_ANALYSIS/3M_HEAT_CONTENT/DATA/basin/onemonth/ohc_levitus_climdash_monthly.csv\"\n",
    "    #https://www.ncei.noaa.gov/access/global-ocean-heat-content/basin_heat_data_monthly.html\n",
    "    df = pd.read_csv(url, header=None)\n",
    "    df.rename(columns={0:\"Date\",1:\"Temp\"}, inplace=True)\n",
    "    df.Date = pd.to_datetime(df.Date)\n",
    "    df = df.set_index(\"Date\")\n",
    "    df.to_csv(\"../data/ncei_global_ocean_heat.csv\")\n",
    "else: \n",
    "    df = pd.read_csv(\"../data/ncei_global_ocean_heat.csv\", index_col=[\"Date\"], parse_dates=True)"
   ]
  }
 ],
 "metadata": {
  "kernelspec": {
   "display_name": "Python 3 (ipykernel)",
   "language": "python",
   "name": "python3"
  },
  "language_info": {
   "codemirror_mode": {
    "name": "ipython",
    "version": 3
   },
   "file_extension": ".py",
   "mimetype": "text/x-python",
   "name": "python",
   "nbconvert_exporter": "python",
   "pygments_lexer": "ipython3",
   "version": "3.12.2"
  }
 },
 "nbformat": 4,
 "nbformat_minor": 5
}
