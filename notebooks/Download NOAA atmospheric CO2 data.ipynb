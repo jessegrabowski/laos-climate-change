{
 "cells": [
  {
   "cell_type": "code",
   "execution_count": 38,
   "id": "d803e9db-5d90-4c08-b05e-e1e40f8b3272",
   "metadata": {},
   "outputs": [],
   "source": [
    "import pandas as pd\n",
    "import os"
   ]
  },
  {
   "cell_type": "code",
   "execution_count": 43,
   "id": "58839473-fbef-4db1-9548-d4c5fbf64534",
   "metadata": {},
   "outputs": [],
   "source": [
    "if not os.path.isfile(\"../data/co2_ppm.csv\"):\n",
    "    url = \"https://gml.noaa.gov/aftp/products/trends/co2/co2_mm_gl.csv\"\n",
    "    df = pd.read_csv(url, skiprows=38)\n",
    "    df[\"day\"] = 1\n",
    "    df[\"Date\"] = pd.to_datetime(dict(year=df.year, month=df.month, day=df.day))\n",
    "    df = df.set_index(\"Date\")\n",
    "    df.rename(columns={\"average\":\"co2_ppm\"}, inplace=True)\n",
    "    df = df[[\"co2_ppm\"]]\n",
    "    df.to_csv(\"../data/co2_ppm.csv\")\n",
    "else: \n",
    "    df = pd.read_csv(\"../data/co2_ppm.csv\", index_col=[\"Date\"], parse_dates=True)"
   ]
  }
 ],
 "metadata": {
  "kernelspec": {
   "display_name": "Python 3 (ipykernel)",
   "language": "python",
   "name": "python3"
  },
  "language_info": {
   "codemirror_mode": {
    "name": "ipython",
    "version": 3
   },
   "file_extension": ".py",
   "mimetype": "text/x-python",
   "name": "python",
   "nbconvert_exporter": "python",
   "pygments_lexer": "ipython3",
   "version": "3.12.2"
  }
 },
 "nbformat": 4,
 "nbformat_minor": 5
}
