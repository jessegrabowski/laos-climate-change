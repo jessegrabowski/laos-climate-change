{
 "cells": [
  {
   "cell_type": "code",
   "execution_count": 1,
   "id": "c75f13a7-9254-45af-89da-fc569065845e",
   "metadata": {},
   "outputs": [],
   "source": [
    "import sys\n",
    "sys.path.append(\"..\")\n",
    "\n",
    "import pandas as pd\n",
    "from pandas.api.types import CategoricalDtype\n",
    "import numpy as np\n",
    "import os\n",
    "from os.path import exists\n",
    "\n",
    "import pymc as pm\n",
    "import pytensor\n",
    "import pytensor.tensor as pt\n",
    "import matplotlib.pyplot as plt\n",
    "import seaborn as sns\n",
    "import arviz as az\n",
    "\n",
    "config = {\n",
    "    'figure.figsize':(14,4),\n",
    "    'figure.constrained_layout.use':True,\n",
    "    'figure.facecolor':'w',\n",
    "    'axes.grid':True,\n",
    "    'grid.linewidth':0.5,\n",
    "    'grid.linestyle':'--',\n",
    "    'axes.spines.top':False,\n",
    "    'axes.spines.bottom':False,\n",
    "    'axes.spines.left':False,\n",
    "    'axes.spines.right':False\n",
    "}\n",
    "\n",
    "plt.rcParams.update(config)\n",
    "\n",
    "SEED = sum(list(map(ord, 'climate_bayes')))\n",
    "rng = np.random.default_rng(SEED)"
   ]
  },
  {
   "cell_type": "code",
   "execution_count": 2,
   "id": "daf945a1-3e7e-4107-a4ff-1dfde0013741",
   "metadata": {},
   "outputs": [],
   "source": [
    "from laos_gggi.combine_data import final_data"
   ]
  },
  {
   "cell_type": "markdown",
   "id": "f01f01fb-ecfa-4d65-8979-0eab217eea71",
   "metadata": {},
   "source": [
    "# Data load"
   ]
  },
  {
   "cell_type": "code",
   "execution_count": 3,
   "id": "40f9c4f7-4b7f-484a-92b1-b94a0c0f5d8c",
   "metadata": {},
   "outputs": [],
   "source": [
    "#Load data\n",
    "data = final_data()\n",
    "df_clim = data[\"df_time_series\"][[\"co2\", \"Temp\", \"precip\"]].iloc[1:-1] \n",
    "emdat_damage = data[\"emdat_damage\"][\"Total_Damage_Adjusted\"]\n",
    "development_indicators = data[\"wb_data\"]\n",
    "\n",
    "#Fill NaN values\n",
    "emdat_damage_filled = emdat_damage.fillna(0)\n"
   ]
  },
  {
   "cell_type": "code",
   "execution_count": null,
   "id": "224a4c11-8682-4753-a4c4-46dbdf7b5728",
   "metadata": {},
   "outputs": [],
   "source": []
  }
 ],
 "metadata": {
  "kernelspec": {
   "display_name": "Python 3 (ipykernel)",
   "language": "python",
   "name": "python3"
  },
  "language_info": {
   "codemirror_mode": {
    "name": "ipython",
    "version": 3
   },
   "file_extension": ".py",
   "mimetype": "text/x-python",
   "name": "python",
   "nbconvert_exporter": "python",
   "pygments_lexer": "ipython3",
   "version": "3.12.3"
  }
 },
 "nbformat": 4,
 "nbformat_minor": 5
}
