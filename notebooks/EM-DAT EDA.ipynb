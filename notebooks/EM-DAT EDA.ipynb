{
 "cells": [
  {
   "cell_type": "code",
   "id": "8b0d5cf4-7d6d-4336-845d-3c91c024eead",
   "metadata": {
    "ExecuteTime": {
     "end_time": "2024-05-18T03:54:56.223312Z",
     "start_time": "2024-05-18T03:54:56.010302Z"
    }
   },
   "source": [
    "import pandas as pd"
   ],
   "outputs": [],
   "execution_count": 1
  },
  {
   "cell_type": "code",
   "id": "66dc3499-4959-4b3e-a542-9f6591cb80b8",
   "metadata": {
    "ExecuteTime": {
     "end_time": "2024-05-18T03:55:10.531777Z",
     "start_time": "2024-05-18T03:54:56.224736Z"
    }
   },
   "source": "df = pd.read_excel('../data/emdat.xlsx', sheet_name='EM-DAT Data')",
   "outputs": [],
   "execution_count": 2
  },
  {
   "cell_type": "code",
   "id": "d0f0b62a-5783-476f-9d4b-c0ca9d9c36d2",
   "metadata": {
    "ExecuteTime": {
     "end_time": "2024-05-18T03:55:10.535794Z",
     "start_time": "2024-05-18T03:55:10.533022Z"
    }
   },
   "source": [
    "types_to_consider = [\n",
    "    'Drought', \n",
    "    'Earthquake', \n",
    "    'Extreme temperature', \n",
    "    'Flood', \n",
    "    'Storm', \n",
    "    'Wildfire',\n",
    "    'Volcanic activity',\n",
    "    'Mass Movement (Dry)',\n",
    "    'Mass Movement (Wet)'\n",
    "]"
   ],
   "outputs": [],
   "execution_count": 3
  },
  {
   "cell_type": "code",
   "id": "1217ddf6-e521-4cc7-af5d-6c095a80451e",
   "metadata": {
    "ExecuteTime": {
     "end_time": "2024-05-18T03:55:10.603407Z",
     "start_time": "2024-05-18T03:55:10.537716Z"
    }
   },
   "source": [
    "data = (df.query('`Disaster Type` in @types_to_consider')\n",
    "          .groupby(['Disaster Type', 'ISO', 'Start Year'])\n",
    "          .size()\n",
    "          .unstack('Disaster Type')\n",
    "          .fillna(0)\n",
    "          .reset_index())\n",
    "data"
   ],
   "outputs": [
    {
     "data": {
      "text/plain": [
       "Disaster Type  ISO  Start Year  Drought  Earthquake  Extreme temperature  \\\n",
       "0              AFG        1954      0.0         1.0                  0.0   \n",
       "1              AFG        1956      0.0         1.0                  0.0   \n",
       "2              AFG        1963      0.0         0.0                  0.0   \n",
       "3              AFG        1969      1.0         0.0                  0.0   \n",
       "4              AFG        1971      1.0         0.0                  0.0   \n",
       "...            ...         ...      ...         ...                  ...   \n",
       "5788           ZWE        2017      1.0         0.0                  0.0   \n",
       "5789           ZWE        2019      0.0         0.0                  0.0   \n",
       "5790           ZWE        2021      1.0         0.0                  0.0   \n",
       "5791           ZWE        2022      0.0         0.0                  0.0   \n",
       "5792           ZWE        2023      0.0         0.0                  0.0   \n",
       "\n",
       "Disaster Type  Flood  Storm  Volcanic activity  Wildfire  \n",
       "0                0.0    0.0                0.0       0.0  \n",
       "1                1.0    0.0                0.0       0.0  \n",
       "2                1.0    0.0                0.0       0.0  \n",
       "3                0.0    0.0                0.0       0.0  \n",
       "4                0.0    0.0                0.0       0.0  \n",
       "...              ...    ...                ...       ...  \n",
       "5788             0.0    1.0                0.0       0.0  \n",
       "5789             1.0    1.0                0.0       0.0  \n",
       "5790             0.0    1.0                0.0       0.0  \n",
       "5791             1.0    1.0                0.0       0.0  \n",
       "5792             0.0    1.0                0.0       0.0  \n",
       "\n",
       "[5793 rows x 9 columns]"
      ],
      "text/html": [
       "<div>\n",
       "<style scoped>\n",
       "    .dataframe tbody tr th:only-of-type {\n",
       "        vertical-align: middle;\n",
       "    }\n",
       "\n",
       "    .dataframe tbody tr th {\n",
       "        vertical-align: top;\n",
       "    }\n",
       "\n",
       "    .dataframe thead th {\n",
       "        text-align: right;\n",
       "    }\n",
       "</style>\n",
       "<table border=\"1\" class=\"dataframe\">\n",
       "  <thead>\n",
       "    <tr style=\"text-align: right;\">\n",
       "      <th>Disaster Type</th>\n",
       "      <th>ISO</th>\n",
       "      <th>Start Year</th>\n",
       "      <th>Drought</th>\n",
       "      <th>Earthquake</th>\n",
       "      <th>Extreme temperature</th>\n",
       "      <th>Flood</th>\n",
       "      <th>Storm</th>\n",
       "      <th>Volcanic activity</th>\n",
       "      <th>Wildfire</th>\n",
       "    </tr>\n",
       "  </thead>\n",
       "  <tbody>\n",
       "    <tr>\n",
       "      <th>0</th>\n",
       "      <td>AFG</td>\n",
       "      <td>1954</td>\n",
       "      <td>0.0</td>\n",
       "      <td>1.0</td>\n",
       "      <td>0.0</td>\n",
       "      <td>0.0</td>\n",
       "      <td>0.0</td>\n",
       "      <td>0.0</td>\n",
       "      <td>0.0</td>\n",
       "    </tr>\n",
       "    <tr>\n",
       "      <th>1</th>\n",
       "      <td>AFG</td>\n",
       "      <td>1956</td>\n",
       "      <td>0.0</td>\n",
       "      <td>1.0</td>\n",
       "      <td>0.0</td>\n",
       "      <td>1.0</td>\n",
       "      <td>0.0</td>\n",
       "      <td>0.0</td>\n",
       "      <td>0.0</td>\n",
       "    </tr>\n",
       "    <tr>\n",
       "      <th>2</th>\n",
       "      <td>AFG</td>\n",
       "      <td>1963</td>\n",
       "      <td>0.0</td>\n",
       "      <td>0.0</td>\n",
       "      <td>0.0</td>\n",
       "      <td>1.0</td>\n",
       "      <td>0.0</td>\n",
       "      <td>0.0</td>\n",
       "      <td>0.0</td>\n",
       "    </tr>\n",
       "    <tr>\n",
       "      <th>3</th>\n",
       "      <td>AFG</td>\n",
       "      <td>1969</td>\n",
       "      <td>1.0</td>\n",
       "      <td>0.0</td>\n",
       "      <td>0.0</td>\n",
       "      <td>0.0</td>\n",
       "      <td>0.0</td>\n",
       "      <td>0.0</td>\n",
       "      <td>0.0</td>\n",
       "    </tr>\n",
       "    <tr>\n",
       "      <th>4</th>\n",
       "      <td>AFG</td>\n",
       "      <td>1971</td>\n",
       "      <td>1.0</td>\n",
       "      <td>0.0</td>\n",
       "      <td>0.0</td>\n",
       "      <td>0.0</td>\n",
       "      <td>0.0</td>\n",
       "      <td>0.0</td>\n",
       "      <td>0.0</td>\n",
       "    </tr>\n",
       "    <tr>\n",
       "      <th>...</th>\n",
       "      <td>...</td>\n",
       "      <td>...</td>\n",
       "      <td>...</td>\n",
       "      <td>...</td>\n",
       "      <td>...</td>\n",
       "      <td>...</td>\n",
       "      <td>...</td>\n",
       "      <td>...</td>\n",
       "      <td>...</td>\n",
       "    </tr>\n",
       "    <tr>\n",
       "      <th>5788</th>\n",
       "      <td>ZWE</td>\n",
       "      <td>2017</td>\n",
       "      <td>1.0</td>\n",
       "      <td>0.0</td>\n",
       "      <td>0.0</td>\n",
       "      <td>0.0</td>\n",
       "      <td>1.0</td>\n",
       "      <td>0.0</td>\n",
       "      <td>0.0</td>\n",
       "    </tr>\n",
       "    <tr>\n",
       "      <th>5789</th>\n",
       "      <td>ZWE</td>\n",
       "      <td>2019</td>\n",
       "      <td>0.0</td>\n",
       "      <td>0.0</td>\n",
       "      <td>0.0</td>\n",
       "      <td>1.0</td>\n",
       "      <td>1.0</td>\n",
       "      <td>0.0</td>\n",
       "      <td>0.0</td>\n",
       "    </tr>\n",
       "    <tr>\n",
       "      <th>5790</th>\n",
       "      <td>ZWE</td>\n",
       "      <td>2021</td>\n",
       "      <td>1.0</td>\n",
       "      <td>0.0</td>\n",
       "      <td>0.0</td>\n",
       "      <td>0.0</td>\n",
       "      <td>1.0</td>\n",
       "      <td>0.0</td>\n",
       "      <td>0.0</td>\n",
       "    </tr>\n",
       "    <tr>\n",
       "      <th>5791</th>\n",
       "      <td>ZWE</td>\n",
       "      <td>2022</td>\n",
       "      <td>0.0</td>\n",
       "      <td>0.0</td>\n",
       "      <td>0.0</td>\n",
       "      <td>1.0</td>\n",
       "      <td>1.0</td>\n",
       "      <td>0.0</td>\n",
       "      <td>0.0</td>\n",
       "    </tr>\n",
       "    <tr>\n",
       "      <th>5792</th>\n",
       "      <td>ZWE</td>\n",
       "      <td>2023</td>\n",
       "      <td>0.0</td>\n",
       "      <td>0.0</td>\n",
       "      <td>0.0</td>\n",
       "      <td>0.0</td>\n",
       "      <td>1.0</td>\n",
       "      <td>0.0</td>\n",
       "      <td>0.0</td>\n",
       "    </tr>\n",
       "  </tbody>\n",
       "</table>\n",
       "<p>5793 rows × 9 columns</p>\n",
       "</div>"
      ]
     },
     "execution_count": 4,
     "metadata": {},
     "output_type": "execute_result"
    }
   ],
   "execution_count": 4
  },
  {
   "cell_type": "code",
   "id": "6bc3c30c-2bdc-45b6-bce6-4528ad1fdea4",
   "metadata": {
    "ExecuteTime": {
     "end_time": "2024-05-18T03:55:10.614377Z",
     "start_time": "2024-05-18T03:55:10.605034Z"
    }
   },
   "source": [
    "df[['Disaster Type', 'Disaster Subtype']].drop_duplicates().sort_values(by='Disaster Type')"
   ],
   "outputs": [
    {
     "data": {
      "text/plain": [
       "                  Disaster Type                  Disaster Subtype\n",
       "146                         Air                               Air\n",
       "21239           Animal incident                   Animal incident\n",
       "1656             Chemical spill                    Chemical spill\n",
       "972       Collapse (Industrial)             Collapse (Industrial)\n",
       "70     Collapse (Miscellaneous)          Collapse (Miscellaneous)\n",
       "...                         ...                               ...\n",
       "21253         Volcanic activity                         Lava flow\n",
       "36                        Water                             Water\n",
       "847                    Wildfire                Wildfire (General)\n",
       "342                    Wildfire  Land fire (Brush, Bush, Pasture)\n",
       "125                    Wildfire                       Forest fire\n",
       "\n",
       "[66 rows x 2 columns]"
      ],
      "text/html": [
       "<div>\n",
       "<style scoped>\n",
       "    .dataframe tbody tr th:only-of-type {\n",
       "        vertical-align: middle;\n",
       "    }\n",
       "\n",
       "    .dataframe tbody tr th {\n",
       "        vertical-align: top;\n",
       "    }\n",
       "\n",
       "    .dataframe thead th {\n",
       "        text-align: right;\n",
       "    }\n",
       "</style>\n",
       "<table border=\"1\" class=\"dataframe\">\n",
       "  <thead>\n",
       "    <tr style=\"text-align: right;\">\n",
       "      <th></th>\n",
       "      <th>Disaster Type</th>\n",
       "      <th>Disaster Subtype</th>\n",
       "    </tr>\n",
       "  </thead>\n",
       "  <tbody>\n",
       "    <tr>\n",
       "      <th>146</th>\n",
       "      <td>Air</td>\n",
       "      <td>Air</td>\n",
       "    </tr>\n",
       "    <tr>\n",
       "      <th>21239</th>\n",
       "      <td>Animal incident</td>\n",
       "      <td>Animal incident</td>\n",
       "    </tr>\n",
       "    <tr>\n",
       "      <th>1656</th>\n",
       "      <td>Chemical spill</td>\n",
       "      <td>Chemical spill</td>\n",
       "    </tr>\n",
       "    <tr>\n",
       "      <th>972</th>\n",
       "      <td>Collapse (Industrial)</td>\n",
       "      <td>Collapse (Industrial)</td>\n",
       "    </tr>\n",
       "    <tr>\n",
       "      <th>70</th>\n",
       "      <td>Collapse (Miscellaneous)</td>\n",
       "      <td>Collapse (Miscellaneous)</td>\n",
       "    </tr>\n",
       "    <tr>\n",
       "      <th>...</th>\n",
       "      <td>...</td>\n",
       "      <td>...</td>\n",
       "    </tr>\n",
       "    <tr>\n",
       "      <th>21253</th>\n",
       "      <td>Volcanic activity</td>\n",
       "      <td>Lava flow</td>\n",
       "    </tr>\n",
       "    <tr>\n",
       "      <th>36</th>\n",
       "      <td>Water</td>\n",
       "      <td>Water</td>\n",
       "    </tr>\n",
       "    <tr>\n",
       "      <th>847</th>\n",
       "      <td>Wildfire</td>\n",
       "      <td>Wildfire (General)</td>\n",
       "    </tr>\n",
       "    <tr>\n",
       "      <th>342</th>\n",
       "      <td>Wildfire</td>\n",
       "      <td>Land fire (Brush, Bush, Pasture)</td>\n",
       "    </tr>\n",
       "    <tr>\n",
       "      <th>125</th>\n",
       "      <td>Wildfire</td>\n",
       "      <td>Forest fire</td>\n",
       "    </tr>\n",
       "  </tbody>\n",
       "</table>\n",
       "<p>66 rows × 2 columns</p>\n",
       "</div>"
      ]
     },
     "execution_count": 5,
     "metadata": {},
     "output_type": "execute_result"
    }
   ],
   "execution_count": 5
  },
  {
   "cell_type": "code",
   "id": "a6b51bbf-f5db-4dd6-a50a-068c431f90c3",
   "metadata": {
    "ExecuteTime": {
     "end_time": "2024-05-18T03:55:11.053844Z",
     "start_time": "2024-05-18T03:55:10.615506Z"
    }
   },
   "source": [
    "(df\n",
    "     .groupby(['Disaster Type', 'ISO', 'Start Year'])\n",
    "     ['Total Damage, Adjusted (\\'000 US$)']\n",
    "     .sum()\n",
    "     .unstack('ISO')\n",
    "     .LAO\n",
    "     .unstack(0)\n",
    "     .sum(axis=1)\n",
    "     .plot(legend=False))"
   ],
   "outputs": [
    {
     "data": {
      "text/plain": [
       "<Axes: xlabel='Start Year'>"
      ]
     },
     "execution_count": 6,
     "metadata": {},
     "output_type": "execute_result"
    },
    {
     "data": {
      "text/plain": [
       "<Figure size 640x480 with 1 Axes>"
      ],
      "image/png": "[encoded data removed]"
     },
     "metadata": {},
     "output_type": "display_data"
    }
   ],
   "execution_count": 6
  },
  {
   "cell_type": "code",
   "id": "31a9d211-fc28-4e0b-bd55-32c15ba061a7",
   "metadata": {
    "ExecuteTime": {
     "end_time": "2024-05-18T03:55:11.061029Z",
     "start_time": "2024-05-18T03:55:11.055519Z"
    }
   },
   "source": [
    "len(df.ISO.unique())"
   ],
   "outputs": [
    {
     "data": {
      "text/plain": [
       "231"
      ]
     },
     "execution_count": 7,
     "metadata": {},
     "output_type": "execute_result"
    }
   ],
   "execution_count": 7
  }
 ],
 "metadata": {
  "kernelspec": {
   "display_name": "Python 3 (ipykernel)",
   "language": "python",
   "name": "python3"
  },
  "language_info": {
   "codemirror_mode": {
    "name": "ipython",
    "version": 3
   },
   "file_extension": ".py",
   "mimetype": "text/x-python",
   "name": "python",
   "nbconvert_exporter": "python",
   "pygments_lexer": "ipython3",
   "version": "3.11.6"
  }
 },
 "nbformat": 4,
 "nbformat_minor": 5
}
