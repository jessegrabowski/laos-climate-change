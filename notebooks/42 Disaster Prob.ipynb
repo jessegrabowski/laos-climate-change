{
 "cells": [
  {
   "cell_type": "markdown",
   "id": "c9e2f324-2405-47a3-84f5-abe5399a1d5d",
   "metadata": {},
   "source": [
    "Start with a simple constant model:\n",
    "\n",
    "Hierarchical across country, time\n",
    "\n",
    "No covariates\n",
    "\n",
    "Just model p(disaster | country, time), where country and time are fixed effects\n",
    "\n",
    "Model each disaster independently\n",
    "\n",
    "We need to choose between three possible distributions for the observed data:\n",
    "\n",
    "- Poisson\n",
    "- Negative Binomial\n",
    "- Zero-Inflated Poisson\n",
    "\n",
    "Do a test of each of these and report which one is the most appropriate"
   ]
  },
  {
   "cell_type": "code",
   "execution_count": 1,
   "id": "a056c3a2-6f27-4b9a-9b90-3c425716ee69",
   "metadata": {},
   "outputs": [],
   "source": [
    "import sys\n",
    "sys.path.append(\"..\")\n",
    "\n",
    "import pandas as pd\n",
    "from pandas.api.types import CategoricalDtype\n",
    "import numpy as np\n",
    "import os\n",
    "from os.path import exists\n",
    "\n",
    "import pymc as pm\n",
    "import pytensor\n",
    "import pytensor.tensor as pt\n",
    "import matplotlib.pyplot as plt\n",
    "import arviz as az\n",
    "\n",
    "config = {\n",
    "    'figure.figsize':(14,4),\n",
    "    'figure.constrained_layout.use':True,\n",
    "    'figure.facecolor':'w',\n",
    "    'axes.grid':True,\n",
    "    'grid.linewidth':0.5,\n",
    "    'grid.linestyle':'--',\n",
    "    'axes.spines.top':False,\n",
    "    'axes.spines.bottom':False,\n",
    "    'axes.spines.left':False,\n",
    "    'axes.spines.right':False\n",
    "}\n",
    "\n",
    "plt.rcParams.update(config)\n",
    "\n",
    "SEED = sum(list(map(ord, 'climate_bayes')))\n",
    "rng = np.random.default_rng(SEED)"
   ]
  },
  {
   "cell_type": "code",
   "execution_count": 2,
   "id": "c861a711-c24a-4c3b-a5fc-9f0b927f1a2c",
   "metadata": {},
   "outputs": [],
   "source": [
    "from laos_gggi.emdat_processing import process_emdat\n",
    "from laos_gggi.plotting import plot_descriptive, _plot_single_kde, subplots_function, subplots_function_regions\n",
    "from laos_gggi.const_vars import EM_DAT_COL_DICT, DISASTERS_FOUND, INTENSITY_COLS, EM_DAT_COL_DICT, PROB_COLS, REGIONS\n",
    "from laos_gggi.summary_stats import descriptive_stats_function"
   ]
  },
  {
   "cell_type": "markdown",
   "id": "01e4ddb2-4500-48d9-91b6-40fa50bf6da3",
   "metadata": {},
   "source": [
    "# Data"
   ]
  },
  {
   "cell_type": "markdown",
   "id": "c79a2c5c-44cc-4ec7-8efc-e3e477b972c6",
   "metadata": {},
   "source": [
    "## Climate Data - need to replace with functions, for sake of time just re-using code for today"
   ]
  },
  {
   "cell_type": "code",
   "execution_count": 3,
   "id": "ebd501dc-0b35-4e91-bb2f-33edf9315260",
   "metadata": {},
   "outputs": [],
   "source": [
    "CO2_URL = \"https://gml.noaa.gov/webdata/ccgg/trends/co2/co2_annmean_mlo.csv\"\n",
    "CO2_FILENAME = \"noaa_co2.csv\"\n",
    "OCEAN_HEAT_URL = \"https://www.ncei.noaa.gov/data/oceans/woa/DATA_ANALYSIS/3M_HEAT_CONTENT/DATA/basin/3month/ohc_levitus_climdash_seasonal.csv\"\n",
    "# https://www.ncei.noaa.gov/access/global-ocean-heat-content/basin_heat_data_monthly.html\n",
    "OCEAN_HEAT_FILENAME = \"ncei_global_ocean_heat.csv\""
   ]
  },
  {
   "cell_type": "code",
   "execution_count": 4,
   "id": "ffb95114-14f2-437b-a509-aa17287023ee",
   "metadata": {},
   "outputs": [],
   "source": [
    "def process_ocean_heat(data_path=\"../data\"):\n",
    "    if not exists(data_path):\n",
    "        os.makedirs(data_path)\n",
    "\n",
    "    if not os.path.isfile(os.path.join(data_path, OCEAN_HEAT_FILENAME)):\n",
    "        df_ocean = pd.read_csv(OCEAN_HEAT_URL, header=0, names=['Date','Temp'])\n",
    "        df_ocean.Date = pd.to_datetime(df_ocean.Date, format='%Y-%m')\n",
    "        df_ocean.set_index(\"Date\", inplace=True)\n",
    "        df_ocean.to_csv(os.path.join(data_path, OCEAN_HEAT_FILENAME))\n",
    "\n",
    "    else:\n",
    "        df_ocean = pd.read_csv(\n",
    "            os.path.join(data_path, OCEAN_HEAT_FILENAME),\n",
    "            index_col=[\"Date\"],\n",
    "            parse_dates=True,\n",
    "        )\n",
    "\n",
    "    return df_ocean"
   ]
  },
  {
   "cell_type": "code",
   "execution_count": 5,
   "id": "d301c502-0cb6-4bb7-b8a8-f992fb150a12",
   "metadata": {},
   "outputs": [],
   "source": [
    "def process_co2(data_path=\"../data\"):\n",
    "    if not exists(data_path):\n",
    "        os.makedirs(data_path)\n",
    "\n",
    "    if not os.path.isfile(os.path.join(data_path, CO2_FILENAME)):\n",
    "        df_co2 = pd.read_csv(CO2_URL, skiprows=43)\n",
    "        df_co2['month'] = 1\n",
    "        df_co2['day'] = 1\n",
    "        df_co2['Date'] = pd.to_datetime(df_co2[['year', 'month', 'day']])\n",
    "        df_co2.set_index(\"Date\", inplace=True)\n",
    "        df_co2.rename(columns={\"mean\": \"co2\"}, inplace=True)\n",
    "        df_co2 = df_co2[[\"co2\"]]\n",
    "        df_co2.to_csv(os.path.join(data_path, CO2_FILENAME))\n",
    "\n",
    "    else:\n",
    "        df_co2 = pd.read_csv(\n",
    "            os.path.join(data_path, CO2_FILENAME), index_col=[\"Date\"], parse_dates=True\n",
    "        )\n",
    "\n",
    "    return df_co2"
   ]
  },
  {
   "cell_type": "code",
   "execution_count": 6,
   "id": "0775861c-9418-4b41-9f76-dba39bf45aeb",
   "metadata": {},
   "outputs": [],
   "source": [
    "df_ocean = process_ocean_heat()\n",
    "df_co2 = process_co2()"
   ]
  },
  {
   "cell_type": "code",
   "execution_count": 7,
   "id": "a73c2d50-0ebc-43c9-b521-dfea9f66edc9",
   "metadata": {},
   "outputs": [],
   "source": [
    "df_ocean = df_ocean.resample('YE').mean()\n",
    "df_ocean.reset_index(inplace=True)\n",
    "df_ocean['Date'] = df_ocean['Date'] - pd.offsets.YearBegin()\n",
    "df_ocean.set_index(\"Date\", inplace=True)\n",
    "df_ocean = df_ocean.iloc[1:-1] #Dropping first and last column with incomplete data\n",
    "df_ocean = df_ocean + 152 #add back in baseline that was subtracted from the data"
   ]
  },
  {
   "cell_type": "code",
   "execution_count": 8,
   "id": "f03eb1c6-b3b9-49bf-a03a-cdc09474d810",
   "metadata": {},
   "outputs": [],
   "source": [
    "df_ocean = 100*(df_ocean - df_ocean.mean())/df_ocean.std()\n",
    "df_co2 = 100*(df_co2 - df_co2.mean())/df_co2.std()"
   ]
  },
  {
   "cell_type": "code",
   "execution_count": 9,
   "id": "4adaf09f-e10f-44f2-a053-a7000492e6ed",
   "metadata": {},
   "outputs": [],
   "source": [
    "df_clim = pd.DataFrame.merge(df_ocean,df_co2,how='inner',left_index=True, right_index=True).dropna()"
   ]
  },
  {
   "cell_type": "markdown",
   "id": "23b3e1a1-7bfa-4969-b02e-38bf739eec1e",
   "metadata": {},
   "source": [
    "## EM-DAT data"
   ]
  },
  {
   "cell_type": "code",
   "execution_count": null,
   "id": "905d6eba-abe4-48af-a689-c9e0ec9d073e",
   "metadata": {},
   "outputs": [],
   "source": [
    "data = process_emdat()\n",
    "\n",
    "df_prob_filtered_adjusted = data[\"df_prob_filtered_adjusted\"]\n",
    "df_inten_filtered_adjusted = data[\"df_inten_filtered_adjusted\"]"
   ]
  },
  {
   "cell_type": "code",
   "execution_count": null,
   "id": "64ca1ec1-793e-4b45-88c8-d94d968c5311",
   "metadata": {},
   "outputs": [],
   "source": [
    "df_prob_filtered_adjusted['dis_count'] = df_prob_filtered_adjusted.iloc[:, 2:].sum(axis=1)"
   ]
  },
  {
   "cell_type": "code",
   "execution_count": null,
   "id": "72b4f00c-d6af-4314-887c-82b13abf53e1",
   "metadata": {},
   "outputs": [],
   "source": [
    "df = df_prob_filtered_adjusted.reset_index()"
   ]
  },
  {
   "cell_type": "code",
   "execution_count": null,
   "id": "d1394954-9965-4da4-a68d-0f91fea5db1c",
   "metadata": {},
   "outputs": [],
   "source": [
    "years = df[\"Start_Year\"].drop_duplicates().sort_values().to_list()[:-1] #current year is not complete\n",
    "countries = df[\"ISO\"].drop_duplicates().sort_values().to_list()"
   ]
  },
  {
   "cell_type": "code",
   "execution_count": null,
   "id": "61538dda-ef14-4ca3-8ec8-a2e06db9b259",
   "metadata": {},
   "outputs": [],
   "source": [
    "df_blank = pd.DataFrame(columns=[\"dis_count\"], index=pd.MultiIndex.from_product([years, countries], names=['Start_Year', 'ISO']))"
   ]
  },
  {
   "cell_type": "code",
   "execution_count": null,
   "id": "7db5525b-f428-4ab3-a806-d8ddfedfe05d",
   "metadata": {},
   "outputs": [],
   "source": [
    "df_counts = df_prob_filtered_adjusted[[\"dis_count\"]].sort_values([\"Start_Year\",\"ISO\"]).reset_index().set_index([\"Start_Year\",\"ISO\"])"
   ]
  },
  {
   "cell_type": "code",
   "execution_count": null,
   "id": "0dcbc197-0185-4735-abd3-7d09290a067c",
   "metadata": {},
   "outputs": [],
   "source": [
    "df_filled = df_blank.combine_first(df_counts).fillna(0)\n"
   ]
  },
  {
   "cell_type": "code",
   "execution_count": null,
   "id": "47084688-4892-4070-b43f-d7986fba810c",
   "metadata": {},
   "outputs": [],
   "source": [
    "df_counts = df_filled.reset_index().pivot(index='Start_Year', columns='ISO').iloc[:-1,:]"
   ]
  },
  {
   "cell_type": "code",
   "execution_count": null,
   "id": "8832adef-ac8b-40c7-8a05-5351b5802a1f",
   "metadata": {},
   "outputs": [],
   "source": [
    "df = df_filled.reset_index()"
   ]
  },
  {
   "cell_type": "code",
   "execution_count": null,
   "id": "121e674e-33c2-41a5-b2e2-75e923eb9535",
   "metadata": {},
   "outputs": [],
   "source": [
    "df['ISO'] = df['ISO'].astype(CategoricalDtype())\n",
    "df['Start_Year'] = df['Start_Year'].astype(CategoricalDtype())"
   ]
  },
  {
   "cell_type": "code",
   "execution_count": null,
   "id": "84b6ba13-56a8-4923-b39c-4d281a054def",
   "metadata": {},
   "outputs": [],
   "source": [
    "df"
   ]
  },
  {
   "cell_type": "code",
   "execution_count": null,
   "id": "86a13c10-5c98-4581-97ba-35cf39e33ad2",
   "metadata": {},
   "outputs": [],
   "source": [
    "POST_PRED_KWARGS = dict(return_inferencedata=True, extend_inferencedata=True)"
   ]
  },
  {
   "cell_type": "code",
   "execution_count": null,
   "id": "b596c38f-addc-4e74-9695-12afab1e7e87",
   "metadata": {},
   "outputs": [],
   "source": [
    "COORDS = {'Country_vals':df['ISO'].cat.categories.values, \n",
    "          'Year_vals':df['Start_Year'].cat.categories.values,\n",
    "          \"obs_idx\": df.index}\n",
    "\n",
    "with pm.Model(coords=COORDS) as disaster_model:\n",
    "\n",
    "    b0 = pm.Normal(\"Intercept\", mu=0, sigma=1)\n",
    "    b1 = pm.Normal(\"Country\", mu=0, sigma=1, dims=\"Country_vals\")\n",
    "    b2 = pm.Normal(\"Year\", mu=0, sigma=1, dims=\"Year_vals\")\n",
    "\n",
    "    country_data = pm.ConstantData('country_data', df['ISO'].cat.codes.to_numpy(), dims=\"obs_idx\")\n",
    "    year_data = pm.ConstantData('year_data', df['Start_Year'].cat.codes.to_numpy(), dims=\"obs_idx\")\n",
    "\n",
    "    # not making this a Deterministic because it would take the dims of # of datapoints\n",
    "    theta = b0 + b1[country_data] + b2[year_data]\n",
    "\n",
    "    # ## Define Poisson likelihood\n",
    "    y_hat = pm.Poisson(\"y_hat\", mu=pm.math.exp(theta), observed=df['dis_count'].values)\n",
    "    \n",
    "    dis_idata = pm.sample()\n",
    "    dis_idata = pm.sample_posterior_predictive(dis_idata, \n",
    "                                                predictions=True, \n",
    "                                                **POST_PRED_KWARGS).assign_coords({\"obs_idx\":df.index})\n"
   ]
  },
  {
   "cell_type": "code",
   "execution_count": null,
   "id": "560d72ad-4c07-414d-a0d0-c912945b99d9",
   "metadata": {},
   "outputs": [],
   "source": [
    "pm.model_to_graphviz(disaster_model)"
   ]
  },
  {
   "cell_type": "code",
   "execution_count": null,
   "id": "c4a07c5b-fd77-4bb5-992f-2a99e64927d0",
   "metadata": {},
   "outputs": [],
   "source": [
    "az.plot_trace(dis_idata, var_names=['Intercept','Year','Country']);"
   ]
  },
  {
   "cell_type": "code",
   "execution_count": null,
   "id": "6f1f7040-70ad-4ad7-bdfe-58cc62a96a9a",
   "metadata": {},
   "outputs": [],
   "source": [
    "dis_idata.predictions['y_hat'].mean(axis=0)"
   ]
  },
  {
   "cell_type": "code",
   "execution_count": null,
   "id": "9ce977aa-3a87-4344-92d4-d6d452341944",
   "metadata": {},
   "outputs": [],
   "source": []
  }
 ],
 "metadata": {
  "kernelspec": {
   "display_name": "Python 3 (ipykernel)",
   "language": "python",
   "name": "python3"
  },
  "language_info": {
   "codemirror_mode": {
    "name": "ipython",
    "version": 3
   },
   "file_extension": ".py",
   "mimetype": "text/x-python",
   "name": "python",
   "nbconvert_exporter": "python",
   "pygments_lexer": "ipython3",
   "version": "3.12.2"
  }
 },
 "nbformat": 4,
 "nbformat_minor": 5
}
