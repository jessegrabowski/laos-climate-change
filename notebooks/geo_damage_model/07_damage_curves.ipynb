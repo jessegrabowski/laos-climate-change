{
 "cells": [
  {
   "cell_type": "code",
   "execution_count": 1,
   "id": "71b1ac59-355e-4831-9aeb-a35c065018f6",
   "metadata": {},
   "outputs": [],
   "source": [
    "%load_ext autoreload\n",
    "%autoreload 2"
   ]
  },
  {
   "cell_type": "code",
   "execution_count": 2,
   "id": "b46e2784-be41-4a19-a100-6fdf85bde8ab",
   "metadata": {},
   "outputs": [],
   "source": [
    "import os\n",
    "import warnings\n",
    "\n",
    "import sys\n",
    "from pyprojroot import here\n",
    "sys.path.append(\"../..\") \n",
    "# from laos_gggi.statistics import get_distance_to_rivers\n",
    "\n",
    "import pandas as pd\n",
    "import numpy as np\n",
    "import pymc as pm\n",
    "import pytensor\n",
    "import pytensor.tensor as pt\n",
    "import matplotlib.pyplot as plt\n",
    "import arviz as az\n",
    "import geopandas as gpd\n",
    "import xarray as xr\n",
    "\n",
    "from laos_gggi.replication_data import create_replication_data\n",
    "from laos_gggi.plotting import plotting_function_damages \n",
    "from laos_gggi.model import add_data\n",
    "from laos_gggi.plotting import configure_plot_style\n",
    "\n",
    "from laos_gggi.sample import sample_or_load\n",
    "from sklearn.preprocessing import StandardScaler as Standardize\n",
    "\n",
    "from laos_gggi.data_functions import load_emdat_data, load_shapefile, load_rivers_data"
   ]
  },
  {
   "cell_type": "code",
   "execution_count": 3,
   "id": "dee9f180-c223-4c07-82f1-04560163c579",
   "metadata": {},
   "outputs": [],
   "source": [
    "# Set random seed\n",
    "SEED = sum(list(map(ord, 'climate_bayes')))\n",
    "rng = np.random.default_rng(SEED)"
   ]
  },
  {
   "cell_type": "markdown",
   "id": "80e177c6-46b4-415c-a80a-4e3fedd0bfea",
   "metadata": {},
   "source": [
    "# Loading and preparing data "
   ]
  },
  {
   "cell_type": "code",
   "execution_count": 4,
   "id": "3f865ed1-c094-47ab-8a89-534aad10e626",
   "metadata": {},
   "outputs": [],
   "source": [
    "# Select SEA countries\n",
    "laos_neighboors = [\n",
    "    \"KHM\",  # Cambodia\n",
    "    \"THA\",  # Thailand\n",
    "    \"LAO\",  # Laos\n",
    "    \"VNM\",  # Vietnam\n",
    "]"
   ]
  },
  {
   "cell_type": "code",
   "execution_count": 5,
   "id": "0224f45b-8d13-4a1b-abf9-9999b7d642ab",
   "metadata": {},
   "outputs": [],
   "source": [
    "# Configure pytensir floats\n",
    "floatX = pytensor.config.floatX\n",
    "\n",
    "\n",
    "# Load idatas\n",
    "event_idata = az.from_netcdf(\"model_closest_full_long.idata\")\n",
    "damage_idata = az.from_netcdf(\"damages_model.idata\")\n",
    "\n",
    "#Rename ISO dimension to avoid conflicts merging\n",
    "damage_idata =damage_idata.rename({\"ISO\": \"ISO_damage\",\n",
    "                                                   \"country_effect\": \"country_effect_damage\"})\n",
    "\n",
    "#Merge posteriors\n",
    "merged_posteriors = xr.merge([event_idata.sel(ISO = laos_neighboors).posterior,\n",
    "                              damage_idata.posterior])"
   ]
  },
  {
   "cell_type": "code",
   "execution_count": 6,
   "id": "6d8e23b6-6ab5-4d77-a947-4c05b8a02adc",
   "metadata": {},
   "outputs": [],
   "source": [
    "# Load maps\n",
    "world = load_shapefile('world')\n",
    "\n",
    "# Define maps\n",
    "sea_map = world.query('ISO_A3 in @laos_neighboors')\n",
    "laos_map = world.query('ISO_A3 == \"LAO\"')"
   ]
  },
  {
   "cell_type": "markdown",
   "id": "b7ee497c-f3c2-486f-9e27-7a123e845919",
   "metadata": {},
   "source": [
    "### Events data"
   ]
  },
  {
   "cell_type": "code",
   "execution_count": 7,
   "id": "16740f5b-bdad-4980-b52f-518d7db2feef",
   "metadata": {},
   "outputs": [],
   "source": [
    "#Load data sets\n",
    "sea_point_grid = pd.read_csv(here(\"data/sea_point_grid.csv\"),index_col=0  ).rename(columns = {\"ISO_A3\": \"ISO\"})\n",
    "laos_point_grid = pd.read_csv(here(\"data/laos_point_grid.csv\"),index_col=0 ).rename(columns = {\"ISO_A3\": \"ISO\"})\n",
    "sea_df = pd.read_csv(here(\"data/sea.csv\"),index_col=0 )\n",
    "lao_df = pd.read_csv(here(\"data/lao.csv\"),index_col=0 )\n",
    "sea_df_stand = pd.read_csv(here(\"data/sea_df_stand.csv\"),index_col=0 )\n",
    "lao_df_stand = pd.read_csv(here(\"data/lao_df_stand.csv\"),index_col=0 )\n",
    "\n",
    "predictions = pd.read_csv(here(\"data/climate_forecast.csv\")).rename(columns = {\"time\": \"Start_Year\"})"
   ]
  },
  {
   "cell_type": "code",
   "execution_count": 8,
   "id": "21573e45-083f-4341-a376-02523faf9596",
   "metadata": {},
   "outputs": [],
   "source": [
    "# create predictions_ISO\n",
    "predictions[\"ISO\"] = \"LAO\"\n",
    "\n",
    "# Select years of interest\n",
    "prediction_years = [\"2026-01-01\", \"2030-01-01\", \"2040-01-01\", \"2050-01-01\", \"2070-01-01\"]\n",
    "predictions_short = predictions.query('Start_Year in @prediction_years')"
   ]
  },
  {
   "cell_type": "code",
   "execution_count": 9,
   "id": "7f5bf84a-2477-4610-ab6c-2071c24658e5",
   "metadata": {},
   "outputs": [],
   "source": [
    "# create grid point number\n",
    "laos_point_grid = laos_point_grid.reset_index().rename(columns = {\"index\": \"point_number\" })\n",
    "\n",
    "# merge grid and predictions\n",
    "pred_df = pd.merge(laos_point_grid ,predictions_short, left_on= \"ISO\", right_on= \"ISO\", how = \"left\" )"
   ]
  },
  {
   "cell_type": "code",
   "execution_count": 10,
   "id": "53ab1cab-ef08-4ee3-bf2c-81d2f7c48cdd",
   "metadata": {},
   "outputs": [],
   "source": [
    "# Create population density\n",
    "pred_df[\"population_density\"] = pred_df[\"Population\"] / 236800 # Laos area in squared km hardcoded\n",
    "\n",
    "# Calculate logs\n",
    "pred_df[\"log_population_density\"] = np.log(pred_df[\"population_density\"])\n",
    "pred_df[\"log_gdp_per_cap\"] = np.log(pred_df[\"gdp_per_cap\"])"
   ]
  },
  {
   "cell_type": "code",
   "execution_count": 11,
   "id": "0febb59e-1469-4ffb-b8cd-befe2b8f0170",
   "metadata": {},
   "outputs": [],
   "source": [
    "# Define features\n",
    "event_features = ['lat', 'long', 'log_distance_to_river__standardized', \"log_distance_to_coastline__standardized\",\n",
    "\"log_distance_to_river__standardized_squared\", \"log_distance_to_coastline__standardized_squared\",\n",
    " \"Population__standardized\", \"co2__standardized\", \"precip_deviation__standardized\", \"dev_ocean_temp__standardized\", \n",
    "'log_population_density__standardized','log_gdp_per_cap__standardized', \n",
    "\"log_gdp_per_cap__standardized_squared\", \"log_population_density__standardized_squared\" ]\n",
    "\n",
    "distance_features = event_features[0:6]\n",
    "time_varying_features = event_features[6:]\n",
    "time_varying_features_base =[x[ :-14] for x in event_features[6:12]]\n",
    "\n",
    "cols_to_stand = ['Population','log_distance_to_river', 'dev_ocean_temp',\n",
    "                 'co2', 'log_population_density', 'log_gdp_per_cap',\n",
    "       'precip_deviation', 'log_distance_to_coastline',]\n",
    "\n",
    "cols_to_stand_stand = [x + \"__standardized\" for x in  cols_to_stand]\n",
    "\n",
    "cols_not_stand = ['ISO' , 'Start_Year', 'lat', 'long', 'geometry', 'point_number']"
   ]
  },
  {
   "cell_type": "code",
   "execution_count": 12,
   "id": "d4abff75-5048-4918-86f6-f2822024ca65",
   "metadata": {},
   "outputs": [],
   "source": [
    "#Train transformers\n",
    "transformer_stand_ =  Standardize().fit(sea_df.query('is_disaster == 1')[cols_to_stand] )"
   ]
  },
  {
   "cell_type": "code",
   "execution_count": 13,
   "id": "feac9009-4556-4800-831d-325b0afcbe6d",
   "metadata": {},
   "outputs": [],
   "source": [
    "# standardize pred_df\n",
    "pred_df_stand = transformer_stand_.transform(pred_df[cols_to_stand] )\n",
    "pred_df_stand = pd.DataFrame(pred_df_stand, columns =cols_to_stand_stand )\n",
    "pred_df_stand = pd.merge(pred_df_stand, pred_df[cols_not_stand], left_index=True, right_index= True, how = \"left\" )"
   ]
  },
  {
   "cell_type": "code",
   "execution_count": 14,
   "id": "ce31fde8-70f1-4a0a-a0f3-2ef779419c10",
   "metadata": {},
   "outputs": [],
   "source": [
    "# Calculate logs squared\n",
    "pred_df_stand[\"log_gdp_per_cap__standardized_squared\"] = pred_df_stand[\"log_gdp_per_cap__standardized\"] **2\n",
    "pred_df_stand[\"log_population_density__standardized_squared\"] = pred_df_stand[\"log_population_density__standardized\"] **2\n",
    "\n",
    "pred_df_stand[\"log_distance_to_river__standardized_squared\"] = pred_df_stand[\"log_distance_to_river__standardized\"] **2\n",
    "pred_df_stand[\"log_distance_to_coastline__standardized_squared\"] = pred_df_stand[\"log_distance_to_coastline__standardized\"] **2\n"
   ]
  },
  {
   "cell_type": "markdown",
   "id": "0870903b-862b-4a2a-a075-f41badeae392",
   "metadata": {},
   "source": [
    "### Center Laos lat-long using SEA data"
   ]
  },
  {
   "cell_type": "code",
   "execution_count": 15,
   "id": "fa411c74-b46e-4cdf-84d1-94ac82c33271",
   "metadata": {},
   "outputs": [],
   "source": [
    "# Compute sea center\n",
    "sea_center =  {}\n",
    "\n",
    "# center Laos values\n",
    "for x in [\"lat\", \"long\"]:\n",
    "    sea_center[x] = (sea_df[x].max() + sea_df[x].min()) /  2\n",
    "    pred_df_stand[x + \"_centered\"] = pred_df_stand[x] - sea_center[x]"
   ]
  },
  {
   "cell_type": "code",
   "execution_count": 16,
   "id": "f9d3ab54-624a-4a54-9701-f7c644502f4c",
   "metadata": {},
   "outputs": [],
   "source": [
    "### Create pred_df_stand_dict for several years\n",
    "pred_df_stand_dict = {}\n",
    "\n",
    "for year in pred_df_stand[\"Start_Year\"].unique():\n",
    "    pred_df_stand_dict[year] = pred_df_stand.query('Start_Year == @year')"
   ]
  },
  {
   "cell_type": "markdown",
   "id": "c6b6008e-9c22-4e0c-833f-9fa2f7131fe8",
   "metadata": {},
   "source": [
    "# Set coords"
   ]
  },
  {
   "cell_type": "code",
   "execution_count": 17,
   "id": "54efb647-c59a-45e2-b000-34398a993b33",
   "metadata": {},
   "outputs": [],
   "source": [
    "# Load damage df\n",
    "damage_df_stand = pd.read_csv(here(\"data/damage_df_stand.csv\"),index_col =0 )"
   ]
  },
  {
   "cell_type": "code",
   "execution_count": 18,
   "id": "23d67115-3b24-48e8-95d1-bf394b20ac2a",
   "metadata": {},
   "outputs": [],
   "source": [
    "# gp features\n",
    "gp_features = [\"lat\", \"long\"]\n",
    "\n",
    "# damage features\n",
    "damage_features = ['Population__standardized',\n",
    " 'log_population_density__standardized',\n",
    " 'log_population_density__standardized_squared',\n",
    " 'log_gdp_per_cap__standardized',\n",
    " 'log_gdp_per_cap__standardized_squared',\n",
    " 'dev_ocean_temp__standardized',\n",
    " 'co2__standardized',\n",
    " 'precip_deviation__standardized']\n",
    "\n",
    "# Event features\n",
    "event_features = ['log_distance_to_river__standardized',\n",
    " 'log_distance_to_coastline__standardized',\n",
    " 'Population__standardized',\n",
    " 'co2__standardized',\n",
    " 'precip_deviation__standardized',\n",
    " 'dev_ocean_temp__standardized',\n",
    " 'log_population_density__standardized',\n",
    " 'log_gdp_per_cap__standardized',\n",
    " 'log_gdp_per_cap__standardized_squared',\n",
    " 'log_population_density__standardized_squared',\n",
    " 'log_distance_to_river__standardized_squared',\n",
    " 'log_distance_to_coastline__standardized_squared']"
   ]
  },
  {
   "cell_type": "code",
   "execution_count": 19,
   "id": "f524854c-5a91-473c-b832-70f80a33b0ca",
   "metadata": {},
   "outputs": [],
   "source": [
    "# Define event coords\n",
    "is_disaster_idx_events , is_disaster_events  = pd.factorize(sea_df_stand[\"is_disaster\"])\n",
    "ISO_idx_events , ISO_events  = pd.factorize(sea_df_stand[\"ISO\"]) \n",
    "obs_idx_events  = sea_df_stand.index\n",
    "\n",
    "#Creating idx\n",
    "xr_idx_events  = xr.Coordinates.from_pandas_multiindex(sea_df_stand.set_index(['ISO', 'Start_Year']).index, 'obs_idx')\n",
    "\n",
    "#Set coords\n",
    "event_coords = {\"is_disaster\" : is_disaster_events,\n",
    "        \"obs_idx\": obs_idx_events,\n",
    "        \"ISO\": ISO_events,\n",
    "        \"feature\": event_features,\n",
    "        \"gp_feature\":gp_features }\n"
   ]
  },
  {
   "cell_type": "code",
   "execution_count": 20,
   "id": "3aac5df1-d36c-47ac-9820-90969615bf33",
   "metadata": {},
   "outputs": [],
   "source": [
    "# Define damage coords\n",
    "ISO_idx_damage, ISO_damage =  pd.factorize(damage_df_stand[\"ISO\"])\n",
    "coords_damage = {\n",
    "    'ISO':ISO_damage,\n",
    "    'obs_idx':damage_df_stand.index,\n",
    "    'feature': damage_features\n",
    "        }    \n",
    "\n",
    "xr_idx_damage = xr.Coordinates.from_pandas_multiindex(damage_df_stand.set_index(['ISO', 'year']).index, 'obs_idx')\n"
   ]
  },
  {
   "cell_type": "code",
   "execution_count": 21,
   "id": "430fb911-29ce-48bd-bcd2-e6c20445d64e",
   "metadata": {},
   "outputs": [],
   "source": [
    "# Prediction coords\n",
    "obs_idx = pred_df_stand_dict[\"2026-01-01\"][\"point_number\"]\n",
    "\n",
    "\n",
    "gp_features = [\"lat\", \"long\"]\n",
    "\n",
    "\n",
    "# Rebuild ISO_idx_sea\n",
    "ISO_idx, ISO = pd.factorize(sea_df[\"ISO\"]) \n",
    "\n",
    "ISO_to_idx = {name: idx for idx, name in enumerate(ISO)}\n",
    "ISO_idx_laos =  pred_df_stand_dict[\"2026-01-01\"].ISO.map(ISO_to_idx.get)\n",
    "\n",
    "years = pred_df_stand[\"Start_Year\"].unique()\n",
    "\n",
    "# ISO damage\n",
    "ISO_damage_idx, ISO_damage =  pd.factorize(damage_df_stand[\"ISO\"])\n",
    "ISO_to_idx_2 = {name: idx for idx, name in enumerate(ISO_damage)}\n",
    "ISO_damage_idx_laos =  pred_df_stand_dict[\"2026-01-01\"].ISO.map(ISO_to_idx_2.get)\n",
    "\n",
    "# \n",
    "\n",
    "\n",
    "#Set coords_predictions\n",
    "coords_predictions = {\n",
    "    # \"is_disaster\" : is_disaster,\n",
    "        \"obs_idx\": obs_idx,\n",
    "        \"ISO\": ISO,\n",
    "        \"distance_features\": distance_features,\n",
    "        \"time_varying_features\" : time_varying_features,\n",
    "        \"gp_feature\":gp_features,\n",
    "        \"ISO_damage\": ISO_damage ,\n",
    "        \"damage_features\": damage_features,\n",
    "        \"event_features\": event_features,\n",
    "        \"year\":years\n",
    "                     }"
   ]
  },
  {
   "cell_type": "markdown",
   "id": "f4cbb0d9-feb9-4077-84b3-be60edea7f26",
   "metadata": {},
   "source": [
    "# Compute the curves"
   ]
  },
  {
   "cell_type": "code",
   "execution_count": 22,
   "id": "8e508b8b-2ab0-46c2-842a-07937058ee97",
   "metadata": {},
   "outputs": [],
   "source": [
    "# Compute center function\n",
    "def compute_center(X):\n",
    "    return (pt.max(X, axis=0) + pt.min(X, axis=0)).eval() / 2"
   ]
  },
  {
   "cell_type": "code",
   "execution_count": 23,
   "id": "448437db-49f1-446c-b743-e01edbad4cd7",
   "metadata": {},
   "outputs": [],
   "source": [
    "from copy import deepcopy\n",
    "from pymc.model.transform.optimization import freeze_dims_and_data\n",
    "\n",
    "damage_curves_plot = {}\n",
    "\n",
    "for year in years:\n",
    "    \n",
    "    with pm.Model(coords=coords_predictions) as damage_curves_plot[year]:\n",
    "        ####################################Events model####################################\n",
    "        # Set data\n",
    "        event_features_data = add_data(features= event_features ,  target = None, df =  pred_df_stand_dict[year],\n",
    "                                   dims=['obs_idx', 'features'])\n",
    "        X_gp = pm.Data(\"X_gp\",  pred_df_stand_dict[year][[\"lat_centered\", \"long_centered\"]].astype(floatX), dims=['obs_idx', 'gp_feature'])\n",
    "    \n",
    "        #Flat variables\n",
    "        country_effect = pm.Flat(\"country_effect\", dims = [\"ISO\"])    \n",
    "        beta = pm.Flat(\"beta\", dims = [\"event_features\"])\n",
    "        \n",
    "        # HSGP component\n",
    "        eta = pm.Flat(\"eta\")\n",
    "        ell = pm.Flat(\"ell\", dims=[\"gp_feature\"])\n",
    "        cov_func = eta**2 * pm.gp.cov.Matern52(input_dim=2, ls=ell)\n",
    "    \n",
    "        m0, m1, c = 35, 35, 1.5\n",
    "        gp = pm.gp.HSGP(m=[m0, m1], c=c, cov_func=cov_func)\n",
    "        gp._X_center = compute_center( pred_df_stand_dict[year][[\"lat_centered\", \"long_centered\"]].values.astype(floatX))\n",
    "    \n",
    "        phi, sqrt_psd = gp.prior_linearized(X=X_gp)\n",
    "    \n",
    "        basis_coeffs = pm.Flat(\"basis_coeffs\", size=gp.n_basis_vectors)\n",
    "    \n",
    "        HSGP_component = pm.Deterministic('HSGP_component', phi @ (basis_coeffs * sqrt_psd), dims=['obs_idx'])\n",
    "    \n",
    "        # Event model components\n",
    "        event_features_component = pm.Deterministic('event_features_component', \n",
    "                                                    event_features_data @ beta, dims=['obs_idx'])\n",
    "        \n",
    "        logit_p = pm.Deterministic('logit_p', country_effect[ISO_idx_laos] + event_features_component \n",
    "                                   + HSGP_component, dims=['obs_idx'])\n",
    "        event_prob_y_hat = pm.Deterministic('event_prob_y_hat', pm.math.invlogit(logit_p), dims=['obs_idx'])\n",
    "    \n",
    "        ####################################Damages model####################################\n",
    "        # Set data\n",
    "        damage_x_data = pm.Data(\"damage_x_data\",   pred_df_stand_dict[year][damage_features], dims=['obs_idx', 'damage_features'])\n",
    "    \n",
    "        # Set flats\n",
    "        country_effect_damage = pm.Flat(\"country_effect_damage\", dims = [\"ISO_damage\"])\n",
    "        betas_damage = pm.Flat(\"betas_damage\", dims = [\"damage_features\"])\n",
    "        sigma_damage = pm.Flat(\"sigma_damage\")\n",
    "    \n",
    "        #Damage model components\n",
    "        mu =  country_effect_damage[ISO_damage_idx_laos] + damage_x_data @ betas_damage\n",
    "       \n",
    "        ln_damage_millions = pm.Normal(\"ln_damage_millions\", mu = mu, sigma = sigma_damage , dims = [\"obs_idx\"])\n",
    "    \n",
    "        damage_millions = pm.Deterministic(\"damage_millions\", pm.math.exp(ln_damage_millions), dims=['obs_idx'])\n",
    "    \n",
    "        # #################################### Damage curves ####################################\n",
    "        damages_curves = pm.Deterministic(\"damages_curves\", damage_millions * event_prob_y_hat, dims=['obs_idx'])"
   ]
  },
  {
   "cell_type": "code",
   "execution_count": 24,
   "id": "6399b59d-fc71-4f23-ac48-2aef3ab585b4",
   "metadata": {
    "scrolled": true
   },
   "outputs": [
    {
     "name": "stderr",
     "output_type": "stream",
     "text": [
      "C:\\Users\\camil\\miniforge3\\envs\\laos-climate-change\\Lib\\site-packages\\pytensor\\link\\jax\\linker.py:27: UserWarning: The RandomType SharedVariables [RNG(<Generator(PCG64) at 0x2353FC0B140>)] will not be used in the compiled JAX graph. Instead a copy will be used.\n",
      "  warnings.warn(\n",
      "Sampling: [ln_damage_millions]\n"
     ]
    },
    {
     "data": {
      "application/vnd.jupyter.widget-view+json": {
       "model_id": "cd39c1c57c524b0796482cb7fef76253",
       "version_major": 2,
       "version_minor": 0
      },
      "text/plain": [
       "Output()"
      ]
     },
     "metadata": {},
     "output_type": "display_data"
    },
    {
     "data": {
      "text/html": [
       "<pre style=\"white-space:pre;overflow-x:auto;line-height:normal;font-family:Menlo,'DejaVu Sans Mono',consolas,'Courier New',monospace\"></pre>\n"
      ],
      "text/plain": []
     },
     "metadata": {},
     "output_type": "display_data"
    },
    {
     "data": {
      "text/html": [
       "<pre style=\"white-space:pre;overflow-x:auto;line-height:normal;font-family:Menlo,'DejaVu Sans Mono',consolas,'Courier New',monospace\">\n",
       "</pre>\n"
      ],
      "text/plain": [
       "\n"
      ]
     },
     "metadata": {},
     "output_type": "display_data"
    },
    {
     "name": "stderr",
     "output_type": "stream",
     "text": [
      "C:\\Users\\camil\\miniforge3\\envs\\laos-climate-change\\Lib\\site-packages\\pytensor\\link\\jax\\linker.py:27: UserWarning: The RandomType SharedVariables [RNG(<Generator(PCG64) at 0x235777EB840>)] will not be used in the compiled JAX graph. Instead a copy will be used.\n",
      "  warnings.warn(\n",
      "Sampling: [ln_damage_millions]\n"
     ]
    },
    {
     "data": {
      "application/vnd.jupyter.widget-view+json": {
       "model_id": "aebf1a9ed7da43cf843a10475d3ac8e6",
       "version_major": 2,
       "version_minor": 0
      },
      "text/plain": [
       "Output()"
      ]
     },
     "metadata": {},
     "output_type": "display_data"
    },
    {
     "data": {
      "text/html": [
       "<pre style=\"white-space:pre;overflow-x:auto;line-height:normal;font-family:Menlo,'DejaVu Sans Mono',consolas,'Courier New',monospace\"></pre>\n"
      ],
      "text/plain": []
     },
     "metadata": {},
     "output_type": "display_data"
    },
    {
     "data": {
      "text/html": [
       "<pre style=\"white-space:pre;overflow-x:auto;line-height:normal;font-family:Menlo,'DejaVu Sans Mono',consolas,'Courier New',monospace\">\n",
       "</pre>\n"
      ],
      "text/plain": [
       "\n"
      ]
     },
     "metadata": {},
     "output_type": "display_data"
    },
    {
     "name": "stderr",
     "output_type": "stream",
     "text": [
      "C:\\Users\\camil\\miniforge3\\envs\\laos-climate-change\\Lib\\site-packages\\pytensor\\link\\jax\\linker.py:27: UserWarning: The RandomType SharedVariables [RNG(<Generator(PCG64) at 0x2353F85EEA0>)] will not be used in the compiled JAX graph. Instead a copy will be used.\n",
      "  warnings.warn(\n",
      "Sampling: [ln_damage_millions]\n"
     ]
    },
    {
     "data": {
      "application/vnd.jupyter.widget-view+json": {
       "model_id": "36c6f6b54583497ea57dd4242397800c",
       "version_major": 2,
       "version_minor": 0
      },
      "text/plain": [
       "Output()"
      ]
     },
     "metadata": {},
     "output_type": "display_data"
    },
    {
     "data": {
      "text/html": [
       "<pre style=\"white-space:pre;overflow-x:auto;line-height:normal;font-family:Menlo,'DejaVu Sans Mono',consolas,'Courier New',monospace\"></pre>\n"
      ],
      "text/plain": []
     },
     "metadata": {},
     "output_type": "display_data"
    },
    {
     "data": {
      "text/html": [
       "<pre style=\"white-space:pre;overflow-x:auto;line-height:normal;font-family:Menlo,'DejaVu Sans Mono',consolas,'Courier New',monospace\">\n",
       "</pre>\n"
      ],
      "text/plain": [
       "\n"
      ]
     },
     "metadata": {},
     "output_type": "display_data"
    },
    {
     "name": "stderr",
     "output_type": "stream",
     "text": [
      "C:\\Users\\camil\\miniforge3\\envs\\laos-climate-change\\Lib\\site-packages\\pytensor\\link\\jax\\linker.py:27: UserWarning: The RandomType SharedVariables [RNG(<Generator(PCG64) at 0x235476B97E0>)] will not be used in the compiled JAX graph. Instead a copy will be used.\n",
      "  warnings.warn(\n",
      "Sampling: [ln_damage_millions]\n"
     ]
    },
    {
     "data": {
      "application/vnd.jupyter.widget-view+json": {
       "model_id": "7ff32c5ce7244d748cc0913c07396bc6",
       "version_major": 2,
       "version_minor": 0
      },
      "text/plain": [
       "Output()"
      ]
     },
     "metadata": {},
     "output_type": "display_data"
    },
    {
     "data": {
      "text/html": [
       "<pre style=\"white-space:pre;overflow-x:auto;line-height:normal;font-family:Menlo,'DejaVu Sans Mono',consolas,'Courier New',monospace\"></pre>\n"
      ],
      "text/plain": []
     },
     "metadata": {},
     "output_type": "display_data"
    },
    {
     "data": {
      "text/html": [
       "<pre style=\"white-space:pre;overflow-x:auto;line-height:normal;font-family:Menlo,'DejaVu Sans Mono',consolas,'Courier New',monospace\">\n",
       "</pre>\n"
      ],
      "text/plain": [
       "\n"
      ]
     },
     "metadata": {},
     "output_type": "display_data"
    },
    {
     "name": "stderr",
     "output_type": "stream",
     "text": [
      "C:\\Users\\camil\\miniforge3\\envs\\laos-climate-change\\Lib\\site-packages\\pytensor\\link\\jax\\linker.py:27: UserWarning: The RandomType SharedVariables [RNG(<Generator(PCG64) at 0x2353FF9D540>)] will not be used in the compiled JAX graph. Instead a copy will be used.\n",
      "  warnings.warn(\n",
      "Sampling: [ln_damage_millions]\n"
     ]
    },
    {
     "data": {
      "application/vnd.jupyter.widget-view+json": {
       "model_id": "0a884187f6cd40e9b5010526c8c7ca0e",
       "version_major": 2,
       "version_minor": 0
      },
      "text/plain": [
       "Output()"
      ]
     },
     "metadata": {},
     "output_type": "display_data"
    },
    {
     "data": {
      "text/html": [
       "<pre style=\"white-space:pre;overflow-x:auto;line-height:normal;font-family:Menlo,'DejaVu Sans Mono',consolas,'Courier New',monospace\"></pre>\n"
      ],
      "text/plain": []
     },
     "metadata": {},
     "output_type": "display_data"
    },
    {
     "data": {
      "text/html": [
       "<pre style=\"white-space:pre;overflow-x:auto;line-height:normal;font-family:Menlo,'DejaVu Sans Mono',consolas,'Courier New',monospace\">\n",
       "</pre>\n"
      ],
      "text/plain": [
       "\n"
      ]
     },
     "metadata": {},
     "output_type": "display_data"
    }
   ],
   "source": [
    "# Sample predictions\n",
    "idata_plot_point = {}\n",
    "for year in years:\n",
    "    with freeze_dims_and_data(damage_curves_plot[year] ):\n",
    "        idata_plot_point[year] = pm.sample_posterior_predictive(merged_posteriors , extend_inferencedata=False, \n",
    "                                                          compile_kwargs={'mode':'JAX'},\n",
    "                                                    var_names=[\n",
    "                                                               'HSGP_component', \n",
    "                                                               'event_features_component', \n",
    "                                                               'logit_p', \n",
    "                                                               'event_prob_y_hat', \n",
    "                                                               \"ln_damage_millions\",\n",
    "                                                                \"damage_millions\", \n",
    "                                                               \"damages_curves\"\n",
    "                                                              ])"
   ]
  },
  {
   "cell_type": "code",
   "execution_count": 52,
   "id": "e20960af-e3ad-4122-b1e4-294501d2ca41",
   "metadata": {},
   "outputs": [
    {
     "data": {
      "text/html": [
       "<div><svg style=\"position: absolute; width: 0; height: 0; overflow: hidden\">\n",
       "<defs>\n",
       "<symbol id=\"icon-database\" viewBox=\"0 0 32 32\">\n",
       "<path d=\"M16 0c-8.837 0-16 2.239-16 5v4c0 2.761 7.163 5 16 5s16-2.239 16-5v-4c0-2.761-7.163-5-16-5z\"></path>\n",
       "<path d=\"M16 17c-8.837 0-16-2.239-16-5v6c0 2.761 7.163 5 16 5s16-2.239 16-5v-6c0 2.761-7.163 5-16 5z\"></path>\n",
       "<path d=\"M16 26c-8.837 0-16-2.239-16-5v6c0 2.761 7.163 5 16 5s16-2.239 16-5v-6c0 2.761-7.163 5-16 5z\"></path>\n",
       "</symbol>\n",
       "<symbol id=\"icon-file-text2\" viewBox=\"0 0 32 32\">\n",
       "<path d=\"M28.681 7.159c-0.694-0.947-1.662-2.053-2.724-3.116s-2.169-2.030-3.116-2.724c-1.612-1.182-2.393-1.319-2.841-1.319h-15.5c-1.378 0-2.5 1.121-2.5 2.5v27c0 1.378 1.122 2.5 2.5 2.5h23c1.378 0 2.5-1.122 2.5-2.5v-19.5c0-0.448-0.137-1.23-1.319-2.841zM24.543 5.457c0.959 0.959 1.712 1.825 2.268 2.543h-4.811v-4.811c0.718 0.556 1.584 1.309 2.543 2.268zM28 29.5c0 0.271-0.229 0.5-0.5 0.5h-23c-0.271 0-0.5-0.229-0.5-0.5v-27c0-0.271 0.229-0.5 0.5-0.5 0 0 15.499-0 15.5 0v7c0 0.552 0.448 1 1 1h7v19.5z\"></path>\n",
       "<path d=\"M23 26h-14c-0.552 0-1-0.448-1-1s0.448-1 1-1h14c0.552 0 1 0.448 1 1s-0.448 1-1 1z\"></path>\n",
       "<path d=\"M23 22h-14c-0.552 0-1-0.448-1-1s0.448-1 1-1h14c0.552 0 1 0.448 1 1s-0.448 1-1 1z\"></path>\n",
       "<path d=\"M23 18h-14c-0.552 0-1-0.448-1-1s0.448-1 1-1h14c0.552 0 1 0.448 1 1s-0.448 1-1 1z\"></path>\n",
       "</symbol>\n",
       "</defs>\n",
       "</svg>\n",
       "<style>/* CSS stylesheet for displaying xarray objects in jupyterlab.\n",
       " *\n",
       " */\n",
       "\n",
       ":root {\n",
       "  --xr-font-color0: var(--jp-content-font-color0, rgba(0, 0, 0, 1));\n",
       "  --xr-font-color2: var(--jp-content-font-color2, rgba(0, 0, 0, 0.54));\n",
       "  --xr-font-color3: var(--jp-content-font-color3, rgba(0, 0, 0, 0.38));\n",
       "  --xr-border-color: var(--jp-border-color2, #e0e0e0);\n",
       "  --xr-disabled-color: var(--jp-layout-color3, #bdbdbd);\n",
       "  --xr-background-color: var(--jp-layout-color0, white);\n",
       "  --xr-background-color-row-even: var(--jp-layout-color1, white);\n",
       "  --xr-background-color-row-odd: var(--jp-layout-color2, #eeeeee);\n",
       "}\n",
       "\n",
       "html[theme=dark],\n",
       "html[data-theme=dark],\n",
       "body[data-theme=dark],\n",
       "body.vscode-dark {\n",
       "  --xr-font-color0: rgba(255, 255, 255, 1);\n",
       "  --xr-font-color2: rgba(255, 255, 255, 0.54);\n",
       "  --xr-font-color3: rgba(255, 255, 255, 0.38);\n",
       "  --xr-border-color: #1F1F1F;\n",
       "  --xr-disabled-color: #515151;\n",
       "  --xr-background-color: #111111;\n",
       "  --xr-background-color-row-even: #111111;\n",
       "  --xr-background-color-row-odd: #313131;\n",
       "}\n",
       "\n",
       ".xr-wrap {\n",
       "  display: block !important;\n",
       "  min-width: 300px;\n",
       "  max-width: 700px;\n",
       "}\n",
       "\n",
       ".xr-text-repr-fallback {\n",
       "  /* fallback to plain text repr when CSS is not injected (untrusted notebook) */\n",
       "  display: none;\n",
       "}\n",
       "\n",
       ".xr-header {\n",
       "  padding-top: 6px;\n",
       "  padding-bottom: 6px;\n",
       "  margin-bottom: 4px;\n",
       "  border-bottom: solid 1px var(--xr-border-color);\n",
       "}\n",
       "\n",
       ".xr-header > div,\n",
       ".xr-header > ul {\n",
       "  display: inline;\n",
       "  margin-top: 0;\n",
       "  margin-bottom: 0;\n",
       "}\n",
       "\n",
       ".xr-obj-type,\n",
       ".xr-array-name {\n",
       "  margin-left: 2px;\n",
       "  margin-right: 10px;\n",
       "}\n",
       "\n",
       ".xr-obj-type {\n",
       "  color: var(--xr-font-color2);\n",
       "}\n",
       "\n",
       ".xr-sections {\n",
       "  padding-left: 0 !important;\n",
       "  display: grid;\n",
       "  grid-template-columns: 150px auto auto 1fr 20px 20px;\n",
       "}\n",
       "\n",
       ".xr-section-item {\n",
       "  display: contents;\n",
       "}\n",
       "\n",
       ".xr-section-item input {\n",
       "  display: none;\n",
       "}\n",
       "\n",
       ".xr-section-item input + label {\n",
       "  color: var(--xr-disabled-color);\n",
       "}\n",
       "\n",
       ".xr-section-item input:enabled + label {\n",
       "  cursor: pointer;\n",
       "  color: var(--xr-font-color2);\n",
       "}\n",
       "\n",
       ".xr-section-item input:enabled + label:hover {\n",
       "  color: var(--xr-font-color0);\n",
       "}\n",
       "\n",
       ".xr-section-summary {\n",
       "  grid-column: 1;\n",
       "  color: var(--xr-font-color2);\n",
       "  font-weight: 500;\n",
       "}\n",
       "\n",
       ".xr-section-summary > span {\n",
       "  display: inline-block;\n",
       "  padding-left: 0.5em;\n",
       "}\n",
       "\n",
       ".xr-section-summary-in:disabled + label {\n",
       "  color: var(--xr-font-color2);\n",
       "}\n",
       "\n",
       ".xr-section-summary-in + label:before {\n",
       "  display: inline-block;\n",
       "  content: '►';\n",
       "  font-size: 11px;\n",
       "  width: 15px;\n",
       "  text-align: center;\n",
       "}\n",
       "\n",
       ".xr-section-summary-in:disabled + label:before {\n",
       "  color: var(--xr-disabled-color);\n",
       "}\n",
       "\n",
       ".xr-section-summary-in:checked + label:before {\n",
       "  content: '▼';\n",
       "}\n",
       "\n",
       ".xr-section-summary-in:checked + label > span {\n",
       "  display: none;\n",
       "}\n",
       "\n",
       ".xr-section-summary,\n",
       ".xr-section-inline-details {\n",
       "  padding-top: 4px;\n",
       "  padding-bottom: 4px;\n",
       "}\n",
       "\n",
       ".xr-section-inline-details {\n",
       "  grid-column: 2 / -1;\n",
       "}\n",
       "\n",
       ".xr-section-details {\n",
       "  display: none;\n",
       "  grid-column: 1 / -1;\n",
       "  margin-bottom: 5px;\n",
       "}\n",
       "\n",
       ".xr-section-summary-in:checked ~ .xr-section-details {\n",
       "  display: contents;\n",
       "}\n",
       "\n",
       ".xr-array-wrap {\n",
       "  grid-column: 1 / -1;\n",
       "  display: grid;\n",
       "  grid-template-columns: 20px auto;\n",
       "}\n",
       "\n",
       ".xr-array-wrap > label {\n",
       "  grid-column: 1;\n",
       "  vertical-align: top;\n",
       "}\n",
       "\n",
       ".xr-preview {\n",
       "  color: var(--xr-font-color3);\n",
       "}\n",
       "\n",
       ".xr-array-preview,\n",
       ".xr-array-data {\n",
       "  padding: 0 5px !important;\n",
       "  grid-column: 2;\n",
       "}\n",
       "\n",
       ".xr-array-data,\n",
       ".xr-array-in:checked ~ .xr-array-preview {\n",
       "  display: none;\n",
       "}\n",
       "\n",
       ".xr-array-in:checked ~ .xr-array-data,\n",
       ".xr-array-preview {\n",
       "  display: inline-block;\n",
       "}\n",
       "\n",
       ".xr-dim-list {\n",
       "  display: inline-block !important;\n",
       "  list-style: none;\n",
       "  padding: 0 !important;\n",
       "  margin: 0;\n",
       "}\n",
       "\n",
       ".xr-dim-list li {\n",
       "  display: inline-block;\n",
       "  padding: 0;\n",
       "  margin: 0;\n",
       "}\n",
       "\n",
       ".xr-dim-list:before {\n",
       "  content: '(';\n",
       "}\n",
       "\n",
       ".xr-dim-list:after {\n",
       "  content: ')';\n",
       "}\n",
       "\n",
       ".xr-dim-list li:not(:last-child):after {\n",
       "  content: ',';\n",
       "  padding-right: 5px;\n",
       "}\n",
       "\n",
       ".xr-has-index {\n",
       "  font-weight: bold;\n",
       "}\n",
       "\n",
       ".xr-var-list,\n",
       ".xr-var-item {\n",
       "  display: contents;\n",
       "}\n",
       "\n",
       ".xr-var-item > div,\n",
       ".xr-var-item label,\n",
       ".xr-var-item > .xr-var-name span {\n",
       "  background-color: var(--xr-background-color-row-even);\n",
       "  margin-bottom: 0;\n",
       "}\n",
       "\n",
       ".xr-var-item > .xr-var-name:hover span {\n",
       "  padding-right: 5px;\n",
       "}\n",
       "\n",
       ".xr-var-list > li:nth-child(odd) > div,\n",
       ".xr-var-list > li:nth-child(odd) > label,\n",
       ".xr-var-list > li:nth-child(odd) > .xr-var-name span {\n",
       "  background-color: var(--xr-background-color-row-odd);\n",
       "}\n",
       "\n",
       ".xr-var-name {\n",
       "  grid-column: 1;\n",
       "}\n",
       "\n",
       ".xr-var-dims {\n",
       "  grid-column: 2;\n",
       "}\n",
       "\n",
       ".xr-var-dtype {\n",
       "  grid-column: 3;\n",
       "  text-align: right;\n",
       "  color: var(--xr-font-color2);\n",
       "}\n",
       "\n",
       ".xr-var-preview {\n",
       "  grid-column: 4;\n",
       "}\n",
       "\n",
       ".xr-index-preview {\n",
       "  grid-column: 2 / 5;\n",
       "  color: var(--xr-font-color2);\n",
       "}\n",
       "\n",
       ".xr-var-name,\n",
       ".xr-var-dims,\n",
       ".xr-var-dtype,\n",
       ".xr-preview,\n",
       ".xr-attrs dt {\n",
       "  white-space: nowrap;\n",
       "  overflow: hidden;\n",
       "  text-overflow: ellipsis;\n",
       "  padding-right: 10px;\n",
       "}\n",
       "\n",
       ".xr-var-name:hover,\n",
       ".xr-var-dims:hover,\n",
       ".xr-var-dtype:hover,\n",
       ".xr-attrs dt:hover {\n",
       "  overflow: visible;\n",
       "  width: auto;\n",
       "  z-index: 1;\n",
       "}\n",
       "\n",
       ".xr-var-attrs,\n",
       ".xr-var-data,\n",
       ".xr-index-data {\n",
       "  display: none;\n",
       "  background-color: var(--xr-background-color) !important;\n",
       "  padding-bottom: 5px !important;\n",
       "}\n",
       "\n",
       ".xr-var-attrs-in:checked ~ .xr-var-attrs,\n",
       ".xr-var-data-in:checked ~ .xr-var-data,\n",
       ".xr-index-data-in:checked ~ .xr-index-data {\n",
       "  display: block;\n",
       "}\n",
       "\n",
       ".xr-var-data > table {\n",
       "  float: right;\n",
       "}\n",
       "\n",
       ".xr-var-name span,\n",
       ".xr-var-data,\n",
       ".xr-index-name div,\n",
       ".xr-index-data,\n",
       ".xr-attrs {\n",
       "  padding-left: 25px !important;\n",
       "}\n",
       "\n",
       ".xr-attrs,\n",
       ".xr-var-attrs,\n",
       ".xr-var-data,\n",
       ".xr-index-data {\n",
       "  grid-column: 1 / -1;\n",
       "}\n",
       "\n",
       "dl.xr-attrs {\n",
       "  padding: 0;\n",
       "  margin: 0;\n",
       "  display: grid;\n",
       "  grid-template-columns: 125px auto;\n",
       "}\n",
       "\n",
       ".xr-attrs dt,\n",
       ".xr-attrs dd {\n",
       "  padding: 0;\n",
       "  margin: 0;\n",
       "  float: left;\n",
       "  padding-right: 10px;\n",
       "  width: auto;\n",
       "}\n",
       "\n",
       ".xr-attrs dt {\n",
       "  font-weight: normal;\n",
       "  grid-column: 1;\n",
       "}\n",
       "\n",
       ".xr-attrs dt:hover span {\n",
       "  display: inline-block;\n",
       "  background: var(--xr-background-color);\n",
       "  padding-right: 10px;\n",
       "}\n",
       "\n",
       ".xr-attrs dd {\n",
       "  grid-column: 2;\n",
       "  white-space: pre-wrap;\n",
       "  word-break: break-all;\n",
       "}\n",
       "\n",
       ".xr-icon-database,\n",
       ".xr-icon-file-text2,\n",
       ".xr-no-icon {\n",
       "  display: inline-block;\n",
       "  vertical-align: middle;\n",
       "  width: 1em;\n",
       "  height: 1.5em !important;\n",
       "  stroke-width: 0;\n",
       "  stroke: currentColor;\n",
       "  fill: currentColor;\n",
       "}\n",
       "</style><pre class='xr-text-repr-fallback'>&lt;xarray.DataArray &#x27;HSGP_component&#x27; (chain: 8, draw: 1000, obs_idx: 11901)&gt; Size: 762MB\n",
       "array([[[-3.27444314, -3.27947647, -3.28368498, ..., -2.98479162,\n",
       "         -3.00359736, -3.02237199],\n",
       "        [-3.71141193, -3.70920643, -3.70614578, ..., -3.72805703,\n",
       "         -3.73583204, -3.74307974],\n",
       "        [-2.98254213, -2.94556645, -2.90894357, ..., -3.93035115,\n",
       "         -3.96662905, -4.00120343],\n",
       "        ...,\n",
       "        [-3.48840366, -3.45889916, -3.42798821, ..., -2.82886749,\n",
       "         -2.84753679, -2.86593357],\n",
       "        [-2.18999389, -2.17980942, -2.17059341, ..., -2.7770144 ,\n",
       "         -2.7981141 , -2.81919777],\n",
       "        [-1.98955154, -1.97519278, -1.96084776, ..., -2.15843562,\n",
       "         -2.17771729, -2.19732421]],\n",
       "\n",
       "       [[-2.11685755, -2.11106234, -2.10535409, ..., -2.35036128,\n",
       "         -2.35743153, -2.36478958],\n",
       "        [-2.07128902, -2.05583019, -2.04054828, ..., -2.26119649,\n",
       "         -2.2707759 , -2.28061631],\n",
       "        [-1.84464224, -1.82388682, -1.80352199, ..., -2.42095019,\n",
       "         -2.43294524, -2.44463693],\n",
       "...\n",
       "        [        nan,         nan,         nan, ...,         nan,\n",
       "                 nan,         nan],\n",
       "        [        nan,         nan,         nan, ...,         nan,\n",
       "                 nan,         nan],\n",
       "        [        nan,         nan,         nan, ...,         nan,\n",
       "                 nan,         nan]],\n",
       "\n",
       "       [[        nan,         nan,         nan, ...,         nan,\n",
       "                 nan,         nan],\n",
       "        [        nan,         nan,         nan, ...,         nan,\n",
       "                 nan,         nan],\n",
       "        [        nan,         nan,         nan, ...,         nan,\n",
       "                 nan,         nan],\n",
       "        ...,\n",
       "        [        nan,         nan,         nan, ...,         nan,\n",
       "                 nan,         nan],\n",
       "        [        nan,         nan,         nan, ...,         nan,\n",
       "                 nan,         nan],\n",
       "        [        nan,         nan,         nan, ...,         nan,\n",
       "                 nan,         nan]]])\n",
       "Coordinates:\n",
       "  * chain    (chain) int32 32B 0 1 2 3 4 5 6 7\n",
       "  * draw     (draw) int32 4kB 0 1 2 3 4 5 6 7 ... 993 994 995 996 997 998 999\n",
       "  * obs_idx  (obs_idx) int32 48kB 0 1 2 3 4 5 ... 11896 11897 11898 11899 11900</pre><div class='xr-wrap' style='display:none'><div class='xr-header'><div class='xr-obj-type'>xarray.DataArray</div><div class='xr-array-name'>'HSGP_component'</div><ul class='xr-dim-list'><li><span class='xr-has-index'>chain</span>: 8</li><li><span class='xr-has-index'>draw</span>: 1000</li><li><span class='xr-has-index'>obs_idx</span>: 11901</li></ul></div><ul class='xr-sections'><li class='xr-section-item'><div class='xr-array-wrap'><input id='section-a3375403-fe2e-4562-8ea2-100d1f04aa3e' class='xr-array-in' type='checkbox' checked><label for='section-a3375403-fe2e-4562-8ea2-100d1f04aa3e' title='Show/hide data repr'><svg class='icon xr-icon-database'><use xlink:href='#icon-database'></use></svg></label><div class='xr-array-preview xr-preview'><span>-3.274 -3.279 -3.284 -3.287 -3.289 -3.291 ... nan nan nan nan nan nan</span></div><div class='xr-array-data'><pre>array([[[-3.27444314, -3.27947647, -3.28368498, ..., -2.98479162,\n",
       "         -3.00359736, -3.02237199],\n",
       "        [-3.71141193, -3.70920643, -3.70614578, ..., -3.72805703,\n",
       "         -3.73583204, -3.74307974],\n",
       "        [-2.98254213, -2.94556645, -2.90894357, ..., -3.93035115,\n",
       "         -3.96662905, -4.00120343],\n",
       "        ...,\n",
       "        [-3.48840366, -3.45889916, -3.42798821, ..., -2.82886749,\n",
       "         -2.84753679, -2.86593357],\n",
       "        [-2.18999389, -2.17980942, -2.17059341, ..., -2.7770144 ,\n",
       "         -2.7981141 , -2.81919777],\n",
       "        [-1.98955154, -1.97519278, -1.96084776, ..., -2.15843562,\n",
       "         -2.17771729, -2.19732421]],\n",
       "\n",
       "       [[-2.11685755, -2.11106234, -2.10535409, ..., -2.35036128,\n",
       "         -2.35743153, -2.36478958],\n",
       "        [-2.07128902, -2.05583019, -2.04054828, ..., -2.26119649,\n",
       "         -2.2707759 , -2.28061631],\n",
       "        [-1.84464224, -1.82388682, -1.80352199, ..., -2.42095019,\n",
       "         -2.43294524, -2.44463693],\n",
       "...\n",
       "        [        nan,         nan,         nan, ...,         nan,\n",
       "                 nan,         nan],\n",
       "        [        nan,         nan,         nan, ...,         nan,\n",
       "                 nan,         nan],\n",
       "        [        nan,         nan,         nan, ...,         nan,\n",
       "                 nan,         nan]],\n",
       "\n",
       "       [[        nan,         nan,         nan, ...,         nan,\n",
       "                 nan,         nan],\n",
       "        [        nan,         nan,         nan, ...,         nan,\n",
       "                 nan,         nan],\n",
       "        [        nan,         nan,         nan, ...,         nan,\n",
       "                 nan,         nan],\n",
       "        ...,\n",
       "        [        nan,         nan,         nan, ...,         nan,\n",
       "                 nan,         nan],\n",
       "        [        nan,         nan,         nan, ...,         nan,\n",
       "                 nan,         nan],\n",
       "        [        nan,         nan,         nan, ...,         nan,\n",
       "                 nan,         nan]]])</pre></div></div></li><li class='xr-section-item'><input id='section-778b218b-ac45-4c1e-b7d3-25f04a5c8c62' class='xr-section-summary-in' type='checkbox'  checked><label for='section-778b218b-ac45-4c1e-b7d3-25f04a5c8c62' class='xr-section-summary' >Coordinates: <span>(3)</span></label><div class='xr-section-inline-details'></div><div class='xr-section-details'><ul class='xr-var-list'><li class='xr-var-item'><div class='xr-var-name'><span class='xr-has-index'>chain</span></div><div class='xr-var-dims'>(chain)</div><div class='xr-var-dtype'>int32</div><div class='xr-var-preview xr-preview'>0 1 2 3 4 5 6 7</div><input id='attrs-052b4a41-1bdf-45c4-bc82-ae5e778bebbf' class='xr-var-attrs-in' type='checkbox' disabled><label for='attrs-052b4a41-1bdf-45c4-bc82-ae5e778bebbf' title='Show/Hide attributes'><svg class='icon xr-icon-file-text2'><use xlink:href='#icon-file-text2'></use></svg></label><input id='data-8fed3297-89be-4176-863e-7abb9668a0c6' class='xr-var-data-in' type='checkbox'><label for='data-8fed3297-89be-4176-863e-7abb9668a0c6' title='Show/Hide data repr'><svg class='icon xr-icon-database'><use xlink:href='#icon-database'></use></svg></label><div class='xr-var-attrs'><dl class='xr-attrs'></dl></div><div class='xr-var-data'><pre>array([0, 1, 2, 3, 4, 5, 6, 7])</pre></div></li><li class='xr-var-item'><div class='xr-var-name'><span class='xr-has-index'>draw</span></div><div class='xr-var-dims'>(draw)</div><div class='xr-var-dtype'>int32</div><div class='xr-var-preview xr-preview'>0 1 2 3 4 5 ... 995 996 997 998 999</div><input id='attrs-8e59e930-5844-49d4-8019-bd99d7a7fd40' class='xr-var-attrs-in' type='checkbox' disabled><label for='attrs-8e59e930-5844-49d4-8019-bd99d7a7fd40' title='Show/Hide attributes'><svg class='icon xr-icon-file-text2'><use xlink:href='#icon-file-text2'></use></svg></label><input id='data-84ed0a3f-0b84-47a8-927c-d8becb1aab82' class='xr-var-data-in' type='checkbox'><label for='data-84ed0a3f-0b84-47a8-927c-d8becb1aab82' title='Show/Hide data repr'><svg class='icon xr-icon-database'><use xlink:href='#icon-database'></use></svg></label><div class='xr-var-attrs'><dl class='xr-attrs'></dl></div><div class='xr-var-data'><pre>array([  0,   1,   2, ..., 997, 998, 999])</pre></div></li><li class='xr-var-item'><div class='xr-var-name'><span class='xr-has-index'>obs_idx</span></div><div class='xr-var-dims'>(obs_idx)</div><div class='xr-var-dtype'>int32</div><div class='xr-var-preview xr-preview'>0 1 2 3 ... 11897 11898 11899 11900</div><input id='attrs-f322b70d-0001-43b4-99d2-c45115d8b92b' class='xr-var-attrs-in' type='checkbox' disabled><label for='attrs-f322b70d-0001-43b4-99d2-c45115d8b92b' title='Show/Hide attributes'><svg class='icon xr-icon-file-text2'><use xlink:href='#icon-file-text2'></use></svg></label><input id='data-e1958a06-c032-4961-88f2-154d1577e475' class='xr-var-data-in' type='checkbox'><label for='data-e1958a06-c032-4961-88f2-154d1577e475' title='Show/Hide data repr'><svg class='icon xr-icon-database'><use xlink:href='#icon-database'></use></svg></label><div class='xr-var-attrs'><dl class='xr-attrs'></dl></div><div class='xr-var-data'><pre>array([    0,     1,     2, ..., 11898, 11899, 11900])</pre></div></li></ul></div></li><li class='xr-section-item'><input id='section-07539a48-023a-47d0-aa94-1b3cfef628e4' class='xr-section-summary-in' type='checkbox'  ><label for='section-07539a48-023a-47d0-aa94-1b3cfef628e4' class='xr-section-summary' >Indexes: <span>(3)</span></label><div class='xr-section-inline-details'></div><div class='xr-section-details'><ul class='xr-var-list'><li class='xr-var-item'><div class='xr-index-name'><div>chain</div></div><div class='xr-index-preview'>PandasIndex</div><div></div><input id='index-74db5103-3c76-46f5-8a38-2b25def429ed' class='xr-index-data-in' type='checkbox'/><label for='index-74db5103-3c76-46f5-8a38-2b25def429ed' title='Show/Hide index repr'><svg class='icon xr-icon-database'><use xlink:href='#icon-database'></use></svg></label><div class='xr-index-data'><pre>PandasIndex(Index([0, 1, 2, 3, 4, 5, 6, 7], dtype=&#x27;int32&#x27;, name=&#x27;chain&#x27;))</pre></div></li><li class='xr-var-item'><div class='xr-index-name'><div>draw</div></div><div class='xr-index-preview'>PandasIndex</div><div></div><input id='index-dfaa7ca9-22bd-4d05-b149-c4eb74be00de' class='xr-index-data-in' type='checkbox'/><label for='index-dfaa7ca9-22bd-4d05-b149-c4eb74be00de' title='Show/Hide index repr'><svg class='icon xr-icon-database'><use xlink:href='#icon-database'></use></svg></label><div class='xr-index-data'><pre>PandasIndex(Index([  0,   1,   2,   3,   4,   5,   6,   7,   8,   9,\n",
       "       ...\n",
       "       990, 991, 992, 993, 994, 995, 996, 997, 998, 999],\n",
       "      dtype=&#x27;int32&#x27;, name=&#x27;draw&#x27;, length=1000))</pre></div></li><li class='xr-var-item'><div class='xr-index-name'><div>obs_idx</div></div><div class='xr-index-preview'>PandasIndex</div><div></div><input id='index-0da46411-ee1e-4ee4-a647-16a7d3854b07' class='xr-index-data-in' type='checkbox'/><label for='index-0da46411-ee1e-4ee4-a647-16a7d3854b07' title='Show/Hide index repr'><svg class='icon xr-icon-database'><use xlink:href='#icon-database'></use></svg></label><div class='xr-index-data'><pre>PandasIndex(Index([    0,     1,     2,     3,     4,     5,     6,     7,     8,     9,\n",
       "       ...\n",
       "       11891, 11892, 11893, 11894, 11895, 11896, 11897, 11898, 11899, 11900],\n",
       "      dtype=&#x27;int32&#x27;, name=&#x27;obs_idx&#x27;, length=11901))</pre></div></li></ul></div></li><li class='xr-section-item'><input id='section-c8b7ec44-0121-4eb3-90ee-c8e77decfb18' class='xr-section-summary-in' type='checkbox' disabled ><label for='section-c8b7ec44-0121-4eb3-90ee-c8e77decfb18' class='xr-section-summary'  title='Expand/collapse section'>Attributes: <span>(0)</span></label><div class='xr-section-inline-details'></div><div class='xr-section-details'><dl class='xr-attrs'></dl></div></li></ul></div></div>"
      ],
      "text/plain": [
       "<xarray.DataArray 'HSGP_component' (chain: 8, draw: 1000, obs_idx: 11901)> Size: 762MB\n",
       "array([[[-3.27444314, -3.27947647, -3.28368498, ..., -2.98479162,\n",
       "         -3.00359736, -3.02237199],\n",
       "        [-3.71141193, -3.70920643, -3.70614578, ..., -3.72805703,\n",
       "         -3.73583204, -3.74307974],\n",
       "        [-2.98254213, -2.94556645, -2.90894357, ..., -3.93035115,\n",
       "         -3.96662905, -4.00120343],\n",
       "        ...,\n",
       "        [-3.48840366, -3.45889916, -3.42798821, ..., -2.82886749,\n",
       "         -2.84753679, -2.86593357],\n",
       "        [-2.18999389, -2.17980942, -2.17059341, ..., -2.7770144 ,\n",
       "         -2.7981141 , -2.81919777],\n",
       "        [-1.98955154, -1.97519278, -1.96084776, ..., -2.15843562,\n",
       "         -2.17771729, -2.19732421]],\n",
       "\n",
       "       [[-2.11685755, -2.11106234, -2.10535409, ..., -2.35036128,\n",
       "         -2.35743153, -2.36478958],\n",
       "        [-2.07128902, -2.05583019, -2.04054828, ..., -2.26119649,\n",
       "         -2.2707759 , -2.28061631],\n",
       "        [-1.84464224, -1.82388682, -1.80352199, ..., -2.42095019,\n",
       "         -2.43294524, -2.44463693],\n",
       "...\n",
       "        [        nan,         nan,         nan, ...,         nan,\n",
       "                 nan,         nan],\n",
       "        [        nan,         nan,         nan, ...,         nan,\n",
       "                 nan,         nan],\n",
       "        [        nan,         nan,         nan, ...,         nan,\n",
       "                 nan,         nan]],\n",
       "\n",
       "       [[        nan,         nan,         nan, ...,         nan,\n",
       "                 nan,         nan],\n",
       "        [        nan,         nan,         nan, ...,         nan,\n",
       "                 nan,         nan],\n",
       "        [        nan,         nan,         nan, ...,         nan,\n",
       "                 nan,         nan],\n",
       "        ...,\n",
       "        [        nan,         nan,         nan, ...,         nan,\n",
       "                 nan,         nan],\n",
       "        [        nan,         nan,         nan, ...,         nan,\n",
       "                 nan,         nan],\n",
       "        [        nan,         nan,         nan, ...,         nan,\n",
       "                 nan,         nan]]])\n",
       "Coordinates:\n",
       "  * chain    (chain) int32 32B 0 1 2 3 4 5 6 7\n",
       "  * draw     (draw) int32 4kB 0 1 2 3 4 5 6 7 ... 993 994 995 996 997 998 999\n",
       "  * obs_idx  (obs_idx) int32 48kB 0 1 2 3 4 5 ... 11896 11897 11898 11899 11900"
      ]
     },
     "execution_count": 52,
     "metadata": {},
     "output_type": "execute_result"
    }
   ],
   "source": [
    "idata_plot_point[\"2026-01-01\"].posterior_predictive[\"HSGP_component\"]"
   ]
  },
  {
   "cell_type": "code",
   "execution_count": 36,
   "id": "17ffcf5d-5e80-4017-9bc1-356788bb06ef",
   "metadata": {},
   "outputs": [
    {
     "ename": "TypeError",
     "evalue": "'tuple' object is not callable",
     "output_type": "error",
     "traceback": [
      "\u001b[1;31m---------------------------------------------------------------------------\u001b[0m",
      "\u001b[1;31mTypeError\u001b[0m                                 Traceback (most recent call last)",
      "Cell \u001b[1;32mIn[36], line 2\u001b[0m\n\u001b[0;32m      1\u001b[0m \u001b[38;5;28;01mfor\u001b[39;00m year \u001b[38;5;129;01min\u001b[39;00m years:\n\u001b[1;32m----> 2\u001b[0m     \u001b[38;5;28mprint\u001b[39m(\u001b[43mpred_df_stand_dict\u001b[49m\u001b[43m[\u001b[49m\u001b[43myear\u001b[49m\u001b[43m]\u001b[49m\u001b[38;5;241;43m.\u001b[39;49m\u001b[43mshape\u001b[49m\u001b[43m(\u001b[49m\u001b[43m)\u001b[49m)\n",
      "\u001b[1;31mTypeError\u001b[0m: 'tuple' object is not callable"
     ]
    }
   ],
   "source": [
    "for year in years:\n",
    "    print(pred_df_stand_dict[year].shape())"
   ]
  },
  {
   "cell_type": "code",
   "execution_count": null,
   "id": "8b0909d4-cd3a-4968-9956-0f346ab51a2e",
   "metadata": {},
   "outputs": [],
   "source": []
  }
 ],
 "metadata": {
  "kernelspec": {
   "display_name": "Python 3 (ipykernel)",
   "language": "python",
   "name": "python3"
  },
  "language_info": {
   "codemirror_mode": {
    "name": "ipython",
    "version": 3
   },
   "file_extension": ".py",
   "mimetype": "text/x-python",
   "name": "python",
   "nbconvert_exporter": "python",
   "pygments_lexer": "ipython3",
   "version": "3.12.5"
  }
 },
 "nbformat": 4,
 "nbformat_minor": 5
}
