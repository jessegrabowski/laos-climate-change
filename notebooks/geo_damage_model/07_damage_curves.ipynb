{
 "cells": [
  {
   "cell_type": "code",
   "execution_count": 1,
   "id": "71b1ac59-355e-4831-9aeb-a35c065018f6",
   "metadata": {},
   "outputs": [],
   "source": [
    "%load_ext autoreload\n",
    "%autoreload 2"
   ]
  },
  {
   "cell_type": "code",
   "execution_count": 2,
   "id": "b46e2784-be41-4a19-a100-6fdf85bde8ab",
   "metadata": {},
   "outputs": [],
   "source": [
    "import os\n",
    "import warnings\n",
    "\n",
    "import sys\n",
    "from pyprojroot import here\n",
    "sys.path.append(\"../..\") \n",
    "# from laos_gggi.statistics import get_distance_to_rivers\n",
    "\n",
    "import pandas as pd\n",
    "import numpy as np\n",
    "import pymc as pm\n",
    "import pytensor\n",
    "import pytensor.tensor as pt\n",
    "import matplotlib.pyplot as plt\n",
    "import arviz as az\n",
    "import geopandas as gpd\n",
    "import xarray as xr\n",
    "\n",
    "from laos_gggi.replication_data import create_replication_data\n",
    "from laos_gggi.plotting import plotting_function_damages \n",
    "from laos_gggi.model import add_data\n",
    "from laos_gggi.plotting import configure_plot_style\n",
    "\n",
    "from laos_gggi.sample import sample_or_load\n",
    "from laos_gggi.transformers import Standardize\n",
    "\n",
    "from laos_gggi.data_functions import load_emdat_data, load_shapefile, load_rivers_data"
   ]
  },
  {
   "cell_type": "code",
   "execution_count": 3,
   "id": "dee9f180-c223-4c07-82f1-04560163c579",
   "metadata": {},
   "outputs": [],
   "source": [
    "# Set random seed\n",
    "SEED = sum(list(map(ord, 'climate_bayes')))\n",
    "rng = np.random.default_rng(SEED)"
   ]
  },
  {
   "cell_type": "markdown",
   "id": "80e177c6-46b4-415c-a80a-4e3fedd0bfea",
   "metadata": {},
   "source": [
    "# Loading and preparing data "
   ]
  },
  {
   "cell_type": "code",
   "execution_count": 4,
   "id": "3f865ed1-c094-47ab-8a89-534aad10e626",
   "metadata": {},
   "outputs": [],
   "source": [
    "# Select SEA countries\n",
    "laos_neighboors = [\n",
    "    \"KHM\",  # Cambodia\n",
    "    \"THA\",  # Thailand\n",
    "    \"LAO\",  # Laos\n",
    "    \"VNM\",  # Vietnam\n",
    "]"
   ]
  },
  {
   "cell_type": "code",
   "execution_count": 6,
   "id": "0224f45b-8d13-4a1b-abf9-9999b7d642ab",
   "metadata": {},
   "outputs": [],
   "source": [
    "# Configure pytensir floats\n",
    "floatX = pytensor.config.floatX\n",
    "\n",
    "\n",
    "# Load idatas\n",
    "event_idata = az.from_netcdf(\"model_closest_full.idata\")\n",
    "damage_idata = az.from_netcdf(\"damages_model.idata\")\n",
    "\n",
    "#Rename ISO dimension to avoid conflicts merging\n",
    "damage_idata =damage_idata.rename({\"ISO\": \"ISO_damage\",\n",
    "                                                   \"country_effect\": \"country_effect_damage\"})\n",
    "\n",
    "#Merge posteriors\n",
    "merged_posteriors = xr.merge([event_idata.sel(ISO = laos_neighboors).posterior,\n",
    "                              damage_idata.posterior])"
   ]
  },
  {
   "cell_type": "code",
   "execution_count": null,
   "id": "6d8e23b6-6ab5-4d77-a947-4c05b8a02adc",
   "metadata": {},
   "outputs": [],
   "source": [
    "# Load maps\n",
    "world = load_shapefile('world')\n",
    "\n",
    "# Define maps\n",
    "sea_map = world.query('ISO_A3 in @laos_neighboors')\n",
    "laos_map = world.query('ISO_A3 == \"LAO\"')"
   ]
  },
  {
   "cell_type": "markdown",
   "id": "b7ee497c-f3c2-486f-9e27-7a123e845919",
   "metadata": {},
   "source": [
    "### Events data"
   ]
  },
  {
   "cell_type": "code",
   "execution_count": 9,
   "id": "16740f5b-bdad-4980-b52f-518d7db2feef",
   "metadata": {},
   "outputs": [],
   "source": [
    "#Load data sets\n",
    "sea_point_grid = pd.read_csv(\"data/sea_point_grid.csv\")\n",
    "laos_point_grid = pd.read_csv(\"data/laos_point_grid.csv\")\n",
    "sea_df = pd.read_csv(\"data/sea.csv\")\n",
    "lao_df = pd.read_csv(\"data/lao.csv\")"
   ]
  },
  {
   "cell_type": "code",
   "execution_count": null,
   "id": "d4abff75-5048-4918-86f6-f2822024ca65",
   "metadata": {},
   "outputs": [],
   "source": [
    "#Train transformer\n",
    "transformer_stand_ =  Standardize().fit(sea_df)"
   ]
  },
  {
   "cell_type": "code",
   "execution_count": null,
   "id": "1f32064e-d093-402c-aed4-0ca272a3cc61",
   "metadata": {},
   "outputs": [],
   "source": [
    "# Load predictions\n"
   ]
  },
  {
   "cell_type": "code",
   "execution_count": 13,
   "id": "6d08e4d2-b05f-46f2-bec8-5c2dd6ab0dcf",
   "metadata": {},
   "outputs": [],
   "source": [
    "# Define time varying features\n",
    "time_varying_features = ['Population','co2','precip_deviation','dev_ocean_temp','log_population_density',\n",
    "                            'log_population_density_squared','log_gdp_per_cap','log_gdp_per_cap_squared']\n",
    "time_varying_features_stand = []\n",
    "\n",
    "for feature in time_varying_features:\n",
    "    time_varying_features_stand.append(feature + \"__standardized\")"
   ]
  },
  {
   "cell_type": "code",
   "execution_count": null,
   "id": "44b67773-1106-42cc-b4f6-60daffd4bc09",
   "metadata": {},
   "outputs": [],
   "source": []
  },
  {
   "cell_type": "code",
   "execution_count": null,
   "id": "9f95f21e-fee8-4618-b283-905e8ee540e1",
   "metadata": {},
   "outputs": [],
   "source": []
  }
 ],
 "metadata": {
  "kernelspec": {
   "display_name": "Python 3 (ipykernel)",
   "language": "python",
   "name": "python3"
  },
  "language_info": {
   "codemirror_mode": {
    "name": "ipython",
    "version": 3
   },
   "file_extension": ".py",
   "mimetype": "text/x-python",
   "name": "python",
   "nbconvert_exporter": "python",
   "pygments_lexer": "ipython3",
   "version": "3.12.5"
  }
 },
 "nbformat": 4,
 "nbformat_minor": 5
}
