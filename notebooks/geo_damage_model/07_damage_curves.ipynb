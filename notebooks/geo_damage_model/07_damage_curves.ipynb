{
 "cells": [
  {
   "cell_type": "code",
   "execution_count": 1,
   "id": "71b1ac59-355e-4831-9aeb-a35c065018f6",
   "metadata": {},
   "outputs": [],
   "source": [
    "%load_ext autoreload\n",
    "%autoreload 2"
   ]
  },
  {
   "cell_type": "code",
   "execution_count": 2,
   "id": "b46e2784-be41-4a19-a100-6fdf85bde8ab",
   "metadata": {},
   "outputs": [],
   "source": [
    "import os\n",
    "import warnings\n",
    "\n",
    "import sys\n",
    "from pyprojroot import here\n",
    "sys.path.append(\"../..\") \n",
    "# from laos_gggi.statistics import get_distance_to_rivers\n",
    "\n",
    "import pandas as pd\n",
    "import numpy as np\n",
    "import pymc as pm\n",
    "import pytensor\n",
    "import pytensor.tensor as pt\n",
    "import matplotlib.pyplot as plt\n",
    "import arviz as az\n",
    "import geopandas as gpd\n",
    "import xarray as xr\n",
    "\n",
    "from laos_gggi.replication_data import create_replication_data\n",
    "from laos_gggi.plotting import plotting_function_damages \n",
    "from laos_gggi.model import add_data\n",
    "from laos_gggi.plotting import configure_plot_style\n",
    "\n",
    "from laos_gggi.sample import sample_or_load\n",
    "from sklearn.preprocessing import StandardScaler as Standardize\n",
    "\n",
    "from laos_gggi.data_functions import load_emdat_data, load_shapefile, load_rivers_data"
   ]
  },
  {
   "cell_type": "code",
   "execution_count": 3,
   "id": "dee9f180-c223-4c07-82f1-04560163c579",
   "metadata": {},
   "outputs": [],
   "source": [
    "# Set random seed\n",
    "SEED = sum(list(map(ord, 'climate_bayes')))\n",
    "rng = np.random.default_rng(SEED)"
   ]
  },
  {
   "cell_type": "markdown",
   "id": "80e177c6-46b4-415c-a80a-4e3fedd0bfea",
   "metadata": {},
   "source": [
    "# Loading and preparing data "
   ]
  },
  {
   "cell_type": "code",
   "execution_count": 4,
   "id": "3f865ed1-c094-47ab-8a89-534aad10e626",
   "metadata": {},
   "outputs": [],
   "source": [
    "# Select SEA countries\n",
    "laos_neighboors = [\n",
    "    \"KHM\",  # Cambodia\n",
    "    \"THA\",  # Thailand\n",
    "    \"LAO\",  # Laos\n",
    "    \"VNM\",  # Vietnam\n",
    "]"
   ]
  },
  {
   "cell_type": "code",
   "execution_count": 5,
   "id": "0224f45b-8d13-4a1b-abf9-9999b7d642ab",
   "metadata": {},
   "outputs": [],
   "source": [
    "# Configure pytensir floats\n",
    "floatX = pytensor.config.floatX\n",
    "\n",
    "\n",
    "# Load idatas\n",
    "event_idata = az.from_netcdf(\"model_closest_full.idata\")\n",
    "damage_idata = az.from_netcdf(\"damages_model.idata\")\n",
    "\n",
    "#Rename ISO dimension to avoid conflicts merging\n",
    "damage_idata =damage_idata.rename({\"ISO\": \"ISO_damage\",\n",
    "                                                   \"country_effect\": \"country_effect_damage\"})\n",
    "\n",
    "#Merge posteriors\n",
    "merged_posteriors = xr.merge([event_idata.sel(ISO = laos_neighboors).posterior,\n",
    "                              damage_idata.posterior])"
   ]
  },
  {
   "cell_type": "code",
   "execution_count": 6,
   "id": "6d8e23b6-6ab5-4d77-a947-4c05b8a02adc",
   "metadata": {},
   "outputs": [],
   "source": [
    "# Load maps\n",
    "world = load_shapefile('world')\n",
    "\n",
    "# Define maps\n",
    "sea_map = world.query('ISO_A3 in @laos_neighboors')\n",
    "laos_map = world.query('ISO_A3 == \"LAO\"')"
   ]
  },
  {
   "cell_type": "markdown",
   "id": "b7ee497c-f3c2-486f-9e27-7a123e845919",
   "metadata": {},
   "source": [
    "### Events data"
   ]
  },
  {
   "cell_type": "code",
   "execution_count": 7,
   "id": "16740f5b-bdad-4980-b52f-518d7db2feef",
   "metadata": {},
   "outputs": [],
   "source": [
    "#Load data sets\n",
    "sea_point_grid = pd.read_csv(here(\"data/sea_point_grid.csv\"),index_col=0  ).rename(columns = {\"ISO_A3\": \"ISO\"})\n",
    "laos_point_grid = pd.read_csv(here(\"data/laos_point_grid.csv\"),index_col=0 ).rename(columns = {\"ISO_A3\": \"ISO\"})\n",
    "sea_df = pd.read_csv(here(\"data/sea.csv\"),index_col=0 )\n",
    "lao_df = pd.read_csv(here(\"data/lao.csv\"),index_col=0 )\n",
    "sea_df_stand = pd.read_csv(here(\"data/sea_df_stand.csv\"),index_col=0 )\n",
    "lao_df_stand = pd.read_csv(here(\"data/lao_df_stand.csv\"),index_col=0 )\n",
    "\n",
    "predictions = pd.read_csv(here(\"data/climate_forecast.csv\")).rename(columns = {\"time\": \"Start_Year\"})"
   ]
  },
  {
   "cell_type": "code",
   "execution_count": 8,
   "id": "21573e45-083f-4341-a376-02523faf9596",
   "metadata": {},
   "outputs": [],
   "source": [
    "# create predictions_ISO\n",
    "predictions[\"ISO\"] = \"LAO\"\n",
    "\n",
    "# Select years of interest\n",
    "prediction_years = [\"2026-01-01\", \"2030-01-01\", \"2035-01-01\", \"2050-01-01\", \"2075-01-01\"]\n",
    "predictions_short = predictions.query('Start_Year in @prediction_years')"
   ]
  },
  {
   "cell_type": "code",
   "execution_count": 9,
   "id": "7f5bf84a-2477-4610-ab6c-2071c24658e5",
   "metadata": {},
   "outputs": [],
   "source": [
    "# merge grid and predictions\n",
    "pred_df = pd.merge(laos_point_grid ,predictions_short, left_on= \"ISO\", right_on= \"ISO\", how = \"left\" )"
   ]
  },
  {
   "cell_type": "code",
   "execution_count": 10,
   "id": "53ab1cab-ef08-4ee3-bf2c-81d2f7c48cdd",
   "metadata": {},
   "outputs": [],
   "source": [
    "# Create population density\n",
    "pred_df[\"population_density\"] = pred_df[\"Population\"] / 236800 # Laos area in squared km hardcoded\n",
    "\n",
    "# Calculate logs\n",
    "pred_df[\"log_population_density\"] = np.log(pred_df[\"population_density\"])\n",
    "pred_df[\"log_gdp_per_cap\"] = np.log(pred_df[\"gdp_per_cap\"])"
   ]
  },
  {
   "cell_type": "code",
   "execution_count": 11,
   "id": "0febb59e-1469-4ffb-b8cd-befe2b8f0170",
   "metadata": {},
   "outputs": [],
   "source": [
    "# Define features\n",
    "event_features = ['lat', 'long', 'log_distance_to_river__standardized', \"log_distance_to_coastline__standardized\",\n",
    "\"log_distance_to_river__standardized_squared\", \"log_distance_to_coastline__standardized_squared\",\n",
    " \"Population__standardized\", \"co2__standardized\", \"precip_deviation__standardized\", \"dev_ocean_temp__standardized\", \n",
    "'log_population_density__standardized','log_gdp_per_cap__standardized', \n",
    "\"log_gdp_per_cap__standardized_squared\", \"log_population_density__standardized_squared\" ]\n",
    "\n",
    "distance_features = event_features[0:6]\n",
    "time_varying_features = event_features[6:]\n",
    "time_varying_features_base =[x[ :-14] for x in event_features[6:12]]\n",
    "\n",
    "cols_to_stand = ['Population','log_distance_to_river', 'dev_ocean_temp',\n",
    "                 'co2', 'log_population_density', 'log_gdp_per_cap',\n",
    "       'precip_deviation', 'log_distance_to_coastline',]\n",
    "\n",
    "cols_to_stand_stand = [x + \"__standardized\" for x in  cols_to_stand]\n",
    "\n",
    "cols_not_stand = ['ISO' , 'Start_Year', 'lat', 'long', 'geometry']"
   ]
  },
  {
   "cell_type": "code",
   "execution_count": 12,
   "id": "d4abff75-5048-4918-86f6-f2822024ca65",
   "metadata": {},
   "outputs": [],
   "source": [
    "#Train transformers\n",
    "transformer_stand_ =  Standardize().fit(sea_df.query('is_disaster == 1')[cols_to_stand] )"
   ]
  },
  {
   "cell_type": "code",
   "execution_count": 13,
   "id": "feac9009-4556-4800-831d-325b0afcbe6d",
   "metadata": {},
   "outputs": [],
   "source": [
    "# standardize pred_df\n",
    "pred_df_stand = transformer_stand_.transform(pred_df[cols_to_stand] )\n",
    "pred_df_stand = pd.DataFrame(pred_df_stand, columns =cols_to_stand_stand )\n",
    "pred_df_stand = pd.merge(pred_df_stand, pred_df[cols_not_stand], left_index=True, right_index= True, how = \"left\" )"
   ]
  },
  {
   "cell_type": "code",
   "execution_count": 14,
   "id": "ce31fde8-70f1-4a0a-a0f3-2ef779419c10",
   "metadata": {},
   "outputs": [],
   "source": [
    "# Calculate logs squared\n",
    "pred_df_stand[\"log_gdp_per_cap__standardized_squared\"] = pred_df_stand[\"log_gdp_per_cap__standardized\"] **2\n",
    "pred_df_stand[\"log_population_density__standardized_squared\"] = pred_df_stand[\"log_population_density__standardized\"] **2\n",
    "\n",
    "pred_df_stand[\"log_distance_to_river__standardized_squared\"] = pred_df_stand[\"log_distance_to_river__standardized\"] **2\n",
    "pred_df_stand[\"log_distance_to_coastline__standardized_squared\"] = pred_df_stand[\"log_distance_to_coastline__standardized\"] **2\n"
   ]
  },
  {
   "cell_type": "markdown",
   "id": "c6b6008e-9c22-4e0c-833f-9fa2f7131fe8",
   "metadata": {},
   "source": [
    "# Set coords"
   ]
  },
  {
   "cell_type": "code",
   "execution_count": 15,
   "id": "54efb647-c59a-45e2-b000-34398a993b33",
   "metadata": {},
   "outputs": [],
   "source": [
    "# Load damage df\n",
    "damage_df_stand = pd.read_csv(here(\"data/damage_df_stand.csv\"),index_col =0 )"
   ]
  },
  {
   "cell_type": "code",
   "execution_count": 16,
   "id": "23d67115-3b24-48e8-95d1-bf394b20ac2a",
   "metadata": {},
   "outputs": [],
   "source": [
    "# gp features\n",
    "gp_features = [\"lat\", \"long\"]\n",
    "\n",
    "# damage features\n",
    "damage_features = ['population__standardized',\n",
    " 'ln_population_density__standardized',\n",
    " 'ln_population_density_squared__standardized',\n",
    " 'ln_gdp_pc__standardized',\n",
    " 'square_ln_gdp_pc__standardized',\n",
    " 'dev_from_trend_ocean_temp__standardized',\n",
    " 'co2__standardized',\n",
    " 'precip_deviation__standardized']\n",
    "\n",
    "# Event features\n",
    "event_features = ['log_distance_to_river__standardized',\n",
    " 'log_distance_to_coastline__standardized',\n",
    " 'Population__standardized',\n",
    " 'co2__standardized',\n",
    " 'precip_deviation__standardized',\n",
    " 'dev_ocean_temp__standardized',\n",
    " 'log_population_density__standardized',\n",
    " 'log_gdp_per_cap__standardized',\n",
    " 'log_gdp_per_cap__standardized__squared',\n",
    " 'log_population_density__standardized__squared',\n",
    " 'log_distance_to_river__standardized__squared',\n",
    " 'log_distance_to_coastline__standardized__squared']\n",
    "\n"
   ]
  },
  {
   "cell_type": "code",
   "execution_count": 17,
   "id": "f524854c-5a91-473c-b832-70f80a33b0ca",
   "metadata": {},
   "outputs": [],
   "source": [
    "# Define event coords\n",
    "is_disaster_idx_events , is_disaster_events  = pd.factorize(sea_df_stand[\"is_disaster\"])\n",
    "ISO_idx_events , ISO_events  = pd.factorize(sea_df_stand[\"ISO\"]) \n",
    "obs_idx_events  = sea_df_stand.index\n",
    "\n",
    "#Creating idx\n",
    "xr_idx_events  = xr.Coordinates.from_pandas_multiindex(sea_df_stand.set_index(['ISO', 'Start_Year']).index, 'obs_idx')\n",
    "\n",
    "#Set coords\n",
    "event_coords = {\"is_disaster\" : is_disaster_events,\n",
    "        \"obs_idx\": obs_idx_events,\n",
    "        \"ISO\": ISO_events,\n",
    "        \"feature\": event_features,\n",
    "        \"gp_feature\":gp_features }\n"
   ]
  },
  {
   "cell_type": "code",
   "execution_count": 19,
   "id": "3aac5df1-d36c-47ac-9820-90969615bf33",
   "metadata": {},
   "outputs": [],
   "source": [
    "# Define damage coords\n",
    "ISO_idx_damage, ISO_damage =  pd.factorize(damage_df_stand[\"ISO\"])\n",
    "coords_damage = {\n",
    "    'ISO':ISO_damage,\n",
    "    'obs_idx':damage_df_stand.index,\n",
    "    'feature': damage_features\n",
    "        }    \n",
    "\n",
    "xr_idx_damage = xr.Coordinates.from_pandas_multiindex(damage_df_stand.set_index(['ISO', 'year']).index, 'obs_idx')\n"
   ]
  },
  {
   "cell_type": "code",
   "execution_count": 79,
   "id": "430fb911-29ce-48bd-bcd2-e6c20445d64e",
   "metadata": {},
   "outputs": [],
   "source": [
    "# Prediction coords\n",
    "obs_idx = pred_df_stand.index\n",
    "gp_features = [\"lat\", \"long\"]\n",
    "\n",
    "\n",
    "# Rebuild ISO_idx_sea\n",
    "ISO_idx, ISO = pd.factorize(sea_df[\"ISO\"]) \n",
    "\n",
    "ISO_to_idx = {name: idx for idx, name in enumerate(ISO)}\n",
    "ISO_idx_laos =  pred_df_stand.ISO.map(ISO_to_idx.get)\n",
    "\n",
    "years = pred_df_stand[\"Start_Year\"].unique()\n",
    "\n",
    "# ISO damage\n",
    "ISO_damage_idx, ISO_damage =  pd.factorize(damage_df_stand[\"ISO\"])\n",
    "ISO_to_idx_2 = {name: idx for idx, name in enumerate(ISO_damage)}\n",
    "ISO_damage_idx_laos =  pred_df_stand.ISO.map(ISO_to_idx_2.get)\n",
    "\n",
    "\n",
    "#Set coords_predictions\n",
    "coords_predictions = {\n",
    "    # \"is_disaster\" : is_disaster,\n",
    "        \"obs_idx\": obs_idx,\n",
    "        \"ISO\": ISO,\n",
    "        \"distance_features\": distance_features,\n",
    "        \"time_varying_features\" : time_varying_features,\n",
    "        \"gp_feature\":gp_features,\n",
    "        \"ISO_damage\": ISO_damage ,\n",
    "        \"damage_features\": damage_features,\n",
    "        \"year\":years\n",
    "                     }"
   ]
  }
 ],
 "metadata": {
  "kernelspec": {
   "display_name": "Python 3 (ipykernel)",
   "language": "python",
   "name": "python3"
  },
  "language_info": {
   "codemirror_mode": {
    "name": "ipython",
    "version": 3
   },
   "file_extension": ".py",
   "mimetype": "text/x-python",
   "name": "python",
   "nbconvert_exporter": "python",
   "pygments_lexer": "ipython3",
   "version": "3.12.5"
  }
 },
 "nbformat": 4,
 "nbformat_minor": 5
}
