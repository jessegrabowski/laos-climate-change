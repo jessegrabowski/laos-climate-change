{
 "cells": [
  {
   "cell_type": "code",
   "execution_count": 34,
   "id": "5ffe6f93-a92c-4eb7-9d27-d9f89eefbb71",
   "metadata": {},
   "outputs": [
    {
     "name": "stdout",
     "output_type": "stream",
     "text": [
      "The autoreload extension is already loaded. To reload it, use:\n",
      "  %reload_ext autoreload\n"
     ]
    }
   ],
   "source": [
    "%load_ext autoreload\n",
    "%autoreload 2"
   ]
  },
  {
   "cell_type": "code",
   "execution_count": 37,
   "id": "b46e2784-be41-4a19-a100-6fdf85bde8ab",
   "metadata": {},
   "outputs": [
    {
     "ename": "ImportError",
     "evalue": "cannot import name 'load_model_df' from 'laos_gggi.data_functions.combine_data' (C:\\Users\\camil\\Documents\\Servicios\\OCDE-GGI\\laos-climate-change\\notebooks\\geo_damage_model\\../..\\laos_gggi\\data_functions\\combine_data.py)",
     "output_type": "error",
     "traceback": [
      "\u001b[1;31m---------------------------------------------------------------------------\u001b[0m",
      "\u001b[1;31mImportError\u001b[0m                               Traceback (most recent call last)",
      "Cell \u001b[1;32mIn[37], line 38\u001b[0m\n\u001b[0;32m     35\u001b[0m \u001b[38;5;28;01mfrom\u001b[39;00m \u001b[38;5;21;01mlaos_gggi\u001b[39;00m\u001b[38;5;21;01m.\u001b[39;00m\u001b[38;5;21;01msample\u001b[39;00m \u001b[38;5;28;01mimport\u001b[39;00m sample_or_load\n\u001b[0;32m     36\u001b[0m \u001b[38;5;28;01mfrom\u001b[39;00m \u001b[38;5;21;01mlaos_gggi\u001b[39;00m\u001b[38;5;21;01m.\u001b[39;00m\u001b[38;5;21;01mmodel\u001b[39;00m \u001b[38;5;28;01mimport\u001b[39;00m add_country_effect, get_distance_to, compute_center\n\u001b[1;32m---> 38\u001b[0m \u001b[38;5;28;01mfrom\u001b[39;00m \u001b[38;5;21;01mlaos_gggi\u001b[39;00m\u001b[38;5;21;01m.\u001b[39;00m\u001b[38;5;21;01mdata_functions\u001b[39;00m\u001b[38;5;21;01m.\u001b[39;00m\u001b[38;5;21;01mcombine_data\u001b[39;00m \u001b[38;5;28;01mimport\u001b[39;00m load_model_df\n",
      "\u001b[1;31mImportError\u001b[0m: cannot import name 'load_model_df' from 'laos_gggi.data_functions.combine_data' (C:\\Users\\camil\\Documents\\Servicios\\OCDE-GGI\\laos-climate-change\\notebooks\\geo_damage_model\\../..\\laos_gggi\\data_functions\\combine_data.py)"
     ]
    }
   ],
   "source": [
    "# import jax\n",
    "# jax.config.update('jax_platform_name', 'cpu')\n",
    "import numpyro\n",
    "numpyro.set_host_device_count(8)\n",
    "import os\n",
    "import warnings\n",
    "\n",
    "import sys\n",
    "from pyprojroot import here\n",
    "sys.path.append(\"../..\") \n",
    "# from laos_gggi.statistics import get_distance_to_rivers\n",
    "\n",
    "import pandas as pd\n",
    "import numpy as np\n",
    "import pymc as pm\n",
    "import pytensor\n",
    "import pytensor.tensor as pt\n",
    "import matplotlib.pyplot as plt\n",
    "import arviz as az\n",
    "import geopandas as gpd\n",
    "import xarray as xr\n",
    "\n",
    "# from sklearn.compose import ColumnTransformer\n",
    "# from sklearn.preprocessing import StandardScaler, PolynomialFeatures\n",
    "\n",
    "from laos_gggi import load_all_data, load_gpcc_data, load_emdat_data, load_shapefile, load_wb_data\n",
    "from laos_gggi.data_functions.rivers_data_loader import load_rivers_data\n",
    "# from laos_gggi.statistics import get_distance_to_rivers\n",
    "from laos_gggi.data_functions.rivers_damage import create_hydro_rivers_damage, create_floods_rivers_damage\n",
    "from laos_gggi.replication_data import create_replication_data\n",
    "from laos_gggi.const_vars import COUNTRIES_ISO, ISO_DICTIONARY, LAOS_LOCATION_DICTIONARY\n",
    "from laos_gggi.plotting import( configure_plot_style, plot_ppc_loopit, generate_plot_inputs, \n",
    "plotting_function, create_grid_from_shape, )\n",
    "\n",
    "from laos_gggi.sample import sample_or_load\n",
    "from laos_gggi.model import add_country_effect, get_distance_to, compute_center\n",
    "\n",
    "from laos_gggi.data_functions.combine_data import load_model_df\n"
   ]
  },
  {
   "cell_type": "code",
   "execution_count": 17,
   "id": "dee9f180-c223-4c07-82f1-04560163c579",
   "metadata": {},
   "outputs": [],
   "source": [
    "# Set random seed\n",
    "SEED = sum(list(map(ord, 'climate_bayes')))\n",
    "rng = np.random.default_rng(SEED)"
   ]
  },
  {
   "cell_type": "code",
   "execution_count": 18,
   "id": "47f79a72-85c4-49a3-a453-5b94c583a630",
   "metadata": {},
   "outputs": [],
   "source": [
    "# Configure plot style\n",
    "configure_plot_style()"
   ]
  },
  {
   "cell_type": "markdown",
   "id": "db061b2e-eb57-4233-ba85-708c8df69508",
   "metadata": {},
   "source": [
    "# Importing and cleaning data"
   ]
  },
  {
   "cell_type": "code",
   "execution_count": 22,
   "id": "d49da7f2-e922-42e4-bd97-b8ffb040a105",
   "metadata": {},
   "outputs": [],
   "source": [
    "rep_df = create_replication_data()\n",
    "emdat = load_emdat_data()\n",
    "wb = load_wb_data()\n",
    "\n",
    "#Load shapefiles\n",
    "world = load_shapefile('world', repair_ISO_codes=True)\n",
    "laos = load_shapefile('laos')\n",
    "coastline = load_shapefile('coastline')\n",
    "rivers = load_rivers_data()"
   ]
  },
  {
   "cell_type": "code",
   "execution_count": 23,
   "id": "8dde3b33-6061-470c-91cb-4662d270de34",
   "metadata": {},
   "outputs": [],
   "source": [
    "# Import shapefiles\n",
    "world = load_shapefile('world')\n",
    "laos = load_shapefile('laos')"
   ]
  },
  {
   "cell_type": "code",
   "execution_count": 26,
   "id": "eb1c65a0-1064-4f59-be55-3c4d3bac05ab",
   "metadata": {},
   "outputs": [
    {
     "data": {
      "application/vnd.jupyter.widget-view+json": {
       "model_id": "d2e115350bb54cf38c7cd3bb47d5c153",
       "version_major": 2,
       "version_minor": 0
      },
      "text/plain": [
       "  0%|          | 0/854 [00:00<?, ?it/s]"
      ]
     },
     "metadata": {},
     "output_type": "display_data"
    },
    {
     "name": "stderr",
     "output_type": "stream",
     "text": [
      "C:\\Users\\camil\\Documents\\Servicios\\OCDE-GGI\\laos-climate-change\\notebooks\\geo_damage_model\\../..\\laos_gggi\\data_functions\\rivers_damage.py:75: UserWarning: Column names longer than 10 characters will be truncated when saved to ESRI Shapefile.\n",
      "  damage_df.to_file(os.path.join(data_path, RIVERS_HYDRO_DAMAGE_FILENAME))\n",
      "C:\\Users\\camil\\miniforge3\\envs\\laos-climate-change\\Lib\\site-packages\\pyogrio\\raw.py:709: RuntimeWarning: Normalized/laundered field name: 'River Basin' to 'River Basi'\n",
      "  ogr_write(\n",
      "C:\\Users\\camil\\miniforge3\\envs\\laos-climate-change\\Lib\\site-packages\\pyogrio\\raw.py:709: RuntimeWarning: Normalized/laundered field name: 'Total_Damage_Hydro' to 'Total_Dama'\n",
      "  ogr_write(\n",
      "C:\\Users\\camil\\miniforge3\\envs\\laos-climate-change\\Lib\\site-packages\\pyogrio\\raw.py:709: RuntimeWarning: Normalized/laundered field name: 'Total_Affected_Hydro' to 'Total_Affe'\n",
      "  ogr_write(\n",
      "C:\\Users\\camil\\miniforge3\\envs\\laos-climate-change\\Lib\\site-packages\\pyogrio\\raw.py:709: RuntimeWarning: Field year create as date field, though DateTime requested.\n",
      "  ogr_write(\n",
      "C:\\Users\\camil\\miniforge3\\envs\\laos-climate-change\\Lib\\site-packages\\pyogrio\\raw.py:709: RuntimeWarning: Normalized/laundered field name: 'closest_river' to 'closest_ri'\n",
      "  ogr_write(\n",
      "C:\\Users\\camil\\miniforge3\\envs\\laos-climate-change\\Lib\\site-packages\\pyogrio\\raw.py:709: RuntimeWarning: Normalized/laundered field name: 'log_damage_hydro' to 'log_damage'\n",
      "  ogr_write(\n",
      "C:\\Users\\camil\\miniforge3\\envs\\laos-climate-change\\Lib\\site-packages\\pyogrio\\raw.py:709: RuntimeWarning: Normalized/laundered field name: 'log_affected_hydro' to 'log_affect'\n",
      "  ogr_write(\n",
      "C:\\Users\\camil\\miniforge3\\envs\\laos-climate-change\\Lib\\site-packages\\pyogrio\\raw.py:709: RuntimeWarning: Value 'Merrimack, Salmon Falls, Warner, Baker, Connecticut, Contoocook, Pemigewasset, Piscataqua, Saco, Smith, Souhegan, Spicket, Sugar, Turkey, Newfound, Powow, Lamprey, Aberjona, Assabet, Blackstone, Charles, Concord, Ipswich, Merrimack, Nashua, Neponset, North Nashua, Shawsheen, Spicket, Squannacook, Sudbury, Mousam, Presumpscot, Swift' of field River Basi has been truncated to 254 characters.  This warning will not be emitted any more for that layer.\n",
      "  ogr_write(\n"
     ]
    }
   ],
   "source": [
    "# Create the damagedf\n",
    "\n",
    "damage_df = create_hydro_rivers_damage()\n",
    "\n",
    "emdat_iso = damage_df.ISO.unique()\n",
    "world_iso = world.ISO_A3.unique()\n",
    "wb_iso = wb.index.get_level_values(0).unique()\n",
    "\n",
    "# Codes in shapefile but not in EMDAT\n",
    "common_codes = set(world_iso).intersection(set(emdat_iso)).intersection(set(wb_iso))\n",
    "damage_df = damage_df.query('ISO in @common_codes').copy()\n",
    "world = world.query('ISO_A3 in @common_codes').copy()\n",
    "wb = (wb.reset_index().query('country_code in @common_codes').assign(year = lambda x: pd.to_datetime(x.year, format='%Y')).copy())\n",
    "\n",
    "damage_df = (pd.merge(damage_df, wb, left_on=['ISO', 'year'], right_on=['country_code', 'year'], how='left')\n",
    "             .dropna(subset=['population_density', 'gdp_per_cap', 'Population']))\n"
   ]
  },
  {
   "cell_type": "code",
   "execution_count": 28,
   "id": "7213054c-0d1d-4b39-a320-3cb16b57a33c",
   "metadata": {},
   "outputs": [
    {
     "data": {
      "application/vnd.jupyter.widget-view+json": {
       "model_id": "a3a959e450424c2893ba5b6edaabf7c1",
       "version_major": 2,
       "version_minor": 0
      },
      "text/plain": [
       "  0%|          | 0/766 [00:00<?, ?it/s]"
      ]
     },
     "metadata": {},
     "output_type": "display_data"
    },
    {
     "name": "stderr",
     "output_type": "stream",
     "text": [
      "C:\\Users\\camil\\Documents\\Servicios\\OCDE-GGI\\laos-climate-change\\notebooks\\geo_damage_model\\../..\\laos_gggi\\data_functions\\rivers_damage.py:163: UserWarning: Column names longer than 10 characters will be truncated when saved to ESRI Shapefile.\n",
      "  damage_df_f.to_file(os.path.join(data_path, RIVERS_FLOODS_DAMAGE_FILENAME))\n",
      "C:\\Users\\camil\\miniforge3\\envs\\laos-climate-change\\Lib\\site-packages\\pyogrio\\raw.py:709: RuntimeWarning: Normalized/laundered field name: 'River Basin' to 'River Basi'\n",
      "  ogr_write(\n",
      "C:\\Users\\camil\\miniforge3\\envs\\laos-climate-change\\Lib\\site-packages\\pyogrio\\raw.py:709: RuntimeWarning: Normalized/laundered field name: 'Total_Damage_Flood' to 'Total_Dama'\n",
      "  ogr_write(\n",
      "C:\\Users\\camil\\miniforge3\\envs\\laos-climate-change\\Lib\\site-packages\\pyogrio\\raw.py:709: RuntimeWarning: Normalized/laundered field name: 'Total_Affected_Flood' to 'Total_Affe'\n",
      "  ogr_write(\n",
      "C:\\Users\\camil\\miniforge3\\envs\\laos-climate-change\\Lib\\site-packages\\pyogrio\\raw.py:709: RuntimeWarning: Field year create as date field, though DateTime requested.\n",
      "  ogr_write(\n",
      "C:\\Users\\camil\\miniforge3\\envs\\laos-climate-change\\Lib\\site-packages\\pyogrio\\raw.py:709: RuntimeWarning: Normalized/laundered field name: 'closest_river' to 'closest_ri'\n",
      "  ogr_write(\n",
      "C:\\Users\\camil\\miniforge3\\envs\\laos-climate-change\\Lib\\site-packages\\pyogrio\\raw.py:709: RuntimeWarning: Normalized/laundered field name: 'log_damage_floods' to 'log_damage'\n",
      "  ogr_write(\n",
      "C:\\Users\\camil\\miniforge3\\envs\\laos-climate-change\\Lib\\site-packages\\pyogrio\\raw.py:709: RuntimeWarning: Normalized/laundered field name: 'log_affected_floods' to 'log_affect'\n",
      "  ogr_write(\n",
      "C:\\Users\\camil\\miniforge3\\envs\\laos-climate-change\\Lib\\site-packages\\pyogrio\\raw.py:709: RuntimeWarning: Value 'Trinidad city (Cercado district, Beni province), San Borja, Rurrenabaque cities (General Jose Ballivi district, Beni province), Riberalta city (Vaca Diez district, Beni province), Viloma city (Quillacollo district, Cochabamba province), Tiraque district (Cochabamba province), La Paz city (Murillo district, La Paz province), Luribay city (Loayza district, La Paz province), Papel Pampa, San Pedro de Curahuara municipalities (Gualberto Villarroel district, La Paz province), Los Yungas (Sur Yungas, Nor Yungas, Caranavi districts, La Paz province), Jorochito, Tiquipaya, Pailas, El Espino cites (Andres Ibanez district, Santa Cruz province), Boyuibe city (Cordillera district, Santa Cruz province), Cuatro Canadas, San Julian municipalities (Nuflo de Chavez district, Santa Cruz province), Okinawa city (Warnes district, Santa Cruz province), Villa Montes municipality (Gran Chaco district, Tarija province), Chuquisaca, Pando, Potosi provinces' of field Location has been truncated to 254 characters.  This warning will not be emitted any more for that layer.\n",
      "  ogr_write(\n"
     ]
    }
   ],
   "source": [
    "#Floods damages and people_affected\n",
    "damage_df_f = create_floods_rivers_damage()\n",
    "damage_df_f = pd.merge(damage_df_f, rep_df, right_on=[\"ISO\", \"year\"], left_on= [\"ISO\", \"year\"], how = \"left\")\n",
    "\n",
    "#Create different \"ORDFLOW\" dummies\n",
    "damage_df_f[\"ORD_FLOW_1\"] = 0\n",
    "for i in damage_df_f.index.values:\n",
    "    if damage_df_f.loc[i, \"ORD_FLOW\"] == 1:\n",
    "        damage_df_f.loc[i, \"ORD_FLOW_1\"] = 1\n",
    "\n",
    "#Create the variable intrecation between closest river and ORD_FLOW\n",
    "damage_df_f[\"closest_river_int_ORD_FLOW_1\"] = damage_df_f[\"closest_river\"] * damage_df_f[\"ORD_FLOW_1\"]"
   ]
  },
  {
   "cell_type": "code",
   "execution_count": 29,
   "id": "36eeb23d-0d58-4fad-836a-803b7bd60564",
   "metadata": {},
   "outputs": [
    {
     "name": "stderr",
     "output_type": "stream",
     "text": [
      "[autoreload of laos_gggi.data_functions.combine_data failed: Traceback (most recent call last):\n",
      "  File \"C:\\Users\\camil\\miniforge3\\envs\\laos-climate-change\\Lib\\site-packages\\IPython\\extensions\\autoreload.py\", line 276, in check\n",
      "    superreload(m, reload, self.old_objects)\n",
      "  File \"C:\\Users\\camil\\miniforge3\\envs\\laos-climate-change\\Lib\\site-packages\\IPython\\extensions\\autoreload.py\", line 475, in superreload\n",
      "    module = reload(module)\n",
      "             ^^^^^^^^^^^^^^\n",
      "  File \"C:\\Users\\camil\\miniforge3\\envs\\laos-climate-change\\Lib\\importlib\\__init__.py\", line 131, in reload\n",
      "    _bootstrap._exec(spec, module)\n",
      "  File \"<frozen importlib._bootstrap>\", line 866, in _exec\n",
      "  File \"<frozen importlib._bootstrap_external>\", line 995, in exec_module\n",
      "  File \"<frozen importlib._bootstrap>\", line 488, in _call_with_frames_removed\n",
      "  File \"C:\\Users\\camil\\Documents\\Servicios\\OCDE-GGI\\laos-climate-change\\notebooks\\geo_damage_model\\../..\\laos_gggi\\data_functions\\combine_data.py\", line 11, in <module>\n",
      "    from laos_gggi.const_vars import MODEL_DF_FILENAME\n",
      "ImportError: cannot import name 'MODEL_DF_FILENAME' from 'laos_gggi.const_vars' (C:\\Users\\camil\\Documents\\Servicios\\OCDE-GGI\\laos-climate-change\\notebooks\\geo_damage_model\\../..\\laos_gggi\\const_vars.py)\n",
      "]\n"
     ]
    },
    {
     "ename": "NameError",
     "evalue": "name 'load_model_df' is not defined",
     "output_type": "error",
     "traceback": [
      "\u001b[1;31m---------------------------------------------------------------------------\u001b[0m",
      "\u001b[1;31mNameError\u001b[0m                                 Traceback (most recent call last)",
      "Cell \u001b[1;32mIn[29], line 2\u001b[0m\n\u001b[0;32m      1\u001b[0m \u001b[38;5;66;03m# Loading data\u001b[39;00m\n\u001b[1;32m----> 2\u001b[0m model_df \u001b[38;5;241m=\u001b[39m \u001b[43mload_model_df\u001b[49m()\n\u001b[0;32m      4\u001b[0m \u001b[38;5;66;03m#Delimiting data set\u001b[39;00m\n\u001b[0;32m      5\u001b[0m model_list_2 \u001b[38;5;241m=\u001b[39m [\u001b[38;5;124m'\u001b[39m\u001b[38;5;124mISO\u001b[39m\u001b[38;5;124m'\u001b[39m, \u001b[38;5;124m'\u001b[39m\u001b[38;5;124mStart_Year\u001b[39m\u001b[38;5;124m'\u001b[39m, \u001b[38;5;124m\"\u001b[39m\u001b[38;5;124mis_disaster\u001b[39m\u001b[38;5;124m\"\u001b[39m, \u001b[38;5;124m'\u001b[39m\u001b[38;5;124mlog_distance_to_river\u001b[39m\u001b[38;5;124m'\u001b[39m, \u001b[38;5;124m'\u001b[39m\u001b[38;5;124mlog_distance_to_coastline\u001b[39m\u001b[38;5;124m'\u001b[39m,\n\u001b[0;32m      6\u001b[0m                 \u001b[38;5;124m'\u001b[39m\u001b[38;5;124mis_island\u001b[39m\u001b[38;5;124m'\u001b[39m, \u001b[38;5;124m\"\u001b[39m\u001b[38;5;124mlat\u001b[39m\u001b[38;5;124m\"\u001b[39m, \u001b[38;5;124m\"\u001b[39m\u001b[38;5;124mlong\u001b[39m\u001b[38;5;124m\"\u001b[39m ]\n",
      "\u001b[1;31mNameError\u001b[0m: name 'load_model_df' is not defined"
     ]
    }
   ],
   "source": [
    "# Loading data\n",
    "model_df = load_model_df()\n",
    "\n",
    "#Delimiting data set\n",
    "model_list_2 = ['ISO', 'Start_Year', \"is_disaster\", 'log_distance_to_river', 'log_distance_to_coastline',\n",
    "                'is_island', \"lat\", \"long\" ]\n",
    "\n",
    "\n",
    "distance_features_2 = ['log_distance_to_river', 'log_distance_to_coastline', 'is_island']\n",
    "\n",
    "time_varying_features_2 = [\"Population\", \"co2\", \"precip_deviation\", \"dev_ocean_temp\", 'log_population_density', 'log_population_density_squared',\n",
    "             'log_gdp_per_cap', 'log_gdp_per_cap_squared']\n",
    "\n",
    "model_df_2 = model_df[model_list_2 + time_varying_features_2].dropna()"
   ]
  },
  {
   "cell_type": "code",
   "execution_count": null,
   "id": "e60b0d3d-9f38-4021-875a-cd5209556d2a",
   "metadata": {},
   "outputs": [],
   "source": []
  }
 ],
 "metadata": {
  "kernelspec": {
   "display_name": "Python 3 (ipykernel)",
   "language": "python",
   "name": "python3"
  },
  "language_info": {
   "codemirror_mode": {
    "name": "ipython",
    "version": 3
   },
   "file_extension": ".py",
   "mimetype": "text/x-python",
   "name": "python",
   "nbconvert_exporter": "python",
   "pygments_lexer": "ipython3",
   "version": "3.12.5"
  }
 },
 "nbformat": 4,
 "nbformat_minor": 5
}
