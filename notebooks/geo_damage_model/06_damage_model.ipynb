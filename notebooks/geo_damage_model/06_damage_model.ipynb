{
 "cells": [
  {
   "cell_type": "code",
   "execution_count": 1,
   "id": "5ffe6f93-a92c-4eb7-9d27-d9f89eefbb71",
   "metadata": {},
   "outputs": [],
   "source": [
    "%load_ext autoreload\n",
    "%autoreload 2"
   ]
  },
  {
   "cell_type": "code",
   "execution_count": 13,
   "id": "b46e2784-be41-4a19-a100-6fdf85bde8ab",
   "metadata": {},
   "outputs": [],
   "source": [
    "# import jax\n",
    "# jax.config.update('jax_platform_name', 'cpu')\n",
    "import numpyro\n",
    "numpyro.set_host_device_count(8)\n",
    "import os\n",
    "import warnings\n",
    "\n",
    "import sys\n",
    "from pyprojroot import here\n",
    "sys.path.append(\"../..\") \n",
    "# from laos_gggi.statistics import get_distance_to_rivers\n",
    "\n",
    "import pandas as pd\n",
    "import numpy as np\n",
    "import pymc as pm\n",
    "import pytensor\n",
    "import pytensor.tensor as pt\n",
    "import matplotlib.pyplot as plt\n",
    "import arviz as az\n",
    "import geopandas as gpd\n",
    "import xarray as xr\n",
    "\n",
    "# from sklearn.compose import ColumnTransformer\n",
    "# from sklearn.preprocessing import StandardScaler, PolynomialFeatures\n",
    "\n",
    "from laos_gggi import load_all_data, load_gpcc_data, load_emdat_data, load_shapefile, load_wb_data\n",
    "# from laos_gggi.data_functions.rivers_data_loader import load_rivers_data\n",
    "# from laos_gggi.statistics import get_distance_to_rivers\n",
    "# from laos_gggi.data_functions.rivers_damage import create_hydro_rivers_damage, create_floods_rivers_damage\n",
    "from laos_gggi.replication_data import create_replication_data\n",
    "from laos_gggi.const_vars import COUNTRIES_ISO, ISO_DICTIONARY, LAOS_LOCATION_DICTIONARY\n",
    "from laos_gggi.plotting import( configure_plot_style, plot_ppc_loopit, generate_plot_inputs, \n",
    "plotting_function, create_grid_from_shape, )\n",
    "\n",
    "from laos_gggi.sample import sample_or_load\n",
    "from laos_gggi.model import add_country_effect, get_distance_to, compute_center\n"
   ]
  },
  {
   "cell_type": "code",
   "execution_count": 12,
   "id": "dee9f180-c223-4c07-82f1-04560163c579",
   "metadata": {},
   "outputs": [],
   "source": [
    "# Set random seed\n",
    "SEED = sum(list(map(ord, 'climate_bayes')))\n",
    "rng = np.random.default_rng(SEED)"
   ]
  },
  {
   "cell_type": "code",
   "execution_count": 14,
   "id": "47f79a72-85c4-49a3-a453-5b94c583a630",
   "metadata": {},
   "outputs": [],
   "source": [
    "# Configure plot style\n",
    "configure_plot_style()"
   ]
  },
  {
   "cell_type": "markdown",
   "id": "db061b2e-eb57-4233-ba85-708c8df69508",
   "metadata": {},
   "source": [
    "# Importing and cleaning data"
   ]
  },
  {
   "cell_type": "code",
   "execution_count": null,
   "id": "d49da7f2-e922-42e4-bd97-b8ffb040a105",
   "metadata": {},
   "outputs": [],
   "source": [
    "rep_df = create_replication_data()\n",
    "emdat = load_emdat_data()\n",
    "wb = load_wb_data()\n",
    "\n",
    "#Load shapefiles\n",
    "world = load_shapefile('world', repair_ISO_codes=True)\n",
    "laos = load_shapefile('laos')\n",
    "coastline = load_shapefile('coastline')\n",
    "rivers = load_rivers_data()"
   ]
  },
  {
   "cell_type": "code",
   "execution_count": null,
   "id": "8dde3b33-6061-470c-91cb-4662d270de34",
   "metadata": {},
   "outputs": [],
   "source": [
    "# Import shapefiles\n",
    "world = load_shapefile('world')\n",
    "laos = load_shapefile('laos')"
   ]
  },
  {
   "cell_type": "code",
   "execution_count": null,
   "id": "eb1c65a0-1064-4f59-be55-3c4d3bac05ab",
   "metadata": {},
   "outputs": [],
   "source": [
    "# Create the damagedf\n",
    "\n",
    "damage_df = create_hydro_rivers_damage()\n",
    "\n",
    "emdat_iso = damage_df.ISO.unique()\n",
    "world_iso = world.ISO_A3.unique()\n",
    "wb_iso = wb.index.get_level_values(0).unique()\n",
    "\n",
    "# Codes in shapefile but not in EMDAT\n",
    "common_codes = set(world_iso).intersection(set(emdat_iso)).intersection(set(wb_iso))\n",
    "damage_df = damage_df.query('ISO in @common_codes').copy()\n",
    "world = world.query('ISO_A3 in @common_codes').copy()\n",
    "wb = (wb.reset_index().query('country_code in @common_codes').assign(year = lambda x: pd.to_datetime(x.year, format='%Y')).copy())\n",
    "\n",
    "damage_df = (pd.merge(damage_df, wb, left_on=['ISO', 'year'], right_on=['country_code', 'year'], how='left')\n",
    "             .dropna(subset=['population_density', 'gdp_per_cap', 'Population']))\n"
   ]
  }
 ],
 "metadata": {
  "kernelspec": {
   "display_name": "Python 3 (ipykernel)",
   "language": "python",
   "name": "python3"
  },
  "language_info": {
   "codemirror_mode": {
    "name": "ipython",
    "version": 3
   },
   "file_extension": ".py",
   "mimetype": "text/x-python",
   "name": "python",
   "nbconvert_exporter": "python",
   "pygments_lexer": "ipython3",
   "version": "3.12.5"
  }
 },
 "nbformat": 4,
 "nbformat_minor": 5
}
