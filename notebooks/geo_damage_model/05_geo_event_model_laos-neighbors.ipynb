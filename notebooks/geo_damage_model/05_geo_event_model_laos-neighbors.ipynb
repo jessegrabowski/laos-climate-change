{
 "cells": [
  {
   "cell_type": "code",
   "execution_count": null,
   "id": "1d2d6628-8af5-4808-a997-53501f7ada34",
   "metadata": {},
   "outputs": [],
   "source": [
    "%load_ext autoreload\n",
    "%autoreload 2"
   ]
  },
  {
   "cell_type": "code",
   "execution_count": null,
   "id": "ba782dfc",
   "metadata": {},
   "outputs": [],
   "source": [
    "import os\n",
    "import sys \n",
    "from pyprojroot import here\n",
    "sys.path.insert(0, str(here()))\n",
    "from os.path import exists\n",
    "\n",
    "import geopandas as gpd\n",
    "from laos_gggi.data_functions import load_emdat_data, load_shapefile, load_rivers_data\n",
    "from laos_gggi.data_functions.disaster_point_data import load_disaster_point_data, load_synthetic_non_disaster_points, load_grid_point_data\n",
    "\n",
    "from laos_gggi.plotting import configure_plot_style\n",
    "from laos_gggi.statistics import get_distance_to_rivers, prediction_to_gpd_df , set_plotting_data, add_data, add_country_effect\n",
    "from laos_gggi.data_functions.combine_data import load_all_data\n",
    "from pymc.model.transform.optimization import freeze_dims_and_data\n",
    "\n",
    "import matplotlib.pyplot as plt\n",
    "import pandas as pd\n",
    "import numpy as np\n",
    "import xarray as xr\n",
    "import arviz as az\n",
    "import scipy\n",
    "import nutpie\n",
    "import pathlib\n",
    "\n",
    "import pymc as pm\n",
    "import pytensor.tensor as pt\n",
    "from laos_gggi.sample import sample_or_load\n",
    "\n",
    "\n",
    "# from laos_gggi.transformers import CenterTransform, Standardize\n",
    "\n",
    "configure_plot_style()"
   ]
  },
  {
   "cell_type": "markdown",
   "id": "bec2f174-7b4e-44c9-9ca7-8f80fe199e0f",
   "metadata": {},
   "source": [
    "# Load and prepare data"
   ]
  },
  {
   "cell_type": "code",
   "execution_count": null,
   "id": "31440803",
   "metadata": {},
   "outputs": [],
   "source": [
    "world = load_shapefile('world')\n",
    "# rivers = load_rivers_data()\n",
    "laos = world.query('ISO_A3 == \"LAO\"')\n",
    "\n",
    "# Select SEA shape\n",
    "laos_neighboors = [\n",
    "    \"KHM\",  # Cambodia\n",
    "    \"THA\",  # Thailand\n",
    "    \"LAO\",  # Laos\n",
    "    \"VNM\",  # Vietnam\n",
    "]\n",
    "\n",
    "# Define maps\n",
    "sea_map = world.query('ISO_A3 in @laos_neighboors')\n",
    "laos_map = world.query('ISO_A3 == \"LAO\"')"
   ]
  },
  {
   "cell_type": "code",
   "execution_count": null,
   "id": "0272f8d5",
   "metadata": {},
   "outputs": [],
   "source": [
    "sea_point_grid = load_grid_point_data(region='custom', grid_size=400, force_reload = False, iso_list=laos_neighboors )\n",
    "laos_point_grid = load_grid_point_data(region='laos', grid_size=200, force_reload = False)"
   ]
  },
  {
   "cell_type": "code",
   "execution_count": null,
   "id": "80bd2e95",
   "metadata": {},
   "outputs": [],
   "source": [
    "all_data = load_all_data()\n",
    "panel_data  = all_data[\"df_panel\"][['population_density', 'gdp_per_cap', 'Population', 'precip']]\n",
    "co2 = all_data[\"df_time_series\"][\"co2\"]"
   ]
  },
  {
   "cell_type": "code",
   "execution_count": null,
   "id": "e5de7f3e",
   "metadata": {},
   "outputs": [],
   "source": [
    "disasters = load_disaster_point_data()\n",
    "not_disasters = load_synthetic_non_disaster_points(by='country', multiplier=3)\n",
    "\n",
    "merged_df = pd.concat([not_disasters.assign(is_disaster = 0), \n",
    "                       disasters.reset_index().assign(is_disaster=1)], \n",
    "                      ignore_index= True)"
   ]
  },
  {
   "cell_type": "code",
   "execution_count": null,
   "id": "a0610446",
   "metadata": {},
   "outputs": [],
   "source": [
    "from statsmodels.tsa.seasonal import STL\n",
    "\n",
    "precipitation = all_data[\"gpcc\"]\n",
    "precip_deviation = precipitation.groupby('ISO').transform(lambda x: x - x.iloc[:30].mean()).rename(columns={'precip':'precip_deviation'})\n",
    "\n",
    "df_clim = all_data[\"df_time_series\"][[\"co2\", \"Temp\", \"precip\"]].iloc[1:-1].dropna(subset=['Temp'])\n",
    "trend =  STL(pd.DataFrame(df_clim[\"Temp\"].dropna()), period=3).fit().trend\n",
    "dev_from_trend_ocean_temp = (df_clim['Temp'] - trend).to_frame(name='dev_ocean_temp')"
   ]
  },
  {
   "cell_type": "code",
   "execution_count": null,
   "id": "5cbf1a26-35bf-4cc8-a695-4a637ac0eb0b",
   "metadata": {},
   "outputs": [],
   "source": [
    "from functools import reduce\n",
    "df = reduce(lambda l, r: pd.merge(l, r, left_on=['ISO', 'Start_Year'], right_index=True, how='left'), [merged_df, panel_data, precip_deviation])\n",
    "df = reduce(lambda l, r: pd.merge(l, r , left_on=['Start_Year'], right_index=True, how='left'), [df, co2, dev_from_trend_ocean_temp])"
   ]
  },
  {
   "cell_type": "code",
   "execution_count": null,
   "id": "0b69cd0c-2bf6-4655-ad9c-560c404e5b81",
   "metadata": {},
   "outputs": [],
   "source": [
    "#Creating log variables\n",
    "log_list = [\"distance_to_river\", \"distance_to_coastline\", \"Total_Affected\", \"Total_Damage_Adjusted\", \"population_density\",\n",
    "            \"gdp_per_cap\"]\n",
    "for y in log_list:\n",
    "    df[f\"log_{y}\"] = np.log(df[y])\n",
    "\n",
    "#Creating the squared log variables\n",
    "df[\"log_population_density_squared\"] = 2 * df[\"log_population_density\"]\n",
    "df[\"log_gdp_per_cap_squared\"] = 2 * df[\"log_gdp_per_cap\"]"
   ]
  },
  {
   "cell_type": "code",
   "execution_count": null,
   "id": "4e93bc09-f0a7-448d-9e0d-45a1765ec575",
   "metadata": {},
   "outputs": [],
   "source": [
    "#Delimiting data set\n",
    "columns_to_use = ['ISO', 'Start_Year', \"is_disaster\", 'distance_to_river', 'distance_to_coastline',\n",
    "               \"Population\", \"co2\", \"precip_deviation\", \"dev_ocean_temp\", 'population_density',\n",
    "               'gdp_per_cap', \"lat\", \"long\" , \"geometry\"]\n",
    "\n",
    "features = ['log_distance_to_river', 'log_distance_to_coastline',\n",
    "             \"Population\", \"co2\", \"precip_deviation\", \"dev_ocean_temp\", 'log_population_density', 'log_population_density_squared',\n",
    "             'log_gdp_per_cap', 'log_gdp_per_cap_squared', ]\n",
    "\n",
    "model_df = df[ list( set( columns_to_use).union(set(features)) )].dropna()\n"
   ]
  },
  {
   "cell_type": "code",
   "execution_count": null,
   "id": "5aaa8ddb-b937-4f2b-98e7-bd0190af33c2",
   "metadata": {},
   "outputs": [],
   "source": [
    "# Define list of features standardized\n",
    "features_stand = []\n",
    "for feature in features:\n",
    "    features_stand.append(feature + \"__standardized\" )\n",
    "\n",
    "time_varying_features = ['Population','co2','precip_deviation','dev_ocean_temp','log_population_density',\n",
    "                            'log_population_density_squared','log_gdp_per_cap','log_gdp_per_cap_squared']\n",
    "time_varying_features_stand = []\n",
    "\n",
    "for feature in time_varying_features:\n",
    "    time_varying_features_stand.append(feature + \"__standardized\")"
   ]
  },
  {
   "cell_type": "markdown",
   "id": "f98fa533-151c-408c-a389-268825f85b50",
   "metadata": {},
   "source": [
    "### Create SEA and Laos data sets"
   ]
  },
  {
   "cell_type": "code",
   "execution_count": null,
   "id": "648ec92d-503b-48cd-833a-6afd2500eb64",
   "metadata": {},
   "outputs": [],
   "source": [
    "#Create the geodata set for sea disasters\n",
    "sea_disasters = model_df.query('ISO in @laos_neighboors & is_disaster == 1')\n",
    "\n",
    "sea_disasters_geo = gpd.GeoDataFrame(\n",
    "                sea_disasters,\n",
    "    geometry=gpd.points_from_xy(sea_disasters[\"long\"], sea_disasters[\"lat\"]), crs=\"EPSG:4326\"\n",
    "            )\n",
    "\n",
    "# Create the geodata set for Laos disasters\n",
    "laos_disasters = model_df.query('ISO == \"LAO\" & is_disaster == 1')"
   ]
  },
  {
   "cell_type": "code",
   "execution_count": null,
   "id": "1d4a66fa-0872-4bef-9676-e691964823fb",
   "metadata": {},
   "outputs": [],
   "source": [
    "# Define dfs\n",
    "sea_df = model_df.query('ISO in @laos_neighboors')\n",
    "lao_df = model_df.query('ISO == \"LAO\"')\n",
    "\n",
    "#Tranform dfs to geopandas df\n",
    "sea_df = gpd.GeoDataFrame(sea_df,  geometry=gpd.points_from_xy(sea_df[\"long\"],\n",
    "                                sea_df[\"lat\"]),crs=\"EPSG:4326\")\n",
    "\n",
    "lao_df = gpd.GeoDataFrame(lao_df,  geometry=gpd.points_from_xy(lao_df[\"long\"],\n",
    "                                lao_df[\"lat\"]),crs=\"EPSG:4326\")"
   ]
  },
  {
   "cell_type": "code",
   "execution_count": null,
   "id": "1d0429be-ea5d-4a99-aa5e-f8124fc2f0bd",
   "metadata": {
    "scrolled": true
   },
   "outputs": [],
   "source": [
    "# Merge geospatial data with time varying data\n",
    "# We create the merged sea_point_grid_extended for predictions\n",
    "country_2020_data = {}\n",
    "country_2020_data_df = pd.DataFrame()\n",
    "for country in laos_neighboors:\n",
    "    country_2020_data[country] = sea_df.query('Start_Year == \"2020-01-01\" & ISO == @country').iloc[[0]][time_varying_features + [\"ISO\"]]\n",
    "    country_2020_data_df = pd.concat([country_2020_data_df, country_2020_data[country]])\n",
    "\n",
    "country_2005_data = {}\n",
    "country_2005_data_df = pd.DataFrame()\n",
    "for country in laos_neighboors:\n",
    "    country_2005_data[country] = sea_df.query('Start_Year == \"2005-01-01\" & ISO == @country').iloc[[0]][time_varying_features + [\"ISO\"]]\n",
    "    country_2005_data_df = pd.concat([country_2005_data_df, country_2005_data[country]])"
   ]
  },
  {
   "cell_type": "code",
   "execution_count": null,
   "id": "724bc477-cfb7-4e9a-b502-4bc97441f488",
   "metadata": {},
   "outputs": [],
   "source": [
    "# Merge points with world ISO\n",
    "sea_point_grid_extended = {}\n",
    "sea_point_grid_extended_df = gpd.sjoin(sea_point_grid, sea_map, how=\"left\", )\n",
    "sea_point_grid_extended[\"2020\"] = pd.merge(sea_point_grid_extended_df, country_2020_data_df, how = \"left\", left_on= \"ISO_A3\", right_on=\"ISO\" ) \n",
    "sea_point_grid_extended[\"2005\"] = pd.merge(sea_point_grid_extended_df, country_2005_data_df, how = \"left\", left_on= \"ISO_A3\", right_on=\"ISO\" ) \n",
    "\n",
    "\n",
    "# Creating the laos_point_grid_extended\n",
    "laos_point_grid[\"ISO\"] = \"LAO\"\n",
    "laos_point_grid_extended = {}\n",
    "laos_point_grid_extended_df = gpd.sjoin(laos_point_grid, laos_map, how=\"left\", )\n",
    "laos_point_grid_extended[\"2020\"] = pd.merge(laos_point_grid_extended_df, country_2020_data_df, how = \"left\", left_on= \"ISO\", right_on=\"ISO\" ) \n",
    "laos_point_grid_extended[\"2005\"] = pd.merge(laos_point_grid_extended_df, country_2005_data_df, how = \"left\", left_on= \"ISO\", right_on=\"ISO\" ) \n"
   ]
  },
  {
   "cell_type": "code",
   "execution_count": null,
   "id": "5081c480-df30-4062-b59a-282c7e6f9ca2",
   "metadata": {},
   "outputs": [],
   "source": [
    "sea_df[\"precip_deviation\"].plot()"
   ]
  },
  {
   "cell_type": "code",
   "execution_count": null,
   "id": "397a5d4c-1657-4b62-b3a4-5c50bffad9e0",
   "metadata": {},
   "outputs": [],
   "source": [
    "sea_df.query('ISO == \"LAO\"')[\"dev_ocean_temp\"]"
   ]
  },
  {
   "cell_type": "code",
   "execution_count": null,
   "id": "4557b5fe-acc8-46d4-b800-70fd8c9c16b4",
   "metadata": {},
   "outputs": [],
   "source": [
    "sea_df.query('ISO == \"LAO\"').columns"
   ]
  },
  {
   "cell_type": "code",
   "execution_count": null,
   "id": "6bba20fb-2b45-4480-9085-8c42317ac2a9",
   "metadata": {},
   "outputs": [],
   "source": [
    "# Standardize SEA data\n",
    "transformer_stand_ =  Standardize().fit(sea_df)\n",
    "sea_df_stand = transformer_stand_.transform(sea_df)\n",
    "\n",
    "# other dfs\n",
    "sea_point_grid_extended[\"2020\"] = transformer_stand_.transform(sea_point_grid_extended[\"2020\"]) \n",
    "sea_point_grid_extended[\"2005\"] = transformer_stand_.transform(sea_point_grid_extended[\"2005\"]) \n",
    "\n",
    "laos_point_grid_extended[\"2020\"] = transformer_stand_.transform(laos_point_grid_extended[\"2020\"]) \n",
    "laos_point_grid_extended[\"2005\"] = transformer_stand_.transform(laos_point_grid_extended[\"2005\"])"
   ]
  },
  {
   "cell_type": "markdown",
   "id": "97380b31-2d18-48f3-980d-a5b70e98bbf4",
   "metadata": {},
   "source": [
    "# Model on the SEA data set: HSGP component"
   ]
  },
  {
   "cell_type": "code",
   "execution_count": null,
   "id": "63c05881-f1b7-4b1f-8e84-3bdcd7b3f8e1",
   "metadata": {},
   "outputs": [],
   "source": [
    "fig, ax = plt.subplots(figsize=(14, 9), dpi=144)\n",
    "world.query('ISO_A3 in @laos_neighboors ').plot(facecolor='tab:blue', alpha=0.25, ax=ax)\n",
    "world.query('ISO_A3 in @laos_neighboors').plot(facecolor='none', edgecolor='k', lw=0.25, ax=ax)\n",
    "# rivers.plot(edgecolor='dodgerblue', lw=0.5, ax=ax)\n",
    "\n",
    "sea_df.plot('is_disaster', \n",
    "                                      markersize=2, \n",
    "                                      ax=ax, \n",
    "                                      legend=True, \n",
    "                                      # categorical=True,\n",
    "                                      cmap='viridis')\n",
    "ax.axis('off')\n",
    "plt.title(\"Synthetic vs. real data\")\n",
    "plt.show()"
   ]
  },
  {
   "cell_type": "code",
   "execution_count": null,
   "id": "c83200cb-ad77-4edd-bfe7-4a810f75975b",
   "metadata": {},
   "outputs": [],
   "source": [
    "#Define cooords\n",
    "is_disaster_idx , is_disaster = pd.factorize(sea_df[\"is_disaster\"])\n",
    "ISO_idx, ISO = pd.factorize(sea_df[\"ISO\"]) \n",
    "obs_idx = sea_df.index\n",
    "gp_features = [\"lat\", \"long\"]\n",
    "\n",
    "#Creating idx\n",
    "xr_idx = xr.Coordinates.from_pandas_multiindex(sea_df.set_index(['ISO', 'Start_Year']).index, 'obs_idx')\n",
    "\n",
    "#Set coords\n",
    "coords_sea = {\"is_disaster\" : is_disaster,\n",
    "        \"obs_idx\": obs_idx,\n",
    "        \"ISO\": ISO,\n",
    "        \"feature\": features_stand,\n",
    "        \"gp_feature\":gp_features }"
   ]
  },
  {
   "cell_type": "code",
   "execution_count": null,
   "id": "d43e81da-9b1d-4144-ad0c-91d1efb8cf8b",
   "metadata": {},
   "outputs": [],
   "source": [
    "with pm.Model(coords=coords_sea) as model_sea_hsgp:\n",
    "    #Declare data\n",
    "    X, Y= add_data(features= features_stand ,  target = \"is_disaster\", df =  sea_df_stand, )\n",
    "\n",
    "    # HSGP process\n",
    "    X_gp = pm.Data(\"X_gp\", sea_df_stand[[\"lat\", \"long\"]])\n",
    "\n",
    "    # Prior on the HSGP\n",
    "    eta = pm.Exponential(\"eta\", scale=2)\n",
    "    ell_params = pm.find_constrained_prior(\n",
    "        pm.Lognormal, lower=0.5, upper=10.0, mass=0.95, init_guess={\"mu\": 1.0, \"sigma\": 1.0}\n",
    "    )\n",
    "    ell = pm.Lognormal(\"ell\", **ell_params, dims=[\"gp_feature\"])\n",
    "    cov_func = eta**2 * pm.gp.cov.Matern52(input_dim=2, ls=ell)\n",
    "\n",
    "    m0, m1, c = 35, 35, 1.5\n",
    "    gp = pm.gp.HSGP(m=[m0, m1], c=c, cov_func=cov_func)\n",
    "    \n",
    "    phi, sqrt_psd = gp.prior_linearized(X=X_gp)\n",
    "\n",
    "    basis_coeffs = pm.Normal(\"basis_coeffs\", size=gp.n_basis_vectors)\n",
    "    HSGP_component = pm.Deterministic(\"HSGP_component\", phi @ (basis_coeffs * sqrt_psd))\n",
    "\n",
    "    p = HSGP_component\n",
    "    \n",
    "    y_hat = pm.Bernoulli('y_hat', logit_p = p, observed=Y, dims='obs_idx')\n"
   ]
  },
  {
   "cell_type": "code",
   "execution_count": null,
   "id": "927af094-450b-45a9-a561-2f7fe56a2de0",
   "metadata": {},
   "outputs": [],
   "source": [
    "# Sample the model\n",
    "if exists(\"model_closest_HSGP.idata\"):\n",
    "    model_sea_hsgp_idata = az.from_netcdf(\"model_closest_HSGP.idata\")\n",
    "\n",
    "else:\n",
    "    compiled_model = nutpie.compile_pymc_model(freeze_dims_and_data(model_sea_hsgp), backend=\"jax\", gradient_backend='jax')\n",
    "    model_sea_hsgp_idata = nutpie.sample(compiled_model)\n",
    "    #Save the idata\n",
    "    az.to_netcdf(data = model_sea_hsgp_idata, filename= pathlib.Path(\"model_closest_HSGP.idata\"))"
   ]
  },
  {
   "cell_type": "markdown",
   "id": "1525c05b-a639-46d9-9881-32a39d2160ee",
   "metadata": {},
   "source": [
    "### Sea predictions"
   ]
  },
  {
   "cell_type": "code",
   "execution_count": null,
   "id": "c8b73106-30d6-431f-a878-862c7e4b88f0",
   "metadata": {
    "scrolled": true
   },
   "outputs": [],
   "source": [
    "# We sample the predictions\n",
    "with model_sea_hsgp.copy() as temp_model:\n",
    "    pm.set_data({\"X_gp\": sea_point_grid[[\"lat\", \"lon\"]],\n",
    "                 \"Y\": np.full(sea_df_stand.shape[0], 0 ),\n",
    "                },\n",
    "            coords= {\"obs_idx\": sea_df_stand.index.values } \n",
    "           )\n",
    "\n",
    "    HSGP_invlogit = pm.Deterministic('HSGP_invlogit', pm.math.invlogit(temp_model[\"HSGP_component\"] ))\n",
    "\n",
    "\n",
    "\n",
    "with freeze_dims_and_data(temp_model):\n",
    "    model_sea_hsgp_idata_plot = pm.sample_posterior_predictive(model_sea_hsgp_idata, var_names=[\"HSGP_invlogit\",\"HSGP_component\"], \n",
    "                                                         compile_kwargs= {\"mode\" : \"JAX\" })"
   ]
  },
  {
   "cell_type": "code",
   "execution_count": null,
   "id": "e6e99a46-c3d5-4755-9544-628df0550e8e",
   "metadata": {},
   "outputs": [],
   "source": [
    "# Create the geopandas version of the predictions\n",
    "sea_model_HSGP_predictions = prediction_to_gpd_df(prediction_idata = model_sea_hsgp_idata_plot , \n",
    "                     variables = [\"HSGP_invlogit\", \"HSGP_component\"] , \n",
    "                     points = sea_point_grid )"
   ]
  },
  {
   "cell_type": "code",
   "execution_count": null,
   "id": "a7e4f406-0cb0-49ef-8f8e-ca016d9e8ffa",
   "metadata": {},
   "outputs": [],
   "source": [
    "# Plot the predictions\n",
    "fig, ax = plt.subplots(figsize=(10, 6), dpi= 144 )\n",
    "sea_model_HSGP_predictions[\"HSGP_invlogit\"].plot(\"HSGP_invlogit\",legend=True, ax=ax,markersize =1)\n",
    "sea_disasters.plot(ax=ax, alpha = 0.3, c = \"r\",markersize =0.7, )\n",
    "plt.title(\"sea_model HSGP_invlogit\" )\n",
    "ax.set_title(\"sea_model HSGP_invlogit for South-East-Asia\" );"
   ]
  },
  {
   "cell_type": "markdown",
   "id": "d683fc20-f886-4b28-9500-9aceb04a8252",
   "metadata": {},
   "source": [
    "### Laos predictions"
   ]
  },
  {
   "cell_type": "code",
   "execution_count": null,
   "id": "8f9f44e2-5ef7-4705-91c1-b6fa76f3d3f9",
   "metadata": {
    "scrolled": true
   },
   "outputs": [],
   "source": [
    "# We sample the predictions\n",
    "with model_sea_hsgp.copy() as temp_model:\n",
    "    pm.set_data({\"X_gp\": laos_point_grid[[\"lat\", \"lon\"]],\n",
    "                 \"X\": laos_point_grid_extended[\"2020\"][features_stand],\n",
    "                 \"Y\": np.full(laos_point_grid.shape[0], 0 ),\n",
    "                 \n",
    "                },\n",
    "            coords= {\"obs_idx\": laos_point_grid.index.values } \n",
    "           )\n",
    "\n",
    "    HSGP_invlogit = pm.Deterministic('HSGP_invlogit', pm.math.invlogit(temp_model[\"HSGP_component\"] ))\n",
    "\n",
    "\n",
    "\n",
    "with freeze_dims_and_data(temp_model):\n",
    "    model_sea_hsgp_idata_plot_laos = pm.sample_posterior_predictive(model_sea_hsgp_idata, var_names=[\"HSGP_invlogit\",\"HSGP_component\"], \n",
    "                                                         compile_kwargs= {\"mode\" : \"JAX\" })"
   ]
  },
  {
   "cell_type": "code",
   "execution_count": null,
   "id": "9d421a7a-291d-41cd-b69b-d2344bfefa48",
   "metadata": {},
   "outputs": [],
   "source": [
    "# Create the geopandas version of the predictions\n",
    "sea_model_HSGP_predictions_lao = prediction_to_gpd_df(prediction_idata = model_sea_hsgp_idata_plot_laos , \n",
    "                     variables = [\"HSGP_invlogit\", \"HSGP_component\"] , \n",
    "                     points = laos_point_grid )"
   ]
  },
  {
   "cell_type": "code",
   "execution_count": null,
   "id": "d0681b88-f4c5-4204-af4c-9fc6084aa58b",
   "metadata": {},
   "outputs": [],
   "source": [
    "# Plot the predictions\n",
    "fig, ax = plt.subplots(figsize=(8, 4), dpi= 144 )\n",
    "sea_model_HSGP_predictions_lao[\"HSGP_invlogit\"].plot(\"HSGP_invlogit\",legend=True, ax=ax ,markersize =5, vmax = 0.4)\n",
    "laos_disasters.plot(ax=ax, alpha = 0.3, c = \"r\",markersize =3, )\n",
    "ax.set_title(\"sea_model HSGP_invlogit for Laos\" );"
   ]
  },
  {
   "cell_type": "markdown",
   "id": "0eb365d8-4593-40fc-9097-7fa4421e0924",
   "metadata": {},
   "source": [
    "# Model on the SEA data set: Full model"
   ]
  },
  {
   "cell_type": "code",
   "execution_count": null,
   "id": "4a559929-b335-4e54-87a3-2cca8b29ddf1",
   "metadata": {},
   "outputs": [],
   "source": [
    "with pm.Model(coords=coords_sea) as model_sea_full:\n",
    "    #Declare data\n",
    "    X, Y= add_data(features= features_stand ,  target = \"is_disaster\", df =  sea_df_stand, )\n",
    "    ISO_idx_pt = pm.Data(\"ISO_idx_pt\", ISO_idx, dims= [\"obs_idx\"] )\n",
    "    \n",
    "    # #Country effect\n",
    "    country_effect = pm.Normal(\"country_effect\", mu = 0, sigma =1, dims = [\"ISO\"])\n",
    "\n",
    "    #Betas\n",
    "    beta_sigma = [0.1] * 10\n",
    "    beta = pm.Normal(\"beta\", mu = 0, sigma = beta_sigma, dims = [\"feature\"])\n",
    "\n",
    "    # HSGP process\n",
    "    X_gp = pm.Data(\"X_gp\", sea_df[[\"lat\", \"long\"]])\n",
    "\n",
    "    # Prior on the HSGP\n",
    "    eta = pm.Exponential(\"eta\", scale=2)\n",
    "    ell_params = pm.find_constrained_prior(\n",
    "        pm.Lognormal, lower=0.5, upper=10.0, mass=0.95, init_guess={\"mu\": 1.0, \"sigma\": 1.0}\n",
    "    )\n",
    "    ell = pm.Lognormal(\"ell\", **ell_params, dims=[\"gp_feature\"])\n",
    "    cov_func = eta**2 * pm.gp.cov.Matern52(input_dim=2, ls=ell)\n",
    "\n",
    "    m0, m1, c = 35, 35, 1.5\n",
    "    gp = pm.gp.HSGP(m=[m0, m1], c=c, cov_func=cov_func)\n",
    "\n",
    "    phi, sqrt_psd = gp.prior_linearized(X=X_gp)\n",
    "\n",
    "    basis_coeffs = pm.Normal(\"basis_coeffs\", size=gp.n_basis_vectors)\n",
    "    HSGP_component = pm.Deterministic(\"HSGP_component\", phi @ (basis_coeffs * sqrt_psd),dims= [\"obs_idx\"])\n",
    "\n",
    "\n",
    "    #Model mu\n",
    "    mu = pm.Deterministic(\"mu\", country_effect[ISO_idx_pt] +  X@beta + HSGP_component , dims= [\"obs_idx\"] )\n",
    "    \n",
    "\n",
    "    y_hat = pm.Bernoulli('y_hat', logit_p = mu, observed=Y, dims=['obs_idx'])"
   ]
  },
  {
   "cell_type": "code",
   "execution_count": null,
   "id": "69521744-0801-4383-9b7c-79f2cd148ca6",
   "metadata": {},
   "outputs": [],
   "source": [
    "if exists(\"model_closest_full.idata\"):\n",
    "    model_sea_full_idata = az.from_netcdf(\"model_closest_full.idata\")\n",
    "\n",
    "else:\n",
    "    compiled_model = nutpie.compile_pymc_model(freeze_dims_and_data(model_sea_full), backend=\"jax\", gradient_backend='jax')\n",
    "    model_sea_full_idata = nutpie.sample(compiled_model)\n",
    "    #Save the idata\n",
    "    az.to_netcdf(data = model_sea_full_idata, filename= pathlib.Path(\"model_closest_full.idata\"))"
   ]
  },
  {
   "cell_type": "markdown",
   "id": "cd4a81bb-470d-4597-8021-68e8d47354cb",
   "metadata": {},
   "source": [
    "### SEA predictions"
   ]
  },
  {
   "cell_type": "code",
   "execution_count": null,
   "id": "9a747a03-5415-4c6a-88a6-e9ada9ce1ff4",
   "metadata": {
    "scrolled": true
   },
   "outputs": [],
   "source": [
    "# full model SEA predictions\n",
    "\n",
    "# Rebuild ISO_idx_sea\n",
    "ISO_to_idx = {name: idx for idx, name in enumerate(ISO)}\n",
    "ISO_idx_sea=  sea_point_grid_extended['2020'].ISO.map(ISO_to_idx.get)\n",
    "\n",
    "model_sea_full_idata_plot = {}\n",
    "\n",
    "for year in [\"2020\", \"2005\"]:\n",
    "    with model_sea_full.copy() as temp_model:\n",
    "        #Declare data\n",
    "        pm.set_data({\"X_gp\": sea_point_grid[[\"lat\", \"lon\"]],\n",
    "                     \"Y\": np.full(sea_point_grid_extended[year].shape[0], 0 ),\n",
    "                     \"X\": sea_point_grid_extended[year][features_stand],\n",
    "                     \"ISO_idx_pt\": ISO_idx_sea\n",
    "     \n",
    "                },\n",
    "            coords= {\"obs_idx\": sea_point_grid_extended[year].index.values } \n",
    "           )\n",
    "    \n",
    "        y_hat_invlogit = pm.Deterministic('y_hat_invlogit', pm.math.invlogit(temp_model[\"y_hat\"] ))\n",
    "    \n",
    "    \n",
    "    \n",
    "    with freeze_dims_and_data(temp_model):\n",
    "        model_sea_full_idata_plot[year] = pm.sample_posterior_predictive(model_sea_full_idata, var_names=[\"y_hat_invlogit\",\"HSGP_component\", \"y_hat\"], \n",
    "                                                             compile_kwargs= {\"mode\" : \"JAX\" })\n"
   ]
  },
  {
   "cell_type": "code",
   "execution_count": null,
   "id": "65fc67ca-6ce4-49b8-8158-a75ae17c5ac3",
   "metadata": {},
   "outputs": [],
   "source": [
    "# Create the geopandas version of the predictions\n",
    "model_sea_full_predictions_geo = {}\n",
    "\n",
    "for year in [\"2020\", \"2005\"]:\n",
    "    model_sea_full_predictions_geo[year] = prediction_to_gpd_df(prediction_idata = model_sea_full_idata_plot[year] , \n",
    "                         variables = [\"y_hat_invlogit\",\"HSGP_component\", \"y_hat\"] , \n",
    "                         points = sea_point_grid_extended['2020'] )"
   ]
  },
  {
   "cell_type": "code",
   "execution_count": null,
   "id": "a64dd3f1-de87-4a45-9013-3a58bb48655b",
   "metadata": {},
   "outputs": [],
   "source": [
    "#Plot the predictions\n",
    "fig, ax = plt.subplots(figsize=(10, 6), dpi= 144 )\n",
    "model_sea_full_predictions_geo[\"2020\"][\"y_hat\"].plot(\"y_hat\",legend=True, ax=ax,markersize =2, vmax = 0.15,)\n",
    "sea_disasters_geo.plot(ax=ax, alpha = 0.3, c = \"r\", markersize =0.7, )\n",
    "plt.title(\"y_hat South East Asia 2020\", );"
   ]
  },
  {
   "cell_type": "code",
   "execution_count": null,
   "id": "4046c94f-6668-4dfb-b584-b6debf56f28f",
   "metadata": {},
   "outputs": [],
   "source": [
    "#Plot the predictions\n",
    "fig, ax = plt.subplots(1,2, figsize=(10, 6), dpi= 144 )\n",
    "for year, x in zip([ \"2005\", \"2020\"], [0,1]):\n",
    "    model_sea_full_predictions_geo[year][\"y_hat\"].plot(\"y_hat\",legend=True, ax=ax[x],markersize =2, vmax = 0.10)\n",
    "    \n",
    "    sea_disasters_geo.plot(ax=ax[x], alpha = 0.3, c = \"r\", markersize =0.7, )\n",
    "    ax[x].get_yaxis().set_visible(False)\n",
    "    ax[x].set_title(f\"Disaster probability heatmap for South East Asia {year}\", );"
   ]
  },
  {
   "cell_type": "markdown",
   "id": "7655479d-c8a6-46e3-ac27-adbef2c4d748",
   "metadata": {},
   "source": [
    "### Laos predictions"
   ]
  },
  {
   "cell_type": "code",
   "execution_count": null,
   "id": "49fb5e28-cbbf-4af7-a7d6-45a8440fe82f",
   "metadata": {},
   "outputs": [],
   "source": [
    "# full model SEA predictions\n",
    "\n",
    "# Rebuild ISO_idx_sea\n",
    "ISO_to_idx = {name: idx for idx, name in enumerate(ISO)}\n",
    "ISO_idx_laos =  laos_point_grid_extended['2020'].ISO.map(ISO_to_idx.get)\n",
    "model_sea_full_idata_plot_laos = {}\n",
    "\n",
    "for year in [\"2020\", \"2005\"]:\n",
    "    with model_sea_full.copy() as temp_model:\n",
    "        #Declare data\n",
    "        pm.set_data({\"X_gp\": laos_point_grid[[\"lat\", \"lon\"]],\n",
    "                     \"Y\": np.full(laos_point_grid_extended['2020'].shape[0], 0 ),\n",
    "                     \"X\": laos_point_grid_extended[year][features_stand],\n",
    "                     \"ISO_idx_pt\": ISO_idx_laos\n",
    "     \n",
    "                },\n",
    "            coords= {\"obs_idx\": laos_point_grid_extended['2020'].index.values } \n",
    "           )\n",
    "    \n",
    "        y_hat_invlogit = pm.Deterministic('y_hat_invlogit', pm.math.invlogit(temp_model[\"y_hat\"] ))\n",
    "    \n",
    "    \n",
    "    \n",
    "    with freeze_dims_and_data(temp_model):\n",
    "        model_sea_full_idata_plot_laos[year] = pm.sample_posterior_predictive(model_sea_full_idata, var_names=[\"y_hat_invlogit\",\"HSGP_component\", \"y_hat\"], \n",
    "                                                         compile_kwargs= {\"mode\" : \"JAX\" })\n"
   ]
  },
  {
   "cell_type": "code",
   "execution_count": null,
   "id": "a9689d22-6730-4f7b-9b37-167d70d1adbc",
   "metadata": {},
   "outputs": [],
   "source": [
    "# Create the geopandas version of the predictions\n",
    "model_sea_full_predictions_geo_laos = {}\n",
    "\n",
    "for year in [\"2020\", \"2005\"]:\n",
    "    model_sea_full_predictions_geo_laos[year] = prediction_to_gpd_df(prediction_idata = model_sea_full_idata_plot_laos[year] , \n",
    "                         variables = [\"y_hat_invlogit\",\"HSGP_component\", \"y_hat\"] , \n",
    "                         points = laos_point_grid_extended['2020'] )"
   ]
  },
  {
   "cell_type": "code",
   "execution_count": null,
   "id": "84554c72-ea05-4536-b0cb-2bb4999369f6",
   "metadata": {},
   "outputs": [],
   "source": [
    "#Plot the predictions\n",
    "fig, ax = plt.subplots(figsize=(8, 4), dpi= 144 )\n",
    "model_sea_full_predictions_geo_laos[\"2020\"][\"y_hat\"].plot(\"y_hat\",legend=True, ax=ax,markersize =4, vmax = 0.15,)\n",
    "laos_disasters.plot(ax=ax, alpha = 0.3, c = \"r\", markersize =2, )\n",
    "plt.title(\"For Laos neighboors\", );"
   ]
  },
  {
   "cell_type": "code",
   "execution_count": null,
   "id": "40619029-46ad-4ece-bac4-8e56afe5c487",
   "metadata": {},
   "outputs": [],
   "source": [
    "#Plot the predictions\n",
    "fig, ax = plt.subplots(1,2, figsize=(10, 6), dpi= 144 )\n",
    "for year, x in zip([ \"2005\", \"2020\"], [0,1]):\n",
    "    model_sea_full_predictions_geo_laos[year][\"y_hat\"].plot(\"y_hat\",legend=True, ax=ax[x],markersize =3, vmax = 0.10)\n",
    "    \n",
    "    laos_disasters.plot(ax=ax[x], alpha = 0.3, c = \"r\", markersize =1, )\n",
    "    ax[x].get_yaxis().set_visible(False)\n",
    "    ax[x].set_title(f\"Disaster probability heatmap for Laos {year}\", );"
   ]
  }
 ],
 "metadata": {
  "kernelspec": {
   "display_name": "Python 3 (ipykernel)",
   "language": "python",
   "name": "python3"
  },
  "language_info": {
   "codemirror_mode": {
    "name": "ipython",
    "version": 3
   },
   "file_extension": ".py",
   "mimetype": "text/x-python",
   "name": "python",
   "nbconvert_exporter": "python",
   "pygments_lexer": "ipython3",
   "version": "3.12.5"
  }
 },
 "nbformat": 4,
 "nbformat_minor": 5
}
