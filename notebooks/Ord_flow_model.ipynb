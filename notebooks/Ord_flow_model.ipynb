{
 "cells": [
  {
   "cell_type": "code",
   "execution_count": null,
   "id": "ba782dfc",
   "metadata": {},
   "outputs": [],
   "source": [
    "import os\n",
    "os.environ['PYTENSOR_FLAGS'] = 'floatX=float32'\n",
    "\n",
    "import sys \n",
    "from pyprojroot import here\n",
    "sys.path.insert(0, str(here()))\n",
    "\n",
    "import geopandas as gpd\n",
    "from laos_gggi.data_functions import load_emdat_data, load_shapefile, load_rivers_data\n",
    "from laos_gggi.plotting import configure_plot_style\n",
    "from laos_gggi.statistics import get_distance_to_rivers\n",
    "from laos_gggi.data_functions.combine_data import load_all_data\n",
    "import matplotlib.pyplot as plt\n",
    "import pandas as pd\n",
    "import numpy as np\n",
    "import xarray as xr\n",
    "import arviz as az\n",
    "import scipy\n",
    "import nutpie\n",
    "import pathlib\n",
    "import pytensor\n",
    "\n",
    "\n",
    "import pymc as pm\n",
    "import pytensor.tensor as pt\n",
    "from laos_gggi.sample import sample_or_load\n",
    "\n",
    "configure_plot_style()"
   ]
  },
  {
   "cell_type": "markdown",
   "id": "853539ff-e0f1-40c1-8951-f0ba7286a419",
   "metadata": {},
   "source": [
    "# Load data\n"
   ]
  },
  {
   "cell_type": "code",
   "execution_count": null,
   "id": "abaaecd5-83ac-4764-b7a0-059afa5dcad0",
   "metadata": {},
   "outputs": [],
   "source": [
    "model_data = pd.read_csv(\"../data/HSGP_full_model_data.csv\")\n",
    "laos_points = pd.read_csv(\"../data/laos_points.csv\")"
   ]
  },
  {
   "cell_type": "markdown",
   "id": "ca439f63-9c89-4e80-89ac-68ffe387ab3b",
   "metadata": {},
   "source": [
    "# Model helper functions"
   ]
  },
  {
   "cell_type": "code",
   "execution_count": null,
   "id": "d5de235e-f9d0-42d9-a644-4821633320ad",
   "metadata": {},
   "outputs": [],
   "source": [
    "# Standardize function\n",
    "def standardize(df: pd.DataFrame):\n",
    "    df_standardized = (df - df.mean())/df.std()\n",
    "    return df_standardized"
   ]
  },
  {
   "cell_type": "code",
   "execution_count": null,
   "id": "83dc2489-ccae-43cb-8553-a9980b37a940",
   "metadata": {},
   "outputs": [],
   "source": [
    "#Define data function\n",
    "def add_data(features: list[str], df: pd.DataFrame, add_time :bool = False, target: str | None = None, name = None, dims=None, dtype=None):\n",
    "    X_name = 'X' if name is None else f'X_{name}'\n",
    "    Y_name = 'Y' if name is None else f'Y_{name}'\n",
    "    \n",
    "    if dtype is None:\n",
    "        dtype = pytensor.config.floatX\n",
    "        \n",
    "    with pm.modelcontext(None):\n",
    "        X = pm.Data(X_name, df[features].astype(dtype), dims=dims)\n",
    "        \n",
    "        if target is not None:\n",
    "            Y = pm.Data(Y_name, df[target].astype(dtype), dims=dims[0] if dims is not None else dims)\n",
    "            return X, Y\n",
    "        \n",
    "    return X\n",
    "\n",
    "#Add country fixed effect function\n",
    "def add_country_effect():\n",
    "    with pm.modelcontext(None):\n",
    "        country_effect_mu = pm.Normal('country_effect_mu', mu = 0, sigma = 1)\n",
    "        country_effect_scale = pm.Gamma('country_effect_scale', alpha=2, beta=1)\n",
    "        country_effect_offset = pm.ZeroSumNormal('country_effect_offset', sigma=1, dims=\"ISO\")\n",
    "        country_effect = pm.Deterministic('country_effect', country_effect_mu + country_effect_scale * country_effect_offset, dims=\"ISO\")\n",
    "        \n",
    "    return country_effect\n"
   ]
  },
  {
   "cell_type": "markdown",
   "id": "35a7b937-95fe-47c0-a024-f42e7cca5c6e",
   "metadata": {},
   "source": [
    "# Model"
   ]
  },
  {
   "cell_type": "code",
   "execution_count": null,
   "id": "59de542f-fc2a-417a-bb96-27ec3081d551",
   "metadata": {},
   "outputs": [],
   "source": [
    "model_data"
   ]
  },
  {
   "cell_type": "code",
   "execution_count": null,
   "id": "488980aa-fb1e-4d1f-a74a-ad377df8fe36",
   "metadata": {},
   "outputs": [],
   "source": [
    "#Define features\n",
    "distance_features_2 = ['log_distance_to_river', 'log_distance_to_coastline', 'is_island', \"ORD_FLOW_1\",\n",
    "                       \"ORD_FLOW_2\", \"ORD_FLOW_3\", \"ORD_FLOW_4\"]\n",
    "\n",
    "time_varying_features_2 = [\"Population\", \"co2\", \"precip_deviation\", \"dev_ocean_temp\", 'log_population_density', 'log_population_density_squared',\n",
    "             'log_gdp_per_cap', 'log_gdp_per_cap_squared']"
   ]
  },
  {
   "cell_type": "code",
   "execution_count": null,
   "id": "a0da16d3-934f-448d-ac8e-751071ae87f4",
   "metadata": {},
   "outputs": [],
   "source": [
    "#Define cooords\n",
    "is_disaster_idx , is_disaster = pd.factorize(model_data[\"is_disaster\"])\n",
    "ISO_idx, ISO = pd.factorize(model_data[\"ISO\"]) \n",
    "obs_idx = model_data.index\n",
    "gp_features = [\"lat\", \"long\"]\n",
    "\n",
    "#Creating idx\n",
    "xr_idx = xr.Coordinates.from_pandas_multiindex(model_data.set_index(['ISO', 'Start_Year']).index, 'obs_idx')\n",
    "\n",
    "#Set coords\n",
    "coords_2 = {\"is_disaster\" : is_disaster,\n",
    "        \"obs_idx\": obs_idx,\n",
    "        \"ISO\": ISO,\n",
    "        \"distance_features\": distance_features_2,\n",
    "        \"time_varying_features\" : time_varying_features_2,\n",
    "        \"gp_feature\":gp_features }\n"
   ]
  },
  {
   "cell_type": "code",
   "execution_count": null,
   "id": "29eaec40-1dff-46d4-a867-0e6dc950dc6e",
   "metadata": {},
   "outputs": [
    {
     "name": "stderr",
     "output_type": "stream",
     "text": [
      "  0%|                                                                                          | 0/1500 [00:00<?, ?it/s]/home/jesse/mambaforge/envs/laos-climate-change/lib/python3.11/site-packages/jax/_src/numpy/array_methods.py:68: UserWarning: Explicitly requested dtype float64 requested in astype is not available, and will be truncated to dtype float32. To enable more dtypes, set the jax_enable_x64 configuration option or the JAX_ENABLE_X64 shell environment variable. See https://github.com/google/jax#current-gotchas for more.\n",
      "  return lax_numpy.astype(arr, dtype, copy=copy, device=device)\n",
      "/home/jesse/mambaforge/envs/laos-climate-change/lib/python3.11/site-packages/pytensor/link/jax/dispatch/tensor_basic.py:174: UserWarning: Explicitly requested dtype int64 requested in array is not available, and will be truncated to dtype int32. To enable more dtypes, set the jax_enable_x64 configuration option or the JAX_ENABLE_X64 shell environment variable. See https://github.com/google/jax#current-gotchas for more.\n",
      "  return jnp.array(x, dtype=op.dtype)\n",
      "/home/jesse/mambaforge/envs/laos-climate-change/lib/python3.11/site-packages/jax/_src/numpy/array_methods.py:68: UserWarning: Explicitly requested dtype float64 requested in astype is not available, and will be truncated to dtype float32. To enable more dtypes, set the jax_enable_x64 configuration option or the JAX_ENABLE_X64 shell environment variable. See https://github.com/google/jax#current-gotchas for more.\n",
      "  return lax_numpy.astype(arr, dtype, copy=copy, device=device)\n",
      "/home/jesse/mambaforge/envs/laos-climate-change/lib/python3.11/site-packages/jax/_src/numpy/array_methods.py:68: UserWarning: Explicitly requested dtype float64 requested in astype is not available, and will be truncated to dtype float32. To enable more dtypes, set the jax_enable_x64 configuration option or the JAX_ENABLE_X64 shell environment variable. See https://github.com/google/jax#current-gotchas for more.\n",
      "  return lax_numpy.astype(arr, dtype, copy=copy, device=device)\n",
      "/home/jesse/mambaforge/envs/laos-climate-change/lib/python3.11/site-packages/jax/_src/numpy/array_methods.py:68: UserWarning: Explicitly requested dtype float64 requested in astype is not available, and will be truncated to dtype float32. To enable more dtypes, set the jax_enable_x64 configuration option or the JAX_ENABLE_X64 shell environment variable. See https://github.com/google/jax#current-gotchas for more.\n",
      "  return lax_numpy.astype(arr, dtype, copy=copy, device=device)\n",
      "/home/jesse/mambaforge/envs/laos-climate-change/lib/python3.11/site-packages/jax/_src/numpy/array_methods.py:68: UserWarning: Explicitly requested dtype float64 requested in astype is not available, and will be truncated to dtype float32. To enable more dtypes, set the jax_enable_x64 configuration option or the JAX_ENABLE_X64 shell environment variable. See https://github.com/google/jax#current-gotchas for more.\n",
      "  return lax_numpy.astype(arr, dtype, copy=copy, device=device)\n",
      "/home/jesse/mambaforge/envs/laos-climate-change/lib/python3.11/site-packages/jax/_src/numpy/array_methods.py:68: UserWarning: Explicitly requested dtype float64 requested in astype is not available, and will be truncated to dtype float32. To enable more dtypes, set the jax_enable_x64 configuration option or the JAX_ENABLE_X64 shell environment variable. See https://github.com/google/jax#current-gotchas for more.\n",
      "  return lax_numpy.astype(arr, dtype, copy=copy, device=device)\n",
      "/home/jesse/mambaforge/envs/laos-climate-change/lib/python3.11/site-packages/jax/_src/numpy/array_methods.py:68: UserWarning: Explicitly requested dtype float64 requested in astype is not available, and will be truncated to dtype float32. To enable more dtypes, set the jax_enable_x64 configuration option or the JAX_ENABLE_X64 shell environment variable. See https://github.com/google/jax#current-gotchas for more.\n",
      "  return lax_numpy.astype(arr, dtype, copy=copy, device=device)\n",
      "/home/jesse/mambaforge/envs/laos-climate-change/lib/python3.11/site-packages/jax/_src/numpy/array_methods.py:68: UserWarning: Explicitly requested dtype float64 requested in astype is not available, and will be truncated to dtype float32. To enable more dtypes, set the jax_enable_x64 configuration option or the JAX_ENABLE_X64 shell environment variable. See https://github.com/google/jax#current-gotchas for more.\n",
      "  return lax_numpy.astype(arr, dtype, copy=copy, device=device)\n",
      "/home/jesse/mambaforge/envs/laos-climate-change/lib/python3.11/site-packages/jax/_src/numpy/array_methods.py:68: UserWarning: Explicitly requested dtype float64 requested in astype is not available, and will be truncated to dtype float32. To enable more dtypes, set the jax_enable_x64 configuration option or the JAX_ENABLE_X64 shell environment variable. See https://github.com/google/jax#current-gotchas for more.\n",
      "  return lax_numpy.astype(arr, dtype, copy=copy, device=device)\n",
      "/home/jesse/mambaforge/envs/laos-climate-change/lib/python3.11/site-packages/jax/_src/numpy/array_methods.py:68: UserWarning: Explicitly requested dtype float64 requested in astype is not available, and will be truncated to dtype float32. To enable more dtypes, set the jax_enable_x64 configuration option or the JAX_ENABLE_X64 shell environment variable. See https://github.com/google/jax#current-gotchas for more.\n",
      "  return lax_numpy.astype(arr, dtype, copy=copy, device=device)\n",
      "/home/jesse/mambaforge/envs/laos-climate-change/lib/python3.11/site-packages/jax/_src/numpy/array_methods.py:68: UserWarning: Explicitly requested dtype float64 requested in astype is not available, and will be truncated to dtype float32. To enable more dtypes, set the jax_enable_x64 configuration option or the JAX_ENABLE_X64 shell environment variable. See https://github.com/google/jax#current-gotchas for more.\n",
      "  return lax_numpy.astype(arr, dtype, copy=copy, device=device)\n",
      "/home/jesse/mambaforge/envs/laos-climate-change/lib/python3.11/site-packages/jax/_src/numpy/array_methods.py:68: UserWarning: Explicitly requested dtype float64 requested in astype is not available, and will be truncated to dtype float32. To enable more dtypes, set the jax_enable_x64 configuration option or the JAX_ENABLE_X64 shell environment variable. See https://github.com/google/jax#current-gotchas for more.\n",
      "  return lax_numpy.astype(arr, dtype, copy=copy, device=device)\n",
      "/home/jesse/mambaforge/envs/laos-climate-change/lib/python3.11/site-packages/pytensor/link/jax/dispatch/tensor_basic.py:174: UserWarning: Explicitly requested dtype int64 requested in array is not available, and will be truncated to dtype int32. To enable more dtypes, set the jax_enable_x64 configuration option or the JAX_ENABLE_X64 shell environment variable. See https://github.com/google/jax#current-gotchas for more.\n",
      "  return jnp.array(x, dtype=op.dtype)\n",
      "/home/jesse/mambaforge/envs/laos-climate-change/lib/python3.11/site-packages/jax/_src/numpy/array_methods.py:68: UserWarning: Explicitly requested dtype float64 requested in astype is not available, and will be truncated to dtype float32. To enable more dtypes, set the jax_enable_x64 configuration option or the JAX_ENABLE_X64 shell environment variable. See https://github.com/google/jax#current-gotchas for more.\n",
      "  return lax_numpy.astype(arr, dtype, copy=copy, device=device)\n",
      "/home/jesse/mambaforge/envs/laos-climate-change/lib/python3.11/site-packages/jax/_src/numpy/array_methods.py:68: UserWarning: Explicitly requested dtype float64 requested in astype is not available, and will be truncated to dtype float32. To enable more dtypes, set the jax_enable_x64 configuration option or the JAX_ENABLE_X64 shell environment variable. See https://github.com/google/jax#current-gotchas for more.\n",
      "  return lax_numpy.astype(arr, dtype, copy=copy, device=device)\n",
      "/home/jesse/mambaforge/envs/laos-climate-change/lib/python3.11/site-packages/jax/_src/numpy/array_methods.py:68: UserWarning: Explicitly requested dtype float64 requested in astype is not available, and will be truncated to dtype float32. To enable more dtypes, set the jax_enable_x64 configuration option or the JAX_ENABLE_X64 shell environment variable. See https://github.com/google/jax#current-gotchas for more.\n",
      "  return lax_numpy.astype(arr, dtype, copy=copy, device=device)\n",
      "/home/jesse/mambaforge/envs/laos-climate-change/lib/python3.11/site-packages/jax/_src/numpy/array_methods.py:68: UserWarning: Explicitly requested dtype float64 requested in astype is not available, and will be truncated to dtype float32. To enable more dtypes, set the jax_enable_x64 configuration option or the JAX_ENABLE_X64 shell environment variable. See https://github.com/google/jax#current-gotchas for more.\n",
      "  return lax_numpy.astype(arr, dtype, copy=copy, device=device)\n"
     ]
    },
    {
     "name": "stderr",
     "output_type": "stream",
     "text": [
      "sample: 100%|███████████████████████████████████████████████████████████████████████| 1500/1500 [49:32<00:00,  1.98s/it]\n",
      "/home/jesse/mambaforge/envs/laos-climate-change/lib/python3.11/site-packages/pytensor/link/jax/dispatch/tensor_basic.py:174: UserWarning: Explicitly requested dtype int64 requested in array is not available, and will be truncated to dtype int32. To enable more dtypes, set the jax_enable_x64 configuration option or the JAX_ENABLE_X64 shell environment variable. See https://github.com/google/jax#current-gotchas for more.\n",
      "  return jnp.array(x, dtype=op.dtype)\n",
      "/home/jesse/mambaforge/envs/laos-climate-change/lib/python3.11/site-packages/jax/_src/numpy/array_methods.py:68: UserWarning: Explicitly requested dtype float64 requested in astype is not available, and will be truncated to dtype float32. To enable more dtypes, set the jax_enable_x64 configuration option or the JAX_ENABLE_X64 shell environment variable. See https://github.com/google/jax#current-gotchas for more.\n",
      "  return lax_numpy.astype(arr, dtype, copy=copy, device=device)\n",
      "/home/jesse/mambaforge/envs/laos-climate-change/lib/python3.11/site-packages/jax/_src/interpreters/mlir.py:930: UserWarning: Some donated buffers were not usable: ShapedArray(float32[4,500,150]).\n",
      "See an explanation at https://jax.readthedocs.io/en/latest/faq.html#buffer-donation.\n",
      "  warnings.warn(\"Some donated buffers were not usable:\"\n",
      "The rhat statistic is larger than 1.01 for some parameters. This indicates problems during sampling. See https://arxiv.org/abs/1903.08008 for details\n",
      "The effective sample size per chain is smaller than 100 for some parameters.  A higher number is needed for reliable rhat and ess computation. See https://arxiv.org/abs/1903.08008 for details\n"
     ]
    }
   ],
   "source": [
    "floatX = pytensor.config.floatX\n",
    "\n",
    "with pm.Model(coords=coords_2) as HSGP_full_model:\n",
    "    #Declare data\n",
    "    geographic_data, Y = add_data(features= distance_features_2,  \n",
    "                                  target = \"is_disaster\", \n",
    "                                  df = model_data, \n",
    "                                  dims=['obs_idx', 'features'])\n",
    "    economic_data = add_data(features = time_varying_features_2,  \n",
    "                             target = None, \n",
    "                             df = model_data, \n",
    "                             name='time_varying',\n",
    "                             dims=['obs_idx', 'time_varying_features'])\n",
    "    \n",
    "    X_gp = pm.Data(\"X_gp\", model_data[[\"lat\", \"long\"]].astype(floatX), \n",
    "                   dims=['obs_idx', 'gp_feature'])\n",
    "    iso_idx_pt = pm.Data('ISO_idx', ISO_idx, dims=['obs_idx'])\n",
    "\n",
    "    #Country effect\n",
    "#     country_effect = pm.Normal(\"country_effect\", mu = 0, sigma =1, dims = [\"ISO\"])\n",
    "    country_effect = add_country_effect()\n",
    "\n",
    "    #Betas\n",
    "    geographic_betas = pm.Normal(\"geographic_betas\", mu = 0, sigma = 1, dims = [\"distance_features\"])\n",
    "    economic_betas = pm.Normal(\"economic_betas\", mu = 0, sigma = 1, dims = [\"time_varying_features\"])\n",
    "\n",
    "    # Prior on the HSGP\n",
    "    eta = pm.Exponential(\"eta\", scale=2.0)\n",
    "    ell_params = pm.find_constrained_prior(\n",
    "        pm.Lognormal, lower=0.5, upper=10.0, mass=0.95, init_guess={\"mu\": 1.0, \"sigma\": 1.0}\n",
    "    )\n",
    "    ell = pm.Lognormal(\"ell\", **ell_params, dims=[\"gp_feature\"])\n",
    "    cov_func = eta**2 * pm.gp.cov.Matern52(input_dim=2, ls=ell)\n",
    "\n",
    "    m0, m1, c = 20, 20, 1.5\n",
    "    gp = pm.gp.HSGP(m=[m0, m1], c=c, cov_func=cov_func)\n",
    "\n",
    "    phi, sqrt_psd = gp.prior_linearized(X=X_gp)\n",
    "\n",
    "    basis_coeffs = pm.Normal(\"basis_coeffs\", size=gp.n_basis_vectors)\n",
    "#     HSGP_component = pm.Deterministic(\"HSGP_component\", (phi * (basis_coeffs * sqrt_psd).sum(axis=-1)).sum(axis=-1), dims=['obs_idx'])\n",
    "#     geographic_component = pm.Deterministic('geographic_component', (geographic_data * geographic_betas).sum(axis=-1), dims=['obs_idx'])\n",
    "#     economic_component = pm.Deterministic('economic_component', (economic_data * economic_betas).sum(axis=-1), dims=['obs_idx'])\n",
    "    HSGP_component = phi @ (basis_coeffs * sqrt_psd)\n",
    "    geographic_component = geographic_data @ geographic_betas\n",
    "    economic_component = economic_data @ economic_betas\n",
    "    \n",
    "    #Model mu\n",
    "#     logit_p = pm.Deterministic('logit_p', country_effect[iso_idx_pt] + geographic_component + economic_component + HSGP_component, dims=['obs_idx'])\n",
    "    logit_p = country_effect[iso_idx_pt] + geographic_component + economic_component + HSGP_component\n",
    "\n",
    "    y_hat = pm.Bernoulli('y_hat', logit_p = logit_p, observed=Y, dims='obs_idx')\n",
    "    HSGP_full_model_ord_flow_idata = pm.sample(nuts_sampler='numpyro', \n",
    "                      nuts_sampler_kwargs={'chain_method':'vectorized'},\n",
    "                      chains=4, \n",
    "                      draws=500)"
   ]
  },
  {
   "cell_type": "code",
   "execution_count": null,
   "id": "e36b5a33-b92c-4542-b023-50cdc1c06e54",
   "metadata": {},
   "outputs": [],
   "source": [
    "# from pymc.model.transform.optimization import freeze_dims_and_data\n",
    "# compiled_model = nutpie.compile_pymc_model(freeze_dims_and_data(HSGP_full_model), backend=\"jax\", gradient_backend='jax')\n",
    "# HSGP_full_model_idata = nutpie.sample(compiled_model)"
   ]
  },
  {
   "cell_type": "code",
   "execution_count": null,
   "id": "8f58978f-1986-4d8d-89d0-8a4adcf2a9c9",
   "metadata": {},
   "outputs": [],
   "source": [
    "#Save the idata\n",
    "az.to_netcdf(data = HSGP_full_model_ord_flow_idata, filename= pathlib.Path(\"HSGP_full_model_ord_flow_idata\"))"
   ]
  },
  {
   "cell_type": "code",
   "execution_count": null,
   "id": "975b1e39-1a45-418b-a04b-b654c7437c57",
   "metadata": {},
   "outputs": [],
   "source": [
    "az.plot_energy(HSGP_full_model_ord_flow_idata);"
   ]
  },
  {
   "cell_type": "code",
   "execution_count": null,
   "id": "1694a491-f280-4f67-9f43-260e169d4da2",
   "metadata": {},
   "outputs": [],
   "source": [
    "print(az.summary(HSGP_full_model_ord_flow_idata, var_names=[ 'geographic_betas', 'economic_betas', 'eta', 'ell']).to_string())"
   ]
  },
  {
   "cell_type": "code",
   "execution_count": null,
   "id": "aaacc513-2c99-44ca-8503-5faf02a5a58a",
   "metadata": {},
   "outputs": [],
   "source": [
    "az.plot_trace(HSGP_full_model_ord_flow_idata, var_names=[ 'geographic_betas', 'economic_betas', 'eta', 'ell']);"
   ]
  },
  {
   "cell_type": "markdown",
   "id": "b336d438-6b20-4002-9279-23be8705cec6",
   "metadata": {},
   "source": [
    "# Lao Predictions"
   ]
  },
  {
   "cell_type": "code",
   "execution_count": null,
   "id": "55a7b118",
   "metadata": {},
   "outputs": [],
   "source": [
    "laos_grid_2d = np.array(laos_points[[\"lat\", \"lon\"]])"
   ]
  },
  {
   "cell_type": "code",
   "execution_count": null,
   "id": "e5ef7a97",
   "metadata": {},
   "outputs": [],
   "source": [
    "laos_data_by_year = model_df_2.query('ISO == \"LAO\"')[time_varying_features_2 + ['Start_Year']].drop_duplicates().set_index('Start_Year').sort_index()"
   ]
  },
  {
   "cell_type": "code",
   "execution_count": null,
   "id": "3c2e272e",
   "metadata": {},
   "outputs": [],
   "source": [
    "ref_year = '2020'\n",
    "laos_idx = ISO.tolist().index('LAO')\n",
    "laos_points = laos_points.assign(ISO = 'LAO', Start_Year = f'{ref_year}-01-01', is_disaster=0)\n",
    "laos_points = laos_points.rename(columns={'lon':'long'})\n",
    "\n",
    "laos_data_by_year.loc[ref_year]\n",
    "for col in time_varying_features_2:\n",
    "    laos_points[col] = laos_data_by_year.loc[ref_year, col].item()\n"
   ]
  },
  {
   "cell_type": "code",
   "execution_count": null,
   "id": "dee9e225",
   "metadata": {},
   "outputs": [],
   "source": [
    "laos_plot_data = pd.DataFrame(pipeline.transform(laos_points),\n",
    "                              index=laos_points.index,\n",
    "                              columns=[x.split('__')[-1] for x in pipeline.get_feature_names_out()])"
   ]
  },
  {
   "cell_type": "code",
   "execution_count": null,
   "id": "4886d744",
   "metadata": {},
   "outputs": [],
   "source": [
    "def compute_center(X):\n",
    "    return (pt.max(X, axis=0) + pt.min(X, axis=0)).eval() / 2"
   ]
  },
  {
   "cell_type": "code",
   "execution_count": null,
   "id": "2e635439",
   "metadata": {},
   "outputs": [],
   "source": [
    "from copy import deepcopy\n",
    "from pymc.model.transform.optimization import freeze_dims_and_data\n",
    "plot_coords = deepcopy(coords_2)\n",
    "plot_coords['obs_idx'] = np.arange(laos_plot_data.shape[0])\n",
    "\n",
    "with pm.Model(coords=plot_coords) as HSGP_full_model_plot:\n",
    "    geographic_data = add_data(features= distance_features_2 ,  target = None, df =  laos_plot_data, dims=['obs_idx', 'features'])\n",
    "    economic_data = add_data(features = time_varying_features_2 ,  target = None, df =  laos_plot_data, name='time_varying', dims=['obs_idx', 'time_varying_features'])\n",
    "    X_gp = pm.Data(\"X_gp\", laos_plot_data[[\"lat\", \"long\"]].astype(floatX), dims=['obs_idx', 'gp_feature'])\n",
    "\n",
    "    #Country effect\n",
    "    country_effect = pm.Flat(\"country_effect\", dims = [\"ISO\"])    \n",
    "\n",
    "    #Betas\n",
    "    geographic_betas = pm.Flat(\"geographic_betas\", dims = [\"distance_features\"])\n",
    "    economic_betas = pm.Flat(\"economic_betas\", dims = [\"time_varying_features\"])\n",
    "\n",
    "    # Prior on the HSGP\n",
    "    eta = pm.Flat(\"eta\")\n",
    "    ell = pm.Flat(\"ell\", dims=[\"gp_feature\"])\n",
    "    cov_func = eta**2 * pm.gp.cov.Matern52(input_dim=2, ls=ell)\n",
    "\n",
    "    m0, m1, c = 20, 20, 1.5\n",
    "    gp = pm.gp.HSGP(m=[m0, m1], c=c, cov_func=cov_func)\n",
    "    gp._X_center = compute_center(model_data[[\"lat\", \"long\"]].astype(floatX))\n",
    "\n",
    "    phi, sqrt_psd = gp.prior_linearized(X=X_gp)\n",
    "\n",
    "    basis_coeffs = pm.Flat(\"basis_coeffs\", size=gp.n_basis_vectors)\n",
    "\n",
    "    HSGP_component = pm.Deterministic('HSGP_component', phi @ (basis_coeffs * sqrt_psd), dims=['obs_idx'])\n",
    "    geographic_component = pm.Deterministic('geographic_component', geographic_data @ geographic_betas, dims=['obs_idx'])\n",
    "    economic_component = pm.Deterministic('economic_component', economic_data @ economic_betas, dims=['obs_idx'])\n",
    "    \n",
    "    logit_p = pm.Deterministic('logit_p', country_effect[laos_idx] + geographic_component + economic_component + HSGP_component, dims=['obs_idx'])\n",
    "    p = pm.Deterministic('p', pm.math.invlogit(logit_p), dims=['obs_idx'])\n",
    "    \n",
    "    \n",
    "with freeze_dims_and_data(HSGP_full_model_plot):\n",
    "    idata_plot = pm.sample_posterior_predictive(HSGP_full_model_ord_flow_idata, extend_inferencedata=False, compile_kwargs={'mode':'JAX'},\n",
    "                                                var_names=['HSGP_component', 'geographic_component', 'economic_component', 'logit_p', 'p'])"
   ]
  },
  {
   "cell_type": "code",
   "execution_count": null,
   "id": "1972c697",
   "metadata": {},
   "outputs": [],
   "source": [
    "#Store df of predictions\n",
    "HSGP_full_model_predictions = idata_plot.posterior_predictive.mean(dim=(\"chain\", \"draw\")).to_dataframe()\n",
    "\n",
    "#Merge predictions with Laos points\n",
    "HSGP_full_model_predictions = pd.merge(HSGP_full_model_predictions, laos_points, \n",
    "                                       left_index=True, right_index=True,\n",
    "                                       how = \"left\")\n",
    "\n",
    "#Transform into geo Data Frame\n",
    "HSGP_full_model_predictions_geo = gpd.GeoDataFrame(\n",
    "                HSGP_full_model_predictions,\n",
    "    geometry=gpd.points_from_xy(HSGP_full_model_predictions[\"long\"],\n",
    "                                HSGP_full_model_predictions[\"lat\"]),crs=\"EPSG:4326\"\n",
    "            )"
   ]
  },
  {
   "cell_type": "code",
   "execution_count": null,
   "id": "7f6f2a52",
   "metadata": {},
   "outputs": [],
   "source": [
    "# with HSGP_full_model:\n",
    "#     pm.set_data({'X': laos_plot_data[distance_features_2].values.astype(float),\n",
    "#                  'Y': np.zeros(laos_plot_data.shape[0]),\n",
    "#                  'X_time_varying': laos_plot_data[time_varying_features_2].values.astype(float),\n",
    "#                  'X_gp': laos_plot_data[['lat', 'long']].astype(float).values,\n",
    "#                  'ISO_idx':np.full(laos_plot_data.shape[0], laos_idx)},\n",
    "#                 coords={'obs_idx': laos_plot_data.index.values})\n",
    "# with freeze_dims_and_data(HSGP_full_model):\n",
    "#     idata_laos = pm.sample_posterior_predictive(HSGP_full_model_idata, extend_inferencedata=False, compile_kwargs={'mode':'JAX'})"
   ]
  },
  {
   "cell_type": "code",
   "execution_count": null,
   "id": "989b3a69",
   "metadata": {},
   "outputs": [],
   "source": [
    "#Plot the predictions\n",
    "fig, ax = plt.subplots()\n",
    "HSGP_full_model_predictions_geo.plot(\"p\",legend=True, ax=ax)\n",
    "model_df_2.query('ISO == \"LAO\" & is_disaster == 1').plot.scatter(x='long', y='lat', ax=ax, c='tab:red', alpha=0.5)\n",
    "plt.title(\"Model prediction for Laos\", );"
   ]
  },
  {
   "cell_type": "code",
   "execution_count": null,
   "id": "6d430231",
   "metadata": {},
   "outputs": [],
   "source": [
    "from scipy.special import expit\n",
    "fig, ax = plt.subplots(1, 3, figsize=(14, 4))\n",
    "for name, axis in zip(['HSGP_component', 'economic_component', 'geographic_component'], fig.axes):\n",
    "    temp = expit(idata_plot.posterior_predictive[name]).mean(dim=['chain', 'draw']).to_dataframe()\n",
    "    temp = pd.merge(temp, laos_points, \n",
    "                                       left_index=True, right_index=True,\n",
    "                                       how = \"left\")\n",
    "\n",
    "    #Transform into geo Data Frame\n",
    "    temp = gpd.GeoDataFrame(\n",
    "                    temp,\n",
    "        geometry=gpd.points_from_xy(HSGP_full_model_predictions[\"long\"],\n",
    "                                    HSGP_full_model_predictions[\"lat\"]),crs=\"EPSG:4326\"\n",
    "                )\n",
    "    temp.plot(name, legend=True, ax=axis)\n",
    "    axis.set_title(name)\n",
    "    axis.axis('off')\n",
    "plt.show()"
   ]
  },
  {
   "cell_type": "markdown",
   "id": "d85989b2",
   "metadata": {},
   "source": [
    "# South-East Asis"
   ]
  },
  {
   "cell_type": "code",
   "execution_count": null,
   "id": "e3b61986",
   "metadata": {},
   "outputs": [],
   "source": [
    "sea_codes = ['BRN', 'KHM', 'IDN', 'LAO', 'MYS', 'MMR', 'PHL', 'SGP', 'THA', 'TLS', 'VNM']\n",
    "SEA = world.query('ISO_A3 in @sea_codes')\n",
    "sea_points = create_grid_from_shape(SEA, rivers, coastline, grid_size=200)"
   ]
  },
  {
   "cell_type": "code",
   "execution_count": null,
   "id": "3ad9ca0e",
   "metadata": {},
   "outputs": [],
   "source": [
    "ref_year = '2020'\n",
    "sea_points = sea_points.assign(Start_Year = pd.to_datetime(f'{ref_year}-01-01'), \n",
    "                               is_disaster=0,\n",
    "                               is_island = lambda x: x.ISO.apply(island_dict.get))\n",
    "sea_points_merged = pd.merge(sea_points, \n",
    "                             model_df_2[time_varying_features_2 + ['ISO', 'Start_Year']].drop_duplicates(), \n",
    "                             left_on=['ISO', 'Start_Year'],\n",
    "                             right_on=['ISO', 'Start_Year'],\n",
    "                             how='left')\n",
    "sea_points_merged = pd.DataFrame(pipeline.transform(sea_points_merged),\n",
    "                                 index=sea_points_merged.index,\n",
    "                                 columns=[x.split('__')[-1] for x in pipeline.get_feature_names_out()])\n",
    "sea_iso_idx = sea_points_merged.ISO.apply(lambda x: ISO.tolist().index(x) if x in ISO else None)\n",
    "missing = sea_iso_idx.isna()\n",
    "sea_points_merged = sea_points_merged.loc[~missing]\n",
    "sea_iso_idx = sea_iso_idx[~missing].astype(int)\n",
    "# for col in time_varying_features_2:\n",
    "#     laos_points[col] = laos_data_by_year.loc[ref_year, col].item()\n",
    "\n",
    "# laos_points = laos_points.assign(ISO = 'LAO', Start_Year = f'{ref_year}-01-01', is_disaster=0)\n",
    "# laos_points = laos_points.rename(columns={'lon':'long'})\n",
    "\n",
    "# laos_data_by_year.loc[ref_year]\n",
    "# for col in time_varying_features_2:\n",
    "#     laos_points[col] = laos_data_by_year.loc[ref_year, col].item()\n"
   ]
  },
  {
   "cell_type": "code",
   "execution_count": null,
   "id": "fc2ae296-51e0-4000-bd93-543d0bf13618",
   "metadata": {},
   "outputs": [],
   "source": [
    "from copy import deepcopy\n",
    "from pymc.model.transform.optimization import freeze_dims_and_data\n",
    "plot_coords = deepcopy(coords_2)\n",
    "plot_coords['obs_idx'] = np.arange(sea_points_merged.shape[0])\n",
    "\n",
    "with pm.Model(coords=plot_coords) as HSGP_full_model_plot:\n",
    "    geographic_data = add_data(features= distance_features_2 ,  target = None, df =  sea_points_merged, dims=['obs_idx', 'features'])\n",
    "    economic_data = add_data(features = time_varying_features_2 ,  target = None, df =  sea_points_merged, name='time_varying', dims=['obs_idx', 'time_varying_features'])\n",
    "    X_gp = pm.Data(\"X_gp\", sea_points_merged[[\"lat\", \"long\"]].astype(floatX), dims=['obs_idx', 'gp_feature'])\n",
    "    iso_idx_pt = pm.Data('iso_idx_pt', sea_iso_idx.values, dims=['obs_idx'])\n",
    "    \n",
    "    #Country effect\n",
    "    country_effect = pm.Flat(\"country_effect\", dims = [\"ISO\"])    \n",
    "\n",
    "    #Betas\n",
    "    geographic_betas = pm.Flat(\"geographic_betas\", dims = [\"distance_features\"])\n",
    "    economic_betas = pm.Flat(\"economic_betas\", dims = [\"time_varying_features\"])\n",
    "\n",
    "    # Prior on the HSGP\n",
    "    eta = pm.Flat(\"eta\")\n",
    "    ell = pm.Flat(\"ell\", dims=[\"gp_feature\"])\n",
    "    cov_func = eta**2 * pm.gp.cov.Matern52(input_dim=2, ls=ell)\n",
    "\n",
    "    m0, m1, c = 20, 20, 1.5\n",
    "    gp = pm.gp.HSGP(m=[m0, m1], c=c, cov_func=cov_func)\n",
    "    gp._X_center = compute_center(model_data[['lat', 'long']].values.astype(floatX))\n",
    "\n",
    "    phi, sqrt_psd = gp.prior_linearized(X=X_gp)\n",
    "\n",
    "    basis_coeffs = pm.Flat(\"basis_coeffs\", size=gp.n_basis_vectors)\n",
    "\n",
    "    HSGP_component = pm.Deterministic('HSGP_component', phi @ (basis_coeffs * sqrt_psd), dims=['obs_idx'])\n",
    "    geographic_component = pm.Deterministic('geographic_component', geographic_data @ geographic_betas, dims=['obs_idx'])\n",
    "    economic_component = pm.Deterministic('economic_component', economic_data @ economic_betas, dims=['obs_idx'])\n",
    "    \n",
    "    logit_p = pm.Deterministic('logit_p', country_effect[iso_idx_pt] + geographic_component + economic_component + HSGP_component, dims=['obs_idx'])\n",
    "    p = pm.Deterministic('p', pm.math.invlogit(logit_p), dims=['obs_idx'])\n",
    "\n",
    "with freeze_dims_and_data(HSGP_full_model_plot):\n",
    "    idata_plot_SEA = pm.sample_posterior_predictive(HSGP_full_model_ord_flow_idata, extend_inferencedata=False, compile_kwargs={'mode':'JAX'},\n",
    "                                                var_names=['HSGP_component', 'geographic_component', 'economic_component', 'logit_p', 'p'])"
   ]
  },
  {
   "cell_type": "code",
   "execution_count": null,
   "id": "03a90d77",
   "metadata": {},
   "outputs": [],
   "source": [
    "idx = xr.Coordinates.from_pandas_multiindex(pd.MultiIndex.from_frame(sea_points_merged[['long', 'lat']]), 'obs_idx')"
   ]
  },
  {
   "cell_type": "code",
   "execution_count": null,
   "id": "9bcc39fa",
   "metadata": {},
   "outputs": [],
   "source": [
    "# fig, ax = plt.subplots(figsize=(8, 8), dpi=144, subplot_kw={'aspect':'equal'})\n",
    "#Store df of predictions\n",
    "sea_preds = idata_plot_SEA.posterior_predictive.mean(dim=(\"chain\", \"draw\")).to_dataframe()\n",
    "\n",
    "#Merge predictions with Laos points\n",
    "sea_preds = pd.merge(sea_preds, sea_points_merged, \n",
    "                     left_index=True, right_index=True,\n",
    "                     how = \"left\")\n",
    "\n",
    "#Transform into geo Data Frame\n",
    "sea_preds_geo = gpd.GeoDataFrame(\n",
    "                sea_preds,\n",
    "    geometry=gpd.points_from_xy(sea_preds[\"long\"],\n",
    "                                sea_preds[\"lat\"]),crs=\"EPSG:4326\"\n",
    "            )\n",
    "\n",
    "fig, ax = plt.subplots(figsize=(8, 8), dpi=144, subplot_kw={'aspect':'equal'})\n",
    "sea_preds_geo.plot('p', legend=True, ax=ax, legend_kwds={'shrink':0.5})\n",
    "SEA.plot(facecolor='none', edgecolor='k', lw=2, ax=ax)\n",
    "data.query('is_disaster == 1 & ISO in @sea_codes').plot.scatter(x='long', y='lat', color='tab:red', alpha=0.05, ax=ax)\n",
    "ax.axis('off')\n",
    "plt.show()"
   ]
  },
  {
   "cell_type": "code",
   "execution_count": null,
   "id": "f6d9a085",
   "metadata": {},
   "outputs": [],
   "source": [
    "from scipy.special import expit\n",
    "fig, ax = plt.subplots(1, 3, figsize=(14, 4))\n",
    "for name, axis in zip(['HSGP_component', 'economic_component', 'geographic_component'], fig.axes):\n",
    "    temp = expit(idata_plot_SEA.posterior_predictive[name]).mean(dim=['chain', 'draw']).to_dataframe()\n",
    "    temp = pd.merge(temp, sea_points_merged, \n",
    "                                       left_index=True, right_index=True,\n",
    "                                       how = \"left\")\n",
    "\n",
    "    #Transform into geo Data Frame\n",
    "    temp = gpd.GeoDataFrame(\n",
    "                    temp,\n",
    "        geometry=gpd.points_from_xy(sea_points_merged[\"long\"],\n",
    "                                    sea_points_merged[\"lat\"]),crs=\"EPSG:4326\"\n",
    "                )\n",
    "    temp.plot(name, legend=True, ax=axis, markersize=8)\n",
    "    axis.set_title(name)\n",
    "    axis.axis('off')\n",
    "plt.show()"
   ]
  },
  {
   "cell_type": "code",
   "execution_count": null,
   "id": "449c63f6",
   "metadata": {},
   "outputs": [],
   "source": []
  }
 ],
 "metadata": {
  "kernelspec": {
   "display_name": "Python 3 (ipykernel)",
   "language": "python",
   "name": "python3"
  },
  "language_info": {
   "codemirror_mode": {
    "name": "ipython",
    "version": 3
   },
   "file_extension": ".py",
   "mimetype": "text/x-python",
   "name": "python",
   "nbconvert_exporter": "python",
   "pygments_lexer": "ipython3",
   "version": "3.12.5"
  }
 },
 "nbformat": 4,
 "nbformat_minor": 5
}
