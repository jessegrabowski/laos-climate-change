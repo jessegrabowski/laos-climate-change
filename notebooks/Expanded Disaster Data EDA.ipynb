{
 "cells": [
  {
   "metadata": {},
   "cell_type": "code",
   "outputs": [],
   "execution_count": null,
   "source": [
    "import os\n",
    "\n",
    "import sys \n",
    "from pyprojroot import here\n",
    "sys.path.insert(0, str(here()))\n",
    "\n",
    "import geopandas as gpd\n",
    "from laos_gggi import load_shapefile, load_rivers_data, load_disaster_point_data, load_synthetic_non_disaster_points\n",
    "from laos_gggi.data_functions.shapefiles_data_loader import create_laos_point_grid\n",
    "from laos_gggi.plotting import configure_plot_style\n",
    "\n",
    "import matplotlib.pyplot as plt\n",
    "\n",
    "configure_plot_style()"
   ],
   "id": "52defa6c62ad2c7c"
  },
  {
   "metadata": {},
   "cell_type": "code",
   "outputs": [],
   "execution_count": null,
   "source": "data = load_disaster_point_data()",
   "id": "18923afb3d0bae68"
  },
  {
   "metadata": {},
   "cell_type": "code",
   "outputs": [],
   "execution_count": null,
   "source": [
    "world = load_shapefile('world')\n",
    "laos = load_shapefile('laos')\n",
    "rivers = load_rivers_data()"
   ],
   "id": "3921aa00417aa7a5"
  },
  {
   "metadata": {},
   "cell_type": "code",
   "outputs": [],
   "execution_count": null,
   "source": [
    "fig, ax = plt.subplots(figsize=(14, 9), dpi=144)\n",
    "world.plot(facecolor='tab:blue', alpha=0.25, ax=ax)\n",
    "world.plot(facecolor='none', edgecolor='k', lw=0.25, ax=ax)\n",
    "rivers.plot(edgecolor='dodgerblue', lw=0.5, ax=ax)\n",
    "data.dropna(subset='disaster_class').plot('disaster_class', markersize=2, ax=ax, legend=True, cmap='Dark2')"
   ],
   "id": "97bcb403596fa6ba"
  },
  {
   "metadata": {},
   "cell_type": "code",
   "outputs": [],
   "execution_count": null,
   "source": "data.distance_to_river.plot.hist(bins=100, title='Distribution of Disaster Distance to Nearest River');",
   "id": "c119251b95dfa471"
  },
  {
   "metadata": {},
   "cell_type": "code",
   "outputs": [],
   "execution_count": null,
   "source": [
    "fig, ax = plt.subplots(figsize=(14, 9), dpi=144)\n",
    "world.plot(facecolor='tab:blue', alpha=0.25, ax=ax)\n",
    "world.plot(facecolor='none', edgecolor='k', lw=0.25, ax=ax)\n",
    "rivers.plot(edgecolor='dodgerblue', lw=0.5, ax=ax)\n",
    "data.dropna(subset='disaster_class').plot('distance_to_river', \n",
    "                                      markersize=2, \n",
    "                                      ax=ax, \n",
    "                                      legend=True, \n",
    "                                      cmap='viridis', \n",
    "                                      vmax=500, \n",
    "                                      legend_kwds={'shrink':0.5, 'label':'Distance to Nearest River (km)'})\n",
    "ax.axis('off')\n",
    "plt.show()"
   ],
   "id": "40fdf23023af2a80"
  },
  {
   "metadata": {},
   "cell_type": "code",
   "outputs": [],
   "execution_count": null,
   "source": "data.distance_to_coastline.plot.hist(bins=100, title='Distribution of Disaster Distance to Nearest Coastline');",
   "id": "1a55c947865ee7e7"
  },
  {
   "metadata": {},
   "cell_type": "code",
   "outputs": [],
   "execution_count": null,
   "source": [
    "fig, ax = plt.subplots(figsize=(14, 9), dpi=144)\n",
    "world.plot(facecolor='tab:blue', alpha=0.25, ax=ax)\n",
    "world.plot(facecolor='none', edgecolor='k', lw=0.25, ax=ax)\n",
    "rivers.plot(edgecolor='dodgerblue', lw=0.5, ax=ax)\n",
    "data.dropna(subset='disaster_class').plot('distance_to_coastline', \n",
    "                                      markersize=2, \n",
    "                                      ax=ax, \n",
    "                                      legend=True, \n",
    "                                      cmap='viridis', \n",
    "                                      vmax=500,\n",
    "                                      legend_kwds={'shrink':0.5, 'label':'Distance to Nearest Coastline (km)'})\n",
    "ax.axis('off')\n",
    "plt.show()"
   ],
   "id": "902206e38be13e5f"
  },
  {
   "metadata": {},
   "cell_type": "code",
   "outputs": [],
   "execution_count": null,
   "source": "island_dict = data.reset_index()[['ISO', 'is_island']].drop_duplicates().set_index('ISO')['is_island'].to_dict()",
   "id": "ce9d33c6f200fc09"
  },
  {
   "metadata": {},
   "cell_type": "code",
   "outputs": [],
   "execution_count": null,
   "source": [
    "fig, ax = plt.subplots(figsize=(14, 9), dpi=144)\n",
    "world.plot(facecolor='tab:blue', alpha=0.25, ax=ax)\n",
    "world.plot(facecolor='none', edgecolor='k', lw=0.25, ax=ax)\n",
    "rivers.plot(edgecolor='dodgerblue', lw=0.5, ax=ax)\n",
    "\n",
    "data.dropna(subset='disaster_class').plot('is_island', \n",
    "                                      markersize=2, \n",
    "                                      ax=ax, \n",
    "                                      legend=True, \n",
    "                                      categorical=True,\n",
    "                                      cmap='viridis')\n",
    "ax.axis('off')\n",
    "plt.show()"
   ],
   "id": "96acb82f6bb1462"
  },
  {
   "metadata": {},
   "cell_type": "markdown",
   "source": [
    "# Synthetic Data\n",
    "\n",
    "Create a bunch of dummy datapoints with geospatial features. These will be non-disasters. The model will need to distinguish the real disaster data from these fake points."
   ],
   "id": "9c7818f84ac96172"
  },
  {
   "metadata": {},
   "cell_type": "code",
   "outputs": [],
   "execution_count": null,
   "source": "not_disasters = load_synthetic_non_disaster_points()",
   "id": "45cf1a83e05e1b4a"
  },
  {
   "metadata": {},
   "cell_type": "code",
   "outputs": [],
   "execution_count": null,
   "source": [
    "fig, ax = plt.subplots()\n",
    "not_disasters.plot(alpha=0.05, ax=ax)\n",
    "data.plot(color='tab:red', ax=ax, alpha=0.05)\n",
    "ax.axis('off')\n",
    "plt.show()"
   ],
   "id": "aa6c3c326aa5dca9"
  },
  {
   "metadata": {},
   "cell_type": "markdown",
   "source": "# Laos EDA",
   "id": "3166d089773f9b29"
  },
  {
   "metadata": {},
   "cell_type": "code",
   "outputs": [],
   "execution_count": null,
   "source": "laos_grid = create_laos_point_grid()",
   "id": "e5e495a61435d57"
  },
  {
   "metadata": {},
   "cell_type": "code",
   "outputs": [],
   "execution_count": null,
   "source": [
    "fig, ax = plt.subplots(1, 3,)\n",
    "laos.plot(ax=ax[0], facecolor='none', edgecolor='k', lw=0.25)\n",
    "gpd.sjoin(rivers, laos.dissolve(), predicate='within').plot(ax=ax[0], lw=3)\n",
    "ax[0].set_title('Map of Lao with Rivers')\n",
    "\n",
    "laos_grid.plot('distance_to_river', ax=ax[1], cmap='Blues_r')\n",
    "ax[1].set_title('Distance to River (lighter = Further)')\n",
    "\n",
    "laos_grid.plot('distance_to_coastline', ax=ax[2], cmap='Blues_r')\n",
    "ax[2].set_title('Distance to Coastline (lighter = Further)')\n",
    "\n",
    "[axis.axis('off') for axis in ax]\n",
    "plt.show()"
   ],
   "id": "8c5c3f9348951032"
  },
  {
   "metadata": {},
   "cell_type": "code",
   "outputs": [],
   "execution_count": null,
   "source": [
    "%%capture\n",
    "try:\n",
    "    from adjustText import adjust_text\n",
    "except ImportError:\n",
    "    !pip install adjustText\n",
    "    from adjustText import adjust_text"
   ],
   "id": "86288e06863204fe"
  },
  {
   "metadata": {},
   "cell_type": "code",
   "outputs": [],
   "execution_count": null,
   "source": [
    "fig, ax = plt.subplots(figsize=(9, 9), dpi=144, subplot_kw={'aspect':'equal'})\n",
    "laos.plot(ax=ax, facecolor='none', edgecolor='k', lw=0.25)\n",
    "\n",
    "laos_disaster_points = gpd.sjoin(data, laos.dissolve(), predicate='within')\n",
    "laos_disaster_points.plot('Disaster Type', ax=ax, legend=True)\n",
    "texts = []\n",
    "for idx, point in laos_disaster_points.iterrows():\n",
    "    text = ax.text(point.long, point.lat, point.Start_Year.year, fontsize=8, ha='center', va='center')\n",
    "    texts.append(text)\n",
    "    \n",
    "adjust_text(texts, arrowprops=dict(arrowstyle='->', color='k'), force_text=(0.2, 0.3))\n",
    "ax.axis('off')\n",
    "ax.set_title('Disasters Recorded in Laos')"
   ],
   "id": "f1112837271f4b0f"
  }
 ],
 "metadata": {
  "kernelspec": {
   "display_name": "Python 3 (ipykernel)",
   "language": "python",
   "name": "python3"
  },
  "language_info": {
   "codemirror_mode": {
    "name": "ipython",
    "version": 3
   },
   "file_extension": ".py",
   "mimetype": "text/x-python",
   "name": "python",
   "nbconvert_exporter": "python",
   "pygments_lexer": "ipython3",
   "version": "3.12.5"
  }
 },
 "nbformat": 4,
 "nbformat_minor": 5
}
