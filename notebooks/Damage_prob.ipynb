{
 "cells": [
  {
   "cell_type": "code",
   "execution_count": 1,
   "id": "86508348-b9f0-4222-be06-0ec17328e9b1",
   "metadata": {},
   "outputs": [],
   "source": [
    "import sys\n",
    "sys.path.append(\"..\")\n",
    "\n",
    "import pandas as pd\n",
    "import numpy as np\n",
    "import os\n",
    "from os.path import exists\n",
    "\n",
    "import pymc as pm\n",
    "import pytensor\n",
    "import pytensor.tensor as pt\n",
    "import matplotlib.pyplot as plt\n",
    "import arviz as az\n",
    "\n"
   ]
  },
  {
   "cell_type": "code",
   "execution_count": 2,
   "id": "05b1aeca-12f9-4cc1-8215-4214271406de",
   "metadata": {},
   "outputs": [],
   "source": [
    "#Display configuration\n",
    "config = {\n",
    "    'figure.figsize':(14,4),\n",
    "    'figure.constrained_layout.use':True,\n",
    "    'figure.facecolor':'w',\n",
    "    'axes.grid':True,\n",
    "    'grid.linewidth':0.5,\n",
    "    'grid.linestyle':'--',\n",
    "    'axes.spines.top':False,\n",
    "    'axes.spines.bottom':False,\n",
    "    'axes.spines.left':False,\n",
    "    'axes.spines.right':False\n",
    "}\n",
    "\n",
    "plt.rcParams.update(config)"
   ]
  },
  {
   "cell_type": "code",
   "execution_count": 3,
   "id": "46599e04-ebb3-4b15-968b-1e1f36d672da",
   "metadata": {},
   "outputs": [],
   "source": [
    "SEED = sum(list(map(ord, 'climate_bayes')))\n",
    "rng = np.random.default_rng(SEED)"
   ]
  },
  {
   "cell_type": "code",
   "execution_count": 4,
   "id": "056082ed-249e-4925-9349-ed395683439f",
   "metadata": {},
   "outputs": [],
   "source": [
    "from laos_gggi.combine_data import final_data"
   ]
  },
  {
   "cell_type": "markdown",
   "id": "5a1b3dc2-6475-4901-a412-89a198d6a188",
   "metadata": {},
   "source": [
    "# Data"
   ]
  },
  {
   "cell_type": "markdown",
   "id": "123e529f-c2a8-4256-bddb-06a7d0d51c57",
   "metadata": {},
   "source": [
    "### Climate Data"
   ]
  },
  {
   "cell_type": "code",
   "execution_count": 31,
   "id": "63dd306c-3cd6-4d3d-a5e3-8fff7b326a49",
   "metadata": {},
   "outputs": [],
   "source": [
    "#Loading data\n",
    "data = final_data()\n",
    "\n",
    "df_clim = data[\"df_time_series\"][['co2', 'Temp']]\n",
    "\n",
    "#Drop NaN\n",
    "df_clim = df_clim.dropna()"
   ]
  },
  {
   "cell_type": "code",
   "execution_count": 32,
   "id": "0eb4dc55-d714-4882-a682-89b2fd4a70e4",
   "metadata": {},
   "outputs": [],
   "source": [
    "#Normalize variables\n",
    "df_clim_norm = 100*(df_clim - df_clim.mean())/df_clim.std()"
   ]
  },
  {
   "cell_type": "markdown",
   "id": "dfcaf73f-fdde-401b-9497-3480a9f2fa6c",
   "metadata": {},
   "source": [
    "### EM-DAT data"
   ]
  },
  {
   "cell_type": "code",
   "execution_count": 35,
   "id": "d83f5935-033f-4f4d-bc53-ea939ceb114b",
   "metadata": {},
   "outputs": [],
   "source": [
    "emdat_events = data[\"emdat_events\"]\n",
    "emdat_damage = data[\"emdat_damage\"]"
   ]
  }
 ],
 "metadata": {
  "kernelspec": {
   "display_name": "Python 3 (ipykernel)",
   "language": "python",
   "name": "python3"
  },
  "language_info": {
   "codemirror_mode": {
    "name": "ipython",
    "version": 3
   },
   "file_extension": ".py",
   "mimetype": "text/x-python",
   "name": "python",
   "nbconvert_exporter": "python",
   "pygments_lexer": "ipython3",
   "version": "3.12.3"
  }
 },
 "nbformat": 4,
 "nbformat_minor": 5
}
