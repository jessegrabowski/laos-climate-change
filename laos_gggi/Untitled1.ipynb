{
 "cells": [
  {
   "cell_type": "code",
   "execution_count": 5,
   "id": "11e37849-9594-4234-9883-1188128fbb30",
   "metadata": {},
   "outputs": [],
   "source": [
    "import os\n",
    "from os.path import exists\n",
    "from urllib.request import urlretrieve\n",
    "\n",
    "world_url = \"https://datacatalogfiles.worldbank.org/ddh-published/0038272/DR0046659/wb_countries_admin0_10m.zip?versionId=2024-05-14T14:58:01.5696428Z\"\n",
    "world_filename = \"wb_countries_admin0_10m.zip\"\n",
    "laos_url = \"https://data.humdata.org/dataset/9eb6aff1-9e3f-43d3-99a6-f415fe4b4dff/resource/1d6edf99-5303-4b31-8909-dd70cda78443/download/lao_adm_ngd_20191112_shp.zip\"\n",
    "laos_filename = \"lao_adm_ngd_20191112_shp.zip\"\n",
    "\n",
    "\n",
    "def download_shapefile(\n",
    "    which, output_path=\"../laos-climate-change/data/shapefiles\"\n",
    "):\n",
    "    if which == \"Laos\":\n",
    "        url = laos_url\n",
    "        filename = laos_filename\n",
    "        path_to_file = output_path + \"/\" + filename\n",
    "    elif which == \"world\":\n",
    "        url = world_url\n",
    "        filename = world_filename\n",
    "        path_to_file = output_path + \"/\" + filename\n",
    "    else:\n",
    "        raise NotImplementedError()\n",
    "\n",
    "    if not exists(output_path):\n",
    "        os.makedirs(output_path)\n",
    "\n",
    "    if not exists(path_to_file):\n",
    "        urlretrieve(url, filename)"
   ]
  },
  {
   "cell_type": "code",
   "execution_count": 7,
   "id": "1000e1f6-5476-4feb-abc5-83fddb96b798",
   "metadata": {},
   "outputs": [],
   "source": [
    "download_shapefile(\"Laos\")"
   ]
  },
  {
   "cell_type": "code",
   "execution_count": null,
   "id": "5688a62d-029b-4f30-9ce3-3d1b164ebadf",
   "metadata": {},
   "outputs": [],
   "source": []
  }
 ],
 "metadata": {
  "kernelspec": {
   "display_name": "Python 3 (ipykernel)",
   "language": "python",
   "name": "python3"
  },
  "language_info": {
   "codemirror_mode": {
    "name": "ipython",
    "version": 3
   },
   "file_extension": ".py",
   "mimetype": "text/x-python",
   "name": "python",
   "nbconvert_exporter": "python",
   "pygments_lexer": "ipython3",
   "version": "3.11.9"
  }
 },
 "nbformat": 4,
 "nbformat_minor": 5
}
